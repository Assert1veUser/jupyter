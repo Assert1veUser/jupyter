{
 "cells": [
  {
   "cell_type": "markdown",
   "id": "54abc220",
   "metadata": {},
   "source": [
    "## Лабораторная №1\n",
    "### Тема: 1.1.2 Вычисление среднего значения элементов вектора\n",
    "#### Язык программирование: python\n",
    "#### Среда разработки: Jupyter Notebook"
   ]
  },
  {
   "attachments": {
    "image.png": {
     "image/png": "[encoded data removed]"
    }
   },
   "cell_type": "markdown",
   "id": "5b5e1c97",
   "metadata": {},
   "source": [
    "Среднее значение элементов вектора вычисляется согласно выражению:\n",
    "![image.png](attachment:image.png)\n",
    ", и сводится, тем самым, к незначительному усложнению задачи суммирования элементов вектора"
   ]
  },
  {
   "cell_type": "markdown",
   "id": "2b9baae1",
   "metadata": {},
   "source": [
    "### Реализация задания на языку python"
   ]
  },
  {
   "cell_type": "markdown",
   "id": "ecdc2104",
   "metadata": {},
   "source": [
    "#### Решение задчи с помощью использования формулы, описанной в задании"
   ]
  },
  {
   "cell_type": "markdown",
   "id": "9f65d076",
   "metadata": {},
   "source": [
    "Пусть у нас есть одномерный массив, содержащий 8 чисел"
   ]
  },
  {
   "cell_type": "code",
   "execution_count": 53,
   "id": "13a96363",
   "metadata": {},
   "outputs": [],
   "source": [
    "arr = [20, 2, 7, 1, 34, 5, 15, 4]"
   ]
  },
  {
   "cell_type": "markdown",
   "id": "d3fbe1e4",
   "metadata": {},
   "source": [
    "Опишем выражение для нахождения среденего значения для элементов вектора. Для этого создадим функцию \"average_sum\", которая на вход принимает массив значений. Объявим и инициализируем переменные \"summ\" и \"n\". Переменная \"summ\" будет хранится сумма чисел массиива. Переменная \"n\" выступает в роли счетчика, для подсчета длины массива. После завершения цикла \"for...\" переменной \"x\" присвивается частное от деления суммы всех элементов массива(summ) на количество всех элементов массива(n), что и является средним значением элементов вектора."
   ]
  },
  {
   "cell_type": "code",
   "execution_count": 54,
   "id": "49f7aec1",
   "metadata": {},
   "outputs": [],
   "source": [
    "def average_sum(arr):\n",
    "    summ = 0\n",
    "    n = 0\n",
    "    for i in arr:\n",
    "        n += 1\n",
    "        summ = summ + i\n",
    "    x = summ/n\n",
    "    return x"
   ]
  },
  {
   "cell_type": "markdown",
   "id": "8c0b8891",
   "metadata": {},
   "source": [
    "Выводим полученное среднее значение"
   ]
  },
  {
   "cell_type": "code",
   "execution_count": 55,
   "id": "6fd170c9",
   "metadata": {},
   "outputs": [
    {
     "name": "stdout",
     "output_type": "stream",
     "text": [
      "11.0\n"
     ]
    }
   ],
   "source": [
    "print(average_sum(arr))"
   ]
  },
  {
   "cell_type": "markdown",
   "id": "fab5ab78",
   "metadata": {},
   "source": [
    "#### Решение задачи с помощью встроенной бибилиотеки np.mean()"
   ]
  },
  {
   "cell_type": "markdown",
   "id": "75711082",
   "metadata": {},
   "source": [
    "Пусть у нас есть одномерный массив, содержащий 8 чисел"
   ]
  },
  {
   "cell_type": "code",
   "execution_count": 56,
   "id": "05d3d63d",
   "metadata": {},
   "outputs": [],
   "source": [
    "arr_mean = [20, 2, 7, 1, 34, 5, 15, 4]"
   ]
  },
  {
   "cell_type": "markdown",
   "id": "cb1bfc0b",
   "metadata": {},
   "source": [
    "Поситаем и выведем среднее значение с помощью библиотеки \"np.mean\""
   ]
  },
  {
   "cell_type": "code",
   "execution_count": 57,
   "id": "b0adf837",
   "metadata": {},
   "outputs": [
    {
     "name": "stdout",
     "output_type": "stream",
     "text": [
      "11.0\n"
     ]
    }
   ],
   "source": [
    "import numpy as np\n",
    "print(np.mean(arr_mean))"
   ]
  },
  {
   "cell_type": "code",
   "execution_count": 52,
   "id": "a3a20f12",
   "metadata": {},
   "outputs": [
    {
     "ename": "TypeError",
     "evalue": "'int' object is not callable",
     "output_type": "error",
     "traceback": [
      "\u001B[1;31m---------------------------------------------------------------------------\u001B[0m",
      "\u001B[1;31mTypeError\u001B[0m                                 Traceback (most recent call last)",
      "Cell \u001B[1;32mIn[52], line 2\u001B[0m\n\u001B[0;32m      1\u001B[0m arr \u001B[38;5;241m=\u001B[39m [\u001B[38;5;241m20\u001B[39m, \u001B[38;5;241m2\u001B[39m, \u001B[38;5;241m7\u001B[39m, \u001B[38;5;241m1\u001B[39m, \u001B[38;5;241m34\u001B[39m, \u001B[38;5;241m5\u001B[39m, \u001B[38;5;241m15\u001B[39m, \u001B[38;5;241m4\u001B[39m]\n\u001B[1;32m----> 2\u001B[0m count_arr \u001B[38;5;241m=\u001B[39m \u001B[38;5;28;43mlen\u001B[39;49m\u001B[43m(\u001B[49m\u001B[43marr\u001B[49m\u001B[43m)\u001B[49m\n\u001B[0;32m      3\u001B[0m \u001B[38;5;28;01mdef\u001B[39;00m \u001B[38;5;21maverage_sum\u001B[39m(arr):\n\u001B[0;32m      4\u001B[0m     \u001B[38;5;28msum\u001B[39m \u001B[38;5;241m=\u001B[39m \u001B[38;5;241m0\u001B[39m              \n",
      "\u001B[1;31mTypeError\u001B[0m: 'int' object is not callable"
     ]
    }
   ],
   "source": [
    "arr = [20, 2, 7, 1, 34, 5, 15, 4]\n",
    "count_arr = len(arr)\n",
    "def average_sum(arr):\n",
    "    sum = 0              \n",
    "    for i in arr:\n",
    "        summ = summ + i  #+1 +1...+1 = 8\n",
    "    return summ/count_arr      #+1"
   ]
  },
  {
   "cell_type": "code",
   "execution_count": 7,
   "id": "4b357187",
   "metadata": {},
   "outputs": [
    {
     "ename": "TypeError",
     "evalue": "'int' object is not callable",
     "output_type": "error",
     "traceback": [
      "\u001B[1;31m---------------------------------------------------------------------------\u001B[0m",
      "\u001B[1;31mTypeError\u001B[0m                                 Traceback (most recent call last)",
      "Cell \u001B[1;32mIn[7], line 2\u001B[0m\n\u001B[0;32m      1\u001B[0m arr \u001B[38;5;241m=\u001B[39m [\u001B[38;5;241m20\u001B[39m, \u001B[38;5;241m2\u001B[39m, \u001B[38;5;241m7\u001B[39m, \u001B[38;5;241m1\u001B[39m, \u001B[38;5;241m34\u001B[39m, \u001B[38;5;241m5\u001B[39m, \u001B[38;5;241m15\u001B[39m, \u001B[38;5;241m4\u001B[39m]\n\u001B[1;32m----> 2\u001B[0m \u001B[38;5;28mlen\u001B[39m \u001B[38;5;241m=\u001B[39m \u001B[38;5;28;43mlen\u001B[39;49m\u001B[43m(\u001B[49m\u001B[43marr\u001B[49m\u001B[43m)\u001B[49m\n\u001B[0;32m      3\u001B[0m list_sum \u001B[38;5;241m=\u001B[39m []\n\u001B[0;32m      5\u001B[0m \u001B[38;5;28;01mdef\u001B[39;00m \u001B[38;5;21mexecution_seq\u001B[39m(p, count_p): \n",
      "\u001B[1;31mTypeError\u001B[0m: 'int' object is not callable"
     ]
    }
   ],
   "source": [
    "arr = [20, 2, 7, 1, 34, 5, 15, 4]\n",
    "len = len(arr)\n",
    "list_sum = []\n",
    "\n",
    "def execution_seq(p, count_p): \n",
    "    summ = 0\n",
    "    first_index = (count_p - 1) * len // p       #+3\n",
    "    last_index = count_p * len // p              #+2\n",
    "    for i in range(first_index, last_index):\n",
    "        summ += summ + i                         #+8\n",
    "    list_sum.append(summ)\n",
    "\n",
    "def execution_paral():\n",
    "    thread1 = Thread(execution_seq(2, 1))        #+13\n",
    "    thread2 = Thread(execution_seq(2, 2))        #+13\n",
    "    thread1.start() \n",
    "    thread2.start()\n",
    "    thread1.join()\n",
    "    thread2.join()\n",
    "    return (sum(list_sum) / len)                 #+2\n"
   ]
  },
  {
   "cell_type": "code",
   "execution_count": 6,
   "id": "7a0b0a9a",
   "metadata": {},
   "outputs": [
    {
     "ename": "TypeError",
     "evalue": "'int' object is not callable",
     "output_type": "error",
     "traceback": [
      "\u001B[1;31m---------------------------------------------------------------------------\u001B[0m",
      "\u001B[1;31mTypeError\u001B[0m                                 Traceback (most recent call last)",
      "Cell \u001B[1;32mIn[6], line 4\u001B[0m\n\u001B[0;32m      1\u001B[0m \u001B[38;5;28;01mfrom\u001B[39;00m \u001B[38;5;21;01mthreading\u001B[39;00m \u001B[38;5;28;01mimport\u001B[39;00m Thread\n\u001B[0;32m      3\u001B[0m arr \u001B[38;5;241m=\u001B[39m [\u001B[38;5;241m20\u001B[39m, \u001B[38;5;241m2\u001B[39m, \u001B[38;5;241m7\u001B[39m, \u001B[38;5;241m1\u001B[39m, \u001B[38;5;241m34\u001B[39m, \u001B[38;5;241m5\u001B[39m, \u001B[38;5;241m15\u001B[39m, \u001B[38;5;241m4\u001B[39m]\n\u001B[1;32m----> 4\u001B[0m \u001B[38;5;28mlen\u001B[39m \u001B[38;5;241m=\u001B[39m \u001B[38;5;28;43mlen\u001B[39;49m\u001B[43m(\u001B[49m\u001B[43marr\u001B[49m\u001B[43m)\u001B[49m\n\u001B[0;32m      5\u001B[0m list_sum1 \u001B[38;5;241m=\u001B[39m []\n\u001B[0;32m      6\u001B[0m list_sum2 \u001B[38;5;241m=\u001B[39m []\n",
      "\u001B[1;31mTypeError\u001B[0m: 'int' object is not callable"
     ]
    }
   ],
   "source": [
    "from threading import Thread\n",
    "\n",
    "arr = [20, 2, 7, 1, 34, 5, 15, 4]\n",
    "len = len(arr)\n",
    "list_sum1 = []\n",
    "list_sum2 = []\n",
    "\n",
    "def execution_seq(p, count_p): \n",
    "    summ = 0\n",
    "    first_index = (count_p - 1) * len // p       #+3\n",
    "    last_index = count_p * len // p              #+2\n",
    "    for i in range(first_index, last_index):\n",
    "        summ += summ + i                         #+4\n",
    "    list_sum1.append(summ)\n",
    "\n",
    "def execution_paral():\n",
    "    thread1 = threading.hread(execution_seq(4, 1))        #+9\n",
    "    thread2 = threading.hread(execution_seq(4, 2))        #+9\n",
    "    thread3 = threading.hread(execution_seq(4, 3))        #+9\n",
    "    thread4 = threading.hread(execution_seq(4, 4))        #+9\n",
    "    thread1.start() \n",
    "    thread2.start()\n",
    "    thread3.start()\n",
    "    thread4.start()\n",
    "    thread1.join()\n",
    "    thread2.join()\n",
    "    thread3.join()\n",
    "    thread4.join()\n",
    "    thread5 = threading.hread(list_sum2.append(list_sum1[0] + list_sum1[1]))        #+1\n",
    "    thread6 = threading.hread(list_sum2.append(list_sum1[2] + list_sum1[3]))        #+1\n",
    "    final_summ = list_sum2[0] + list_sum[1]                                #+1\n",
    "    return final_summ / len                                                #+1"
   ]
  },
  {
   "cell_type": "code",
   "execution_count": 4,
   "id": "db74c0a6",
   "metadata": {},
   "outputs": [
    {
     "ename": "NameError",
     "evalue": "name 'Thread' is not defined",
     "output_type": "error",
     "traceback": [
      "\u001B[1;31m---------------------------------------------------------------------------\u001B[0m",
      "\u001B[1;31mNameError\u001B[0m                                 Traceback (most recent call last)",
      "Cell \u001B[1;32mIn[4], line 1\u001B[0m\n\u001B[1;32m----> 1\u001B[0m \u001B[38;5;28mprint\u001B[39m(\u001B[43mexecution_paral\u001B[49m\u001B[43m(\u001B[49m\u001B[43m)\u001B[49m)\n",
      "Cell \u001B[1;32mIn[1], line 15\u001B[0m, in \u001B[0;36mexecution_paral\u001B[1;34m()\u001B[0m\n\u001B[0;32m     14\u001B[0m \u001B[38;5;28;01mdef\u001B[39;00m \u001B[38;5;21mexecution_paral\u001B[39m():\n\u001B[1;32m---> 15\u001B[0m     thread1 \u001B[38;5;241m=\u001B[39m \u001B[43mThread\u001B[49m(execution_seq(\u001B[38;5;241m4\u001B[39m, \u001B[38;5;241m1\u001B[39m))        \u001B[38;5;66;03m#+9\u001B[39;00m\n\u001B[0;32m     16\u001B[0m     thread2 \u001B[38;5;241m=\u001B[39m Thread(execution_seq(\u001B[38;5;241m4\u001B[39m, \u001B[38;5;241m2\u001B[39m))        \u001B[38;5;66;03m#+9\u001B[39;00m\n\u001B[0;32m     17\u001B[0m     thread3 \u001B[38;5;241m=\u001B[39m Thread(execution_seq(\u001B[38;5;241m4\u001B[39m, \u001B[38;5;241m3\u001B[39m))        \u001B[38;5;66;03m#+9\u001B[39;00m\n",
      "\u001B[1;31mNameError\u001B[0m: name 'Thread' is not defined"
     ]
    }
   ],
   "source": [
    "print(execution_paral())"
   ]
  },
  {
   "cell_type": "code",
   "execution_count": 62,
   "id": "3785c9e0",
   "metadata": {},
   "outputs": [
    {
     "ename": "ValueError",
     "evalue": "x and y must have same first dimension, but have shapes (4,) and (5,)",
     "output_type": "error",
     "traceback": [
      "\u001B[1;31m---------------------------------------------------------------------------\u001B[0m",
      "\u001B[1;31mValueError\u001B[0m                                Traceback (most recent call last)",
      "Cell \u001B[1;32mIn[62], line 3\u001B[0m\n\u001B[0;32m      1\u001B[0m \u001B[38;5;28;01mimport\u001B[39;00m \u001B[38;5;21;01mmatplotlib\u001B[39;00m\u001B[38;5;21;01m.\u001B[39;00m\u001B[38;5;21;01mpyplot\u001B[39;00m \u001B[38;5;28;01mas\u001B[39;00m \u001B[38;5;21;01mplt\u001B[39;00m\n\u001B[1;32m----> 3\u001B[0m \u001B[43mplt\u001B[49m\u001B[38;5;241;43m.\u001B[39;49m\u001B[43mplot\u001B[49m\u001B[43m(\u001B[49m\u001B[43m[\u001B[49m\u001B[38;5;241;43m1.0000\u001B[39;49m\u001B[43m,\u001B[49m\u001B[43m \u001B[49m\u001B[38;5;241;43m2.0000\u001B[39;49m\u001B[43m,\u001B[49m\u001B[43m \u001B[49m\u001B[38;5;241;43m4.0000\u001B[39;49m\u001B[43m,\u001B[49m\u001B[43m \u001B[49m\u001B[38;5;241;43m8.0000\u001B[39;49m\u001B[43m]\u001B[49m\u001B[43m,\u001B[49m\u001B[43m \u001B[49m\u001B[43m[\u001B[49m\u001B[38;5;241;43m1.0000\u001B[39;49m\u001B[43m,\u001B[49m\u001B[43m \u001B[49m\u001B[38;5;241;43m1.1333\u001B[39;49m\u001B[43m,\u001B[49m\u001B[43m \u001B[49m\u001B[38;5;241;43m1.4167\u001B[39;49m\u001B[43m,\u001B[49m\u001B[43m \u001B[49m\u001B[38;5;241;43m1\u001B[39;49m\u001B[43m,\u001B[49m\u001B[38;5;241;43m5455\u001B[39;49m\u001B[43m]\u001B[49m\u001B[43m)\u001B[49m\n\u001B[0;32m      4\u001B[0m plt\u001B[38;5;241m.\u001B[39mshow()\n",
      "File \u001B[1;32mD:\\Python310\\lib\\site-packages\\matplotlib\\pyplot.py:2812\u001B[0m, in \u001B[0;36mplot\u001B[1;34m(scalex, scaley, data, *args, **kwargs)\u001B[0m\n\u001B[0;32m   2810\u001B[0m \u001B[38;5;129m@_copy_docstring_and_deprecators\u001B[39m(Axes\u001B[38;5;241m.\u001B[39mplot)\n\u001B[0;32m   2811\u001B[0m \u001B[38;5;28;01mdef\u001B[39;00m \u001B[38;5;21mplot\u001B[39m(\u001B[38;5;241m*\u001B[39margs, scalex\u001B[38;5;241m=\u001B[39m\u001B[38;5;28;01mTrue\u001B[39;00m, scaley\u001B[38;5;241m=\u001B[39m\u001B[38;5;28;01mTrue\u001B[39;00m, data\u001B[38;5;241m=\u001B[39m\u001B[38;5;28;01mNone\u001B[39;00m, \u001B[38;5;241m*\u001B[39m\u001B[38;5;241m*\u001B[39mkwargs):\n\u001B[1;32m-> 2812\u001B[0m     \u001B[38;5;28;01mreturn\u001B[39;00m gca()\u001B[38;5;241m.\u001B[39mplot(\n\u001B[0;32m   2813\u001B[0m         \u001B[38;5;241m*\u001B[39margs, scalex\u001B[38;5;241m=\u001B[39mscalex, scaley\u001B[38;5;241m=\u001B[39mscaley,\n\u001B[0;32m   2814\u001B[0m         \u001B[38;5;241m*\u001B[39m\u001B[38;5;241m*\u001B[39m({\u001B[38;5;124m\"\u001B[39m\u001B[38;5;124mdata\u001B[39m\u001B[38;5;124m\"\u001B[39m: data} \u001B[38;5;28;01mif\u001B[39;00m data \u001B[38;5;129;01mis\u001B[39;00m \u001B[38;5;129;01mnot\u001B[39;00m \u001B[38;5;28;01mNone\u001B[39;00m \u001B[38;5;28;01melse\u001B[39;00m {}), \u001B[38;5;241m*\u001B[39m\u001B[38;5;241m*\u001B[39mkwargs)\n",
      "File \u001B[1;32mD:\\Python310\\lib\\site-packages\\matplotlib\\axes\\_axes.py:1688\u001B[0m, in \u001B[0;36mAxes.plot\u001B[1;34m(self, scalex, scaley, data, *args, **kwargs)\u001B[0m\n\u001B[0;32m   1445\u001B[0m \u001B[38;5;250m\u001B[39m\u001B[38;5;124;03m\"\"\"\u001B[39;00m\n\u001B[0;32m   1446\u001B[0m \u001B[38;5;124;03mPlot y versus x as lines and/or markers.\u001B[39;00m\n\u001B[0;32m   1447\u001B[0m \n\u001B[1;32m   (...)\u001B[0m\n\u001B[0;32m   1685\u001B[0m \u001B[38;5;124;03m(``'green'``) or hex strings (``'#008000'``).\u001B[39;00m\n\u001B[0;32m   1686\u001B[0m \u001B[38;5;124;03m\"\"\"\u001B[39;00m\n\u001B[0;32m   1687\u001B[0m kwargs \u001B[38;5;241m=\u001B[39m cbook\u001B[38;5;241m.\u001B[39mnormalize_kwargs(kwargs, mlines\u001B[38;5;241m.\u001B[39mLine2D)\n\u001B[1;32m-> 1688\u001B[0m lines \u001B[38;5;241m=\u001B[39m [\u001B[38;5;241m*\u001B[39m\u001B[38;5;28mself\u001B[39m\u001B[38;5;241m.\u001B[39m_get_lines(\u001B[38;5;241m*\u001B[39margs, data\u001B[38;5;241m=\u001B[39mdata, \u001B[38;5;241m*\u001B[39m\u001B[38;5;241m*\u001B[39mkwargs)]\n\u001B[0;32m   1689\u001B[0m \u001B[38;5;28;01mfor\u001B[39;00m line \u001B[38;5;129;01min\u001B[39;00m lines:\n\u001B[0;32m   1690\u001B[0m     \u001B[38;5;28mself\u001B[39m\u001B[38;5;241m.\u001B[39madd_line(line)\n",
      "File \u001B[1;32mD:\\Python310\\lib\\site-packages\\matplotlib\\axes\\_base.py:311\u001B[0m, in \u001B[0;36m_process_plot_var_args.__call__\u001B[1;34m(self, data, *args, **kwargs)\u001B[0m\n\u001B[0;32m    309\u001B[0m     this \u001B[38;5;241m+\u001B[39m\u001B[38;5;241m=\u001B[39m args[\u001B[38;5;241m0\u001B[39m],\n\u001B[0;32m    310\u001B[0m     args \u001B[38;5;241m=\u001B[39m args[\u001B[38;5;241m1\u001B[39m:]\n\u001B[1;32m--> 311\u001B[0m \u001B[38;5;28;01myield from\u001B[39;00m \u001B[38;5;28;43mself\u001B[39;49m\u001B[38;5;241;43m.\u001B[39;49m\u001B[43m_plot_args\u001B[49m\u001B[43m(\u001B[49m\n\u001B[0;32m    312\u001B[0m \u001B[43m    \u001B[49m\u001B[43mthis\u001B[49m\u001B[43m,\u001B[49m\u001B[43m \u001B[49m\u001B[43mkwargs\u001B[49m\u001B[43m,\u001B[49m\u001B[43m \u001B[49m\u001B[43mambiguous_fmt_datakey\u001B[49m\u001B[38;5;241;43m=\u001B[39;49m\u001B[43mambiguous_fmt_datakey\u001B[49m\u001B[43m)\u001B[49m\n",
      "File \u001B[1;32mD:\\Python310\\lib\\site-packages\\matplotlib\\axes\\_base.py:504\u001B[0m, in \u001B[0;36m_process_plot_var_args._plot_args\u001B[1;34m(self, tup, kwargs, return_kwargs, ambiguous_fmt_datakey)\u001B[0m\n\u001B[0;32m    501\u001B[0m     \u001B[38;5;28mself\u001B[39m\u001B[38;5;241m.\u001B[39maxes\u001B[38;5;241m.\u001B[39myaxis\u001B[38;5;241m.\u001B[39mupdate_units(y)\n\u001B[0;32m    503\u001B[0m \u001B[38;5;28;01mif\u001B[39;00m x\u001B[38;5;241m.\u001B[39mshape[\u001B[38;5;241m0\u001B[39m] \u001B[38;5;241m!=\u001B[39m y\u001B[38;5;241m.\u001B[39mshape[\u001B[38;5;241m0\u001B[39m]:\n\u001B[1;32m--> 504\u001B[0m     \u001B[38;5;28;01mraise\u001B[39;00m \u001B[38;5;167;01mValueError\u001B[39;00m(\u001B[38;5;124mf\u001B[39m\u001B[38;5;124m\"\u001B[39m\u001B[38;5;124mx and y must have same first dimension, but \u001B[39m\u001B[38;5;124m\"\u001B[39m\n\u001B[0;32m    505\u001B[0m                      \u001B[38;5;124mf\u001B[39m\u001B[38;5;124m\"\u001B[39m\u001B[38;5;124mhave shapes \u001B[39m\u001B[38;5;132;01m{\u001B[39;00mx\u001B[38;5;241m.\u001B[39mshape\u001B[38;5;132;01m}\u001B[39;00m\u001B[38;5;124m and \u001B[39m\u001B[38;5;132;01m{\u001B[39;00my\u001B[38;5;241m.\u001B[39mshape\u001B[38;5;132;01m}\u001B[39;00m\u001B[38;5;124m\"\u001B[39m)\n\u001B[0;32m    506\u001B[0m \u001B[38;5;28;01mif\u001B[39;00m x\u001B[38;5;241m.\u001B[39mndim \u001B[38;5;241m>\u001B[39m \u001B[38;5;241m2\u001B[39m \u001B[38;5;129;01mor\u001B[39;00m y\u001B[38;5;241m.\u001B[39mndim \u001B[38;5;241m>\u001B[39m \u001B[38;5;241m2\u001B[39m:\n\u001B[0;32m    507\u001B[0m     \u001B[38;5;28;01mraise\u001B[39;00m \u001B[38;5;167;01mValueError\u001B[39;00m(\u001B[38;5;124mf\u001B[39m\u001B[38;5;124m\"\u001B[39m\u001B[38;5;124mx and y can be no greater than 2D, but have \u001B[39m\u001B[38;5;124m\"\u001B[39m\n\u001B[0;32m    508\u001B[0m                      \u001B[38;5;124mf\u001B[39m\u001B[38;5;124m\"\u001B[39m\u001B[38;5;124mshapes \u001B[39m\u001B[38;5;132;01m{\u001B[39;00mx\u001B[38;5;241m.\u001B[39mshape\u001B[38;5;132;01m}\u001B[39;00m\u001B[38;5;124m and \u001B[39m\u001B[38;5;132;01m{\u001B[39;00my\u001B[38;5;241m.\u001B[39mshape\u001B[38;5;132;01m}\u001B[39;00m\u001B[38;5;124m\"\u001B[39m)\n",
      "\u001B[1;31mValueError\u001B[0m: x and y must have same first dimension, but have shapes (4,) and (5,)"
     ]
    },
    {
     "data": {
      "image/png": "[encoded data removed]",
      "text/plain": [
       "<Figure size 640x480 with 1 Axes>"
      ]
     },
     "metadata": {},
     "output_type": "display_data"
    }
   ],
   "source": [
    "import matplotlib.pyplot as plt\n",
    "\n",
    "plt.plot([1.0000, 2.0000, 4.0000, 8.0000], [1.0000, 1.1333, 1.4167, 1,5455])\n",
    "plt.show()"
   ]
  }
 ],
 "metadata": {
  "kernelspec": {
   "display_name": "Python 3 (ipykernel)",
   "language": "python",
   "name": "python3"
  },
  "language_info": {
   "codemirror_mode": {
    "name": "ipython",
    "version": 3
   },
   "file_extension": ".py",
   "mimetype": "text/x-python",
   "name": "python",
   "nbconvert_exporter": "python",
   "pygments_lexer": "ipython3",
   "version": "3.10.10"
  }
 },
 "nbformat": 4,
 "nbformat_minor": 5
}
