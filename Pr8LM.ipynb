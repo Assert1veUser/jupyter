{
 "cells": [
  {
   "cell_type": "markdown",
   "metadata": {},
   "source": [
    "# ИСКЛЮЧАЮЩЕЕ ИЛИ"
   ]
  },
  {
   "cell_type": "code",
   "execution_count": 2,
   "metadata": {},
   "outputs": [],
   "source": [
    "import warnings\n",
    "warnings.filterwarnings('ignore')"
   ]
  },
  {
   "cell_type": "code",
   "execution_count": 3,
   "metadata": {},
   "outputs": [],
   "source": [
    "import numpy as np  \n",
    "import pandas as pd\n",
    "import matplotlib.pyplot as plt\n",
    "from sklearn.preprocessing import MinMaxScaler\n",
    "from sklearn.model_selection import train_test_split"
   ]
  },
  {
   "cell_type": "code",
   "execution_count": 4,
   "metadata": {},
   "outputs": [
    {
     "data": {
      "text/html": [
       "<div>\n",
       "<style scoped>\n",
       "    .dataframe tbody tr th:only-of-type {\n",
       "        vertical-align: middle;\n",
       "    }\n",
       "\n",
       "    .dataframe tbody tr th {\n",
       "        vertical-align: top;\n",
       "    }\n",
       "\n",
       "    .dataframe thead th {\n",
       "        text-align: right;\n",
       "    }\n",
       "</style>\n",
       "<table border=\"1\" class=\"dataframe\">\n",
       "  <thead>\n",
       "    <tr style=\"text-align: right;\">\n",
       "      <th></th>\n",
       "      <th>in1</th>\n",
       "      <th>in2</th>\n",
       "      <th>out</th>\n",
       "    </tr>\n",
       "  </thead>\n",
       "  <tbody>\n",
       "    <tr>\n",
       "      <th>0</th>\n",
       "      <td>0</td>\n",
       "      <td>0</td>\n",
       "      <td>1</td>\n",
       "    </tr>\n",
       "    <tr>\n",
       "      <th>1</th>\n",
       "      <td>0</td>\n",
       "      <td>1</td>\n",
       "      <td>0</td>\n",
       "    </tr>\n",
       "    <tr>\n",
       "      <th>2</th>\n",
       "      <td>1</td>\n",
       "      <td>0</td>\n",
       "      <td>0</td>\n",
       "    </tr>\n",
       "    <tr>\n",
       "      <th>3</th>\n",
       "      <td>1</td>\n",
       "      <td>1</td>\n",
       "      <td>1</td>\n",
       "    </tr>\n",
       "  </tbody>\n",
       "</table>\n",
       "</div>"
      ],
      "text/plain": [
       "   in1  in2  out\n",
       "0    0    0    1\n",
       "1    0    1    0\n",
       "2    1    0    0\n",
       "3    1    1    1"
      ]
     },
     "execution_count": 4,
     "metadata": {},
     "output_type": "execute_result"
    }
   ],
   "source": [
    "or_df = pd.DataFrame({'in1': [0, 0, 1, 1], 'in2': [0, 1, 0, 1], 'out': [1, 0, 0, 1]})\n",
    "or_df"
   ]
  },
  {
   "cell_type": "code",
   "execution_count": 5,
   "metadata": {},
   "outputs": [],
   "source": [
    "def sigmoid(x):\n",
    "    return 1 / (1 + np.exp(-x))"
   ]
  },
  {
   "cell_type": "code",
   "execution_count": 6,
   "metadata": {},
   "outputs": [],
   "source": [
    "def feedforward_propagation(x, W1, W2):\n",
    "    Z1 = np.dot(x, W1)\n",
    "    A1 = sigmoid(Z1)\n",
    "\n",
    "    Z2 = np.dot(A1, W2)\n",
    "    A2 = sigmoid(Z2)\n",
    "\n",
    "    return A1, A2"
   ]
  },
  {
   "cell_type": "code",
   "execution_count": 7,
   "metadata": {},
   "outputs": [],
   "source": [
    "def backpropagation_propagation(y, A1, A2, W2):\n",
    "    L1 = A2 - y\n",
    "    dW1 = L1 * A2 * (1 - A2)\n",
    "\n",
    "    L2 = np.dot(dW1, W2.T)\n",
    "    dW2 = L2 * A1 * (1 - A1)\n",
    "\n",
    "    return dW1, dW2"
   ]
  },
  {
   "cell_type": "code",
   "execution_count": 8,
   "metadata": {},
   "outputs": [],
   "source": [
    "def update_weight(x, A1, dW1, dW2, W1, W2, N, learning_rate):\n",
    "    W2_update = np.dot(A1.T, dW1) / N\n",
    "    W1_update = np.dot(x.T, dW2) / N\n",
    "\n",
    "    W2 = W2 - learning_rate * W2_update\n",
    "    W1 = W1 - learning_rate * W1_update\n",
    "\n",
    "    return W1, W2"
   ]
  },
  {
   "cell_type": "code",
   "execution_count": 9,
   "metadata": {},
   "outputs": [],
   "source": [
    "def mape(y_pred, y_true):\n",
    "    return ((np.abs(y_pred - y_true)).sum())/(y_true.sum())"
   ]
  },
  {
   "cell_type": "code",
   "execution_count": 10,
   "metadata": {},
   "outputs": [],
   "source": [
    "def accuracy(y_pred, y_true):\n",
    "    acc = y_pred.argmax(axis=1) == y_true.argmax(axis=1)\n",
    "    return acc.mean()"
   ]
  },
  {
   "cell_type": "code",
   "execution_count": 11,
   "metadata": {},
   "outputs": [],
   "source": [
    "def mean_squared_error(y_pred, y_true):\n",
    "    return ((y_pred - y_true)**2).sum()/(y_pred.size)"
   ]
  },
  {
   "cell_type": "code",
   "execution_count": 12,
   "metadata": {},
   "outputs": [],
   "source": [
    "def backpropagation(x, y, learning_rate=0.01, epoch=10000, hidden_size=8, itsPrint=True, isMape=False):\n",
    "    results = pd.DataFrame(columns=[\"mse\", \"accuracy\"])\n",
    "\n",
    "    N = x.shape[0]\n",
    "    input_size = x.shape[1]\n",
    "    output_size = y.shape[1]\n",
    "\n",
    "    W1 = np.random.normal(scale=0.5, size=(input_size, hidden_size))   \n",
    "    W2 = np.random.normal(scale=0.5, size=(hidden_size , output_size))\n",
    "\n",
    "    for eph in range(epoch+1):    \n",
    "        \n",
    "        A1, A2 = feedforward_propagation(x, W1, W2)\n",
    "    \n",
    "        mse = mean_squared_error(A2, y)\n",
    "        acc = accuracy(A2, y)\n",
    "        results = results._append({'mse': mse, 'accuracy': acc}, ignore_index = True)\n",
    "        if itsPrint and not isMape:\n",
    "            if eph%(epoch//10)==0:\n",
    "                print(f\"epoch {eph}: \\n\\tmse: {mse}, \\taccuracy: {acc}\")\n",
    "\n",
    "        if itsPrint and isMape:\n",
    "            if eph%(epoch//10)==0:\n",
    "                print(f\"epoch {eph}: \\tmape: {mape(A2, y)}\")\n",
    "        \n",
    "        \n",
    "        dW1, dW2 = backpropagation_propagation(y, A1, A2, W2)\n",
    "        W1, W2 = update_weight(x, A1, dW1, dW2, W1, W2, N, learning_rate)\n",
    "\n",
    "    return W1, W2, results"
   ]
  },
  {
   "cell_type": "code",
   "execution_count": 13,
   "metadata": {},
   "outputs": [],
   "source": [
    "X = or_df[or_df.columns[:-1]]\n",
    "y = pd.get_dummies(or_df[or_df.columns[-1]]).values"
   ]
  },
  {
   "cell_type": "code",
   "execution_count": 14,
   "metadata": {},
   "outputs": [
    {
     "name": "stdout",
     "output_type": "stream",
     "text": [
      "epoch 0: \n",
      "\tmse: 0.31497994551074604, \taccuracy: 0.5\n",
      "epoch 1000: \n",
      "\tmse: 0.23963486202862216, \taccuracy: 0.75\n",
      "epoch 2000: \n",
      "\tmse: 0.2223605888569774, \taccuracy: 0.75\n",
      "epoch 3000: \n",
      "\tmse: 0.1924105785910628, \taccuracy: 1.0\n",
      "epoch 4000: \n",
      "\tmse: 0.15578285222456373, \taccuracy: 1.0\n",
      "epoch 5000: \n",
      "\tmse: 0.11886133359596558, \taccuracy: 1.0\n",
      "epoch 6000: \n",
      "\tmse: 0.08716211743325429, \taccuracy: 1.0\n",
      "epoch 7000: \n",
      "\tmse: 0.06342831804230152, \taccuracy: 1.0\n",
      "epoch 8000: \n",
      "\tmse: 0.04704772847623772, \taccuracy: 1.0\n",
      "epoch 9000: \n",
      "\tmse: 0.035996799053332626, \taccuracy: 1.0\n",
      "epoch 10000: \n",
      "\tmse: 0.028438491367349467, \taccuracy: 1.0\n"
     ]
    }
   ],
   "source": [
    "W1, W2, results = backpropagation(X, y, epoch = 10000, learning_rate=0.1, hidden_size=16)"
   ]
  },
  {
   "cell_type": "markdown",
   "metadata": {},
   "source": [
    "#### График СКО"
   ]
  },
  {
   "cell_type": "code",
   "execution_count": 15,
   "metadata": {},
   "outputs": [
    {
     "data": {
      "image/png": "[encoded data removed]",
      "text/plain": [
       "<Figure size 640x480 with 1 Axes>"
      ]
     },
     "metadata": {},
     "output_type": "display_data"
    }
   ],
   "source": [
    "plt.plot(results.mse, color='red', label=\"Mean Squared Error\")\n",
    "plt.title(\"Mean Squared Error\")\n",
    "plt.legend()\n",
    "plt.show()"
   ]
  },
  {
   "cell_type": "markdown",
   "metadata": {},
   "source": [
    "#### График точности"
   ]
  },
  {
   "cell_type": "code",
   "execution_count": 16,
   "metadata": {},
   "outputs": [
    {
     "data": {
      "image/png": "[encoded data removed]",
      "text/plain": [
       "<Figure size 640x480 with 1 Axes>"
      ]
     },
     "metadata": {},
     "output_type": "display_data"
    }
   ],
   "source": [
    "plt.plot(results.accuracy, color='red', label=\"Accuracy\")\n",
    "plt.title(\"Accuracy\")\n",
    "plt.legend()\n",
    "plt.show()"
   ]
  },
  {
   "cell_type": "code",
   "execution_count": 17,
   "metadata": {},
   "outputs": [
    {
     "data": {
      "text/plain": [
       "1.0"
      ]
     },
     "execution_count": 17,
     "metadata": {},
     "output_type": "execute_result"
    }
   ],
   "source": [
    "A1, A2 = feedforward_propagation(np.array([[1, 0], [0, 0]]) , W1, W2)\n",
    "acc = accuracy(A2, pd.get_dummies([0, 1]).values)\n",
    "acc"
   ]
  },
  {
   "cell_type": "markdown",
   "metadata": {},
   "source": [
    "#### Обучение для исключаюшего \"ИЛИ\""
   ]
  },
  {
   "cell_type": "code",
   "execution_count": 18,
   "metadata": {},
   "outputs": [],
   "source": [
    "xor_4_df = []\n",
    "for i in range(16):\n",
    "    x = i//8\n",
    "    y = (i//4)%2\n",
    "    z = (i//2)%2\n",
    "    w = i%2\n",
    "    res = x ^ y ^ z ^ w\n",
    "    xor_4_df.append([x, y, z, w, res])"
   ]
  },
  {
   "cell_type": "code",
   "execution_count": 19,
   "metadata": {},
   "outputs": [
    {
     "data": {
      "text/html": [
       "<div>\n",
       "<style scoped>\n",
       "    .dataframe tbody tr th:only-of-type {\n",
       "        vertical-align: middle;\n",
       "    }\n",
       "\n",
       "    .dataframe tbody tr th {\n",
       "        vertical-align: top;\n",
       "    }\n",
       "\n",
       "    .dataframe thead th {\n",
       "        text-align: right;\n",
       "    }\n",
       "</style>\n",
       "<table border=\"1\" class=\"dataframe\">\n",
       "  <thead>\n",
       "    <tr style=\"text-align: right;\">\n",
       "      <th></th>\n",
       "      <th>x</th>\n",
       "      <th>y</th>\n",
       "      <th>z</th>\n",
       "      <th>w</th>\n",
       "      <th>res</th>\n",
       "    </tr>\n",
       "  </thead>\n",
       "  <tbody>\n",
       "    <tr>\n",
       "      <th>0</th>\n",
       "      <td>0</td>\n",
       "      <td>0</td>\n",
       "      <td>0</td>\n",
       "      <td>0</td>\n",
       "      <td>0</td>\n",
       "    </tr>\n",
       "    <tr>\n",
       "      <th>1</th>\n",
       "      <td>0</td>\n",
       "      <td>0</td>\n",
       "      <td>0</td>\n",
       "      <td>1</td>\n",
       "      <td>1</td>\n",
       "    </tr>\n",
       "    <tr>\n",
       "      <th>2</th>\n",
       "      <td>0</td>\n",
       "      <td>0</td>\n",
       "      <td>1</td>\n",
       "      <td>0</td>\n",
       "      <td>1</td>\n",
       "    </tr>\n",
       "    <tr>\n",
       "      <th>3</th>\n",
       "      <td>0</td>\n",
       "      <td>0</td>\n",
       "      <td>1</td>\n",
       "      <td>1</td>\n",
       "      <td>0</td>\n",
       "    </tr>\n",
       "    <tr>\n",
       "      <th>4</th>\n",
       "      <td>0</td>\n",
       "      <td>1</td>\n",
       "      <td>0</td>\n",
       "      <td>0</td>\n",
       "      <td>1</td>\n",
       "    </tr>\n",
       "    <tr>\n",
       "      <th>5</th>\n",
       "      <td>0</td>\n",
       "      <td>1</td>\n",
       "      <td>0</td>\n",
       "      <td>1</td>\n",
       "      <td>0</td>\n",
       "    </tr>\n",
       "    <tr>\n",
       "      <th>6</th>\n",
       "      <td>0</td>\n",
       "      <td>1</td>\n",
       "      <td>1</td>\n",
       "      <td>0</td>\n",
       "      <td>0</td>\n",
       "    </tr>\n",
       "    <tr>\n",
       "      <th>7</th>\n",
       "      <td>0</td>\n",
       "      <td>1</td>\n",
       "      <td>1</td>\n",
       "      <td>1</td>\n",
       "      <td>1</td>\n",
       "    </tr>\n",
       "    <tr>\n",
       "      <th>8</th>\n",
       "      <td>1</td>\n",
       "      <td>0</td>\n",
       "      <td>0</td>\n",
       "      <td>0</td>\n",
       "      <td>1</td>\n",
       "    </tr>\n",
       "    <tr>\n",
       "      <th>9</th>\n",
       "      <td>1</td>\n",
       "      <td>0</td>\n",
       "      <td>0</td>\n",
       "      <td>1</td>\n",
       "      <td>0</td>\n",
       "    </tr>\n",
       "    <tr>\n",
       "      <th>10</th>\n",
       "      <td>1</td>\n",
       "      <td>0</td>\n",
       "      <td>1</td>\n",
       "      <td>0</td>\n",
       "      <td>0</td>\n",
       "    </tr>\n",
       "    <tr>\n",
       "      <th>11</th>\n",
       "      <td>1</td>\n",
       "      <td>0</td>\n",
       "      <td>1</td>\n",
       "      <td>1</td>\n",
       "      <td>1</td>\n",
       "    </tr>\n",
       "    <tr>\n",
       "      <th>12</th>\n",
       "      <td>1</td>\n",
       "      <td>1</td>\n",
       "      <td>0</td>\n",
       "      <td>0</td>\n",
       "      <td>0</td>\n",
       "    </tr>\n",
       "    <tr>\n",
       "      <th>13</th>\n",
       "      <td>1</td>\n",
       "      <td>1</td>\n",
       "      <td>0</td>\n",
       "      <td>1</td>\n",
       "      <td>1</td>\n",
       "    </tr>\n",
       "    <tr>\n",
       "      <th>14</th>\n",
       "      <td>1</td>\n",
       "      <td>1</td>\n",
       "      <td>1</td>\n",
       "      <td>0</td>\n",
       "      <td>1</td>\n",
       "    </tr>\n",
       "    <tr>\n",
       "      <th>15</th>\n",
       "      <td>1</td>\n",
       "      <td>1</td>\n",
       "      <td>1</td>\n",
       "      <td>1</td>\n",
       "      <td>0</td>\n",
       "    </tr>\n",
       "  </tbody>\n",
       "</table>\n",
       "</div>"
      ],
      "text/plain": [
       "    x  y  z  w  res\n",
       "0   0  0  0  0    0\n",
       "1   0  0  0  1    1\n",
       "2   0  0  1  0    1\n",
       "3   0  0  1  1    0\n",
       "4   0  1  0  0    1\n",
       "5   0  1  0  1    0\n",
       "6   0  1  1  0    0\n",
       "7   0  1  1  1    1\n",
       "8   1  0  0  0    1\n",
       "9   1  0  0  1    0\n",
       "10  1  0  1  0    0\n",
       "11  1  0  1  1    1\n",
       "12  1  1  0  0    0\n",
       "13  1  1  0  1    1\n",
       "14  1  1  1  0    1\n",
       "15  1  1  1  1    0"
      ]
     },
     "execution_count": 19,
     "metadata": {},
     "output_type": "execute_result"
    }
   ],
   "source": [
    "xor_4_df = pd.DataFrame(xor_4_df, columns=['x','y','z','w','res'])\n",
    "xor_4_df"
   ]
  },
  {
   "cell_type": "markdown",
   "metadata": {},
   "source": [
    "#### Разделение переменных на признаки и целевые"
   ]
  },
  {
   "cell_type": "code",
   "execution_count": 20,
   "metadata": {},
   "outputs": [],
   "source": [
    "X = xor_4_df[xor_4_df.columns[:-1]]\n",
    "y = pd.get_dummies(xor_4_df[xor_4_df.columns[-1]]).values"
   ]
  },
  {
   "cell_type": "code",
   "execution_count": 21,
   "metadata": {},
   "outputs": [],
   "source": [
    "X_train, X_test, y_train, y_test = train_test_split(X, y, test_size=0.15, random_state=42)"
   ]
  },
  {
   "cell_type": "code",
   "execution_count": 22,
   "metadata": {},
   "outputs": [
    {
     "name": "stdout",
     "output_type": "stream",
     "text": [
      "epoch 0: \n",
      "\tmse: 0.3331252231222699, \taccuracy: 0.46153846153846156\n",
      "epoch 4000: \n",
      "\tmse: 0.23710208806635633, \taccuracy: 0.6923076923076923\n",
      "epoch 8000: \n",
      "\tmse: 0.22864129958072615, \taccuracy: 0.6923076923076923\n",
      "epoch 12000: \n",
      "\tmse: 0.1926292823087786, \taccuracy: 0.7692307692307693\n",
      "epoch 16000: \n",
      "\tmse: 0.14358812651754638, \taccuracy: 0.9230769230769231\n",
      "epoch 20000: \n",
      "\tmse: 0.1159999058912023, \taccuracy: 0.9230769230769231\n",
      "epoch 24000: \n",
      "\tmse: 0.10158932776657995, \taccuracy: 0.9230769230769231\n",
      "epoch 28000: \n",
      "\tmse: 0.09217256637906347, \taccuracy: 0.9230769230769231\n",
      "epoch 32000: \n",
      "\tmse: 0.07986653691114849, \taccuracy: 0.9230769230769231\n",
      "epoch 36000: \n",
      "\tmse: 0.054234530235797794, \taccuracy: 0.9230769230769231\n",
      "epoch 40000: \n",
      "\tmse: 0.030737388926960825, \taccuracy: 1.0\n"
     ]
    }
   ],
   "source": [
    "W1, W2, results = backpropagation(X_train, y_train, epoch = 40000, learning_rate=0.1, hidden_size=32)"
   ]
  },
  {
   "cell_type": "code",
   "execution_count": 23,
   "metadata": {},
   "outputs": [
    {
     "data": {
      "image/png": "[encoded data removed]",
      "text/plain": [
       "<Figure size 640x480 with 1 Axes>"
      ]
     },
     "metadata": {},
     "output_type": "display_data"
    }
   ],
   "source": [
    "plt.plot(results.mse, color='red', label=\"Mean Squared Error\")\n",
    "plt.title(\"Mean Squared Error\")\n",
    "plt.legend()\n",
    "plt.show()"
   ]
  },
  {
   "cell_type": "code",
   "execution_count": 24,
   "metadata": {},
   "outputs": [
    {
     "data": {
      "image/png": "[encoded data removed]",
      "text/plain": [
       "<Figure size 640x480 with 1 Axes>"
      ]
     },
     "metadata": {},
     "output_type": "display_data"
    }
   ],
   "source": [
    "plt.plot(results.accuracy, color='red', label=\"Accuracy\")\n",
    "plt.title(\"Accuracy\")\n",
    "plt.legend()\n",
    "plt.show()"
   ]
  },
  {
   "cell_type": "code",
   "execution_count": 25,
   "metadata": {},
   "outputs": [
    {
     "data": {
      "text/plain": [
       "0.0"
      ]
     },
     "execution_count": 25,
     "metadata": {},
     "output_type": "execute_result"
    }
   ],
   "source": [
    "A1, A2 = feedforward_propagation(X_test , W1, W2)\n",
    "acc = accuracy(A2, y_test)\n",
    "acc"
   ]
  },
  {
   "cell_type": "markdown",
   "metadata": {},
   "source": [
    "## ОПРЕДЕЛЕНИЕ НАПРАВЛЕНИЯ ДВОИЧНОГО СДВИГА"
   ]
  },
  {
   "cell_type": "markdown",
   "metadata": {},
   "source": [
    "#### Таблица сдвигов с классами 1 и 0"
   ]
  },
  {
   "cell_type": "code",
   "execution_count": 26,
   "metadata": {},
   "outputs": [
    {
     "name": "stdout",
     "output_type": "stream",
     "text": [
      "1 \t 0001 0010 1000\n",
      "2 \t 0010 0100 0001\n",
      "3 \t 0011 0110 1001\n",
      "4 \t 0100 1000 0010\n",
      "6 \t 0110 1100 0011\n",
      "7 \t 0111 1110 1011\n",
      "8 \t 1000 0001 0100\n",
      "9 \t 1001 0011 1100\n",
      "11 \t 1011 0111 1101\n",
      "13 \t 1101 1011 1110\n",
      "14 \t 1110 1101 0111\n"
     ]
    }
   ],
   "source": [
    "sdvg_df = []\n",
    "for n in [1, 2, 3, 4, 6, 7, 8, 9, 11, 13, 14]:\n",
    "    bin_n = '0'*(4-len(bin(n)[2:]))+str(bin(n)[2:]) if len(bin(n)[2:]) < 4 else bin(n)[2:]\n",
    "    bin_l = bin_n[1:] + bin_n[0]\n",
    "    bin_r = bin_n[-1] + bin_n[:-1]\n",
    "    print(n, '\\t', bin_n, bin_l, bin_r)\n",
    "    sdvg_df.append([int(bin_n, 2), int(bin_l, 2), 1])\n",
    "    sdvg_df.append([int(bin_n, 2), int(bin_r, 2), 0])"
   ]
  },
  {
   "cell_type": "code",
   "execution_count": 27,
   "metadata": {},
   "outputs": [],
   "source": [
    "sdvg_df = pd.DataFrame(sdvg_df, columns=['n','shift','type'])"
   ]
  },
  {
   "cell_type": "code",
   "execution_count": 28,
   "metadata": {},
   "outputs": [],
   "source": [
    "X = sdvg_df[sdvg_df.columns[:-1]]\n",
    "y = pd.get_dummies(sdvg_df[sdvg_df.columns[-1]]).values"
   ]
  },
  {
   "cell_type": "code",
   "execution_count": 29,
   "metadata": {},
   "outputs": [],
   "source": [
    "X_train, X_test, y_train, y_test = train_test_split(X, y, test_size=0.15, random_state=42)"
   ]
  },
  {
   "cell_type": "markdown",
   "metadata": {},
   "source": [
    "#### grid-search"
   ]
  },
  {
   "cell_type": "code",
   "execution_count": null,
   "metadata": {},
   "outputs": [],
   "source": [
    "results_diff = pd.DataFrame(columns=[\"epoch\", \"hidden_size\", \"mse\", \"accuracy\"])\n",
    "for epoch in [x/4*10**4 for x in range(1, 11)]:\n",
    "    for hidden_size in [2**x for x in range(1, 11)]:\n",
    "        _, _, results = backpropagation(X_train, y_train, epoch=int(epoch), learning_rate=0.1, hidden_size=int(hidden_size), itsPrint=False)\n",
    "        results_diff = results_diff._append({'mse': results.mse.iloc[-1], \n",
    "                                             'accuracy': results.accuracy.iloc[-1],\n",
    "                                             'hidden_size': int(hidden_size),\n",
    "                                             'epoch': int(epoch)}, ignore_index = True)"
   ]
  },
  {
   "cell_type": "code",
   "execution_count": null,
   "metadata": {},
   "outputs": [],
   "source": [
    "results_diff"
   ]
  },
  {
   "cell_type": "markdown",
   "metadata": {},
   "source": [
    "#### Минимальное MSE"
   ]
  },
  {
   "cell_type": "code",
   "execution_count": 32,
   "metadata": {},
   "outputs": [
    {
     "data": {
      "text/plain": [
       "0.00182183279015122"
      ]
     },
     "execution_count": 32,
     "metadata": {},
     "output_type": "execute_result"
    }
   ],
   "source": [
    "results_diff.loc[(results_diff['epoch'] == 20000)].mse.min()"
   ]
  },
  {
   "cell_type": "code",
   "execution_count": 29,
   "metadata": {},
   "outputs": [
    {
     "name": "stdout",
     "output_type": "stream",
     "text": [
      "epoch 0: \n",
      "\tmse: 0.4980703809730809, \taccuracy: 0.5\n",
      "epoch 2000: \n",
      "\tmse: 0.0823126857723932, \taccuracy: 0.9444444444444444\n",
      "epoch 4000: \n",
      "\tmse: 0.0402638519257204, \taccuracy: 1.0\n",
      "epoch 6000: \n",
      "\tmse: 0.020594653174562112, \taccuracy: 1.0\n",
      "epoch 8000: \n",
      "\tmse: 0.01235581721877852, \taccuracy: 1.0\n",
      "epoch 10000: \n",
      "\tmse: 0.008294734343018619, \taccuracy: 1.0\n",
      "epoch 12000: \n",
      "\tmse: 0.006027494583566485, \taccuracy: 1.0\n",
      "epoch 14000: \n",
      "\tmse: 0.004641810540578436, \taccuracy: 1.0\n",
      "epoch 16000: \n",
      "\tmse: 0.003729174818615018, \taccuracy: 1.0\n",
      "epoch 18000: \n",
      "\tmse: 0.0030920991005684764, \taccuracy: 1.0\n",
      "epoch 20000: \n",
      "\tmse: 0.0026262167180349035, \taccuracy: 1.0\n"
     ]
    }
   ],
   "source": [
    "W1, W2, results = backpropagation(X_train, y_train, epoch = 20000, learning_rate=0.1, hidden_size=256)"
   ]
  },
  {
   "cell_type": "markdown",
   "metadata": {},
   "source": [
    "Построим график ошибок:"
   ]
  },
  {
   "cell_type": "code",
   "execution_count": 30,
   "metadata": {},
   "outputs": [
    {
     "data": {
      "image/png": "[encoded data removed]",
      "text/plain": [
       "<Figure size 640x480 with 1 Axes>"
      ]
     },
     "metadata": {},
     "output_type": "display_data"
    }
   ],
   "source": [
    "plt.plot(results.mse, color='red', label=\"Mean Squared Error\")\n",
    "plt.title(\"Mean Squared Error\")\n",
    "plt.legend()\n",
    "plt.show()"
   ]
  },
  {
   "cell_type": "markdown",
   "metadata": {},
   "source": [
    "#### График точности модели"
   ]
  },
  {
   "cell_type": "code",
   "execution_count": 31,
   "metadata": {},
   "outputs": [
    {
     "data": {
      "image/png": "[encoded data removed]",
      "text/plain": [
       "<Figure size 640x480 with 1 Axes>"
      ]
     },
     "metadata": {},
     "output_type": "display_data"
    }
   ],
   "source": [
    "plt.plot(results.accuracy, color='red', label=\"Accuracy\")\n",
    "plt.title(\"Accuracy\")\n",
    "plt.legend()\n",
    "plt.show()"
   ]
  },
  {
   "cell_type": "code",
   "execution_count": 32,
   "metadata": {},
   "outputs": [
    {
     "data": {
      "text/plain": [
       "1.0"
      ]
     },
     "execution_count": 32,
     "metadata": {},
     "output_type": "execute_result"
    }
   ],
   "source": [
    "A1, A2 = feedforward_propagation(X_test , W1, W2)\n",
    "acc = accuracy(A2, y_test)\n",
    "acc"
   ]
  },
  {
   "cell_type": "markdown",
   "metadata": {},
   "source": [
    "## РАСПОЗНАВАНИЕ СИМВОЛОВ"
   ]
  },
  {
   "cell_type": "code",
   "execution_count": 33,
   "metadata": {},
   "outputs": [],
   "source": [
    "symb_3_3 = [[1, 0, 1, 0, 1, 0, 1, 0, 1, 'x'],\n",
    "            [1, 0, 1, 0, 1, 0, 0, 1, 0, 'y'],\n",
    "            [0, 1, 0, 0, 1, 0,  0, 1, 0, 'i'],\n",
    "            [1, 1, 1, 1, 0, 0, 1, 1, 1, 'c']]"
   ]
  },
  {
   "cell_type": "code",
   "execution_count": 34,
   "metadata": {},
   "outputs": [
    {
     "data": {
      "text/html": [
       "<div>\n",
       "<style scoped>\n",
       "    .dataframe tbody tr th:only-of-type {\n",
       "        vertical-align: middle;\n",
       "    }\n",
       "\n",
       "    .dataframe tbody tr th {\n",
       "        vertical-align: top;\n",
       "    }\n",
       "\n",
       "    .dataframe thead th {\n",
       "        text-align: right;\n",
       "    }\n",
       "</style>\n",
       "<table border=\"1\" class=\"dataframe\">\n",
       "  <thead>\n",
       "    <tr style=\"text-align: right;\">\n",
       "      <th></th>\n",
       "      <th>cord0</th>\n",
       "      <th>cord1</th>\n",
       "      <th>cord2</th>\n",
       "      <th>cord3</th>\n",
       "      <th>cord4</th>\n",
       "      <th>cord5</th>\n",
       "      <th>cord6</th>\n",
       "      <th>cord7</th>\n",
       "      <th>cord8</th>\n",
       "      <th>symb</th>\n",
       "    </tr>\n",
       "  </thead>\n",
       "  <tbody>\n",
       "    <tr>\n",
       "      <th>0</th>\n",
       "      <td>1</td>\n",
       "      <td>0</td>\n",
       "      <td>1</td>\n",
       "      <td>0</td>\n",
       "      <td>1</td>\n",
       "      <td>0</td>\n",
       "      <td>1</td>\n",
       "      <td>0</td>\n",
       "      <td>1</td>\n",
       "      <td>x</td>\n",
       "    </tr>\n",
       "    <tr>\n",
       "      <th>1</th>\n",
       "      <td>1</td>\n",
       "      <td>0</td>\n",
       "      <td>1</td>\n",
       "      <td>0</td>\n",
       "      <td>1</td>\n",
       "      <td>0</td>\n",
       "      <td>0</td>\n",
       "      <td>1</td>\n",
       "      <td>0</td>\n",
       "      <td>y</td>\n",
       "    </tr>\n",
       "    <tr>\n",
       "      <th>2</th>\n",
       "      <td>0</td>\n",
       "      <td>1</td>\n",
       "      <td>0</td>\n",
       "      <td>0</td>\n",
       "      <td>1</td>\n",
       "      <td>0</td>\n",
       "      <td>0</td>\n",
       "      <td>1</td>\n",
       "      <td>0</td>\n",
       "      <td>i</td>\n",
       "    </tr>\n",
       "    <tr>\n",
       "      <th>3</th>\n",
       "      <td>1</td>\n",
       "      <td>1</td>\n",
       "      <td>1</td>\n",
       "      <td>1</td>\n",
       "      <td>0</td>\n",
       "      <td>0</td>\n",
       "      <td>1</td>\n",
       "      <td>1</td>\n",
       "      <td>1</td>\n",
       "      <td>c</td>\n",
       "    </tr>\n",
       "  </tbody>\n",
       "</table>\n",
       "</div>"
      ],
      "text/plain": [
       "   cord0  cord1  cord2  cord3  cord4  cord5  cord6  cord7  cord8 symb\n",
       "0      1      0      1      0      1      0      1      0      1    x\n",
       "1      1      0      1      0      1      0      0      1      0    y\n",
       "2      0      1      0      0      1      0      0      1      0    i\n",
       "3      1      1      1      1      0      0      1      1      1    c"
      ]
     },
     "execution_count": 34,
     "metadata": {},
     "output_type": "execute_result"
    }
   ],
   "source": [
    "symb_3_3_df = pd.DataFrame(symb_3_3, columns=[f'cord{x}' for x in range(9)]+['symb'])\n",
    "symb_3_3_df"
   ]
  },
  {
   "cell_type": "code",
   "execution_count": 35,
   "metadata": {},
   "outputs": [],
   "source": [
    "X = symb_3_3_df[symb_3_3_df.columns[:-1]]\n",
    "y = pd.get_dummies(symb_3_3_df[symb_3_3_df.columns[-1]]).values"
   ]
  },
  {
   "cell_type": "code",
   "execution_count": 36,
   "metadata": {},
   "outputs": [
    {
     "data": {
      "text/html": [
       "<div>\n",
       "<style scoped>\n",
       "    .dataframe tbody tr th:only-of-type {\n",
       "        vertical-align: middle;\n",
       "    }\n",
       "\n",
       "    .dataframe tbody tr th {\n",
       "        vertical-align: top;\n",
       "    }\n",
       "\n",
       "    .dataframe thead th {\n",
       "        text-align: right;\n",
       "    }\n",
       "</style>\n",
       "<table border=\"1\" class=\"dataframe\">\n",
       "  <thead>\n",
       "    <tr style=\"text-align: right;\">\n",
       "      <th>symb</th>\n",
       "      <th>c</th>\n",
       "      <th>i</th>\n",
       "      <th>y</th>\n",
       "      <th>x</th>\n",
       "    </tr>\n",
       "  </thead>\n",
       "  <tbody>\n",
       "    <tr>\n",
       "      <th>0</th>\n",
       "      <td>False</td>\n",
       "      <td>False</td>\n",
       "      <td>True</td>\n",
       "      <td>False</td>\n",
       "    </tr>\n",
       "    <tr>\n",
       "      <th>1</th>\n",
       "      <td>False</td>\n",
       "      <td>False</td>\n",
       "      <td>False</td>\n",
       "      <td>True</td>\n",
       "    </tr>\n",
       "    <tr>\n",
       "      <th>2</th>\n",
       "      <td>False</td>\n",
       "      <td>True</td>\n",
       "      <td>False</td>\n",
       "      <td>False</td>\n",
       "    </tr>\n",
       "    <tr>\n",
       "      <th>3</th>\n",
       "      <td>True</td>\n",
       "      <td>False</td>\n",
       "      <td>False</td>\n",
       "      <td>False</td>\n",
       "    </tr>\n",
       "  </tbody>\n",
       "</table>\n",
       "</div>"
      ],
      "text/plain": [
       "symb      c      i      y      x\n",
       "0     False  False   True  False\n",
       "1     False  False  False   True\n",
       "2     False   True  False  False\n",
       "3      True  False  False  False"
      ]
     },
     "execution_count": 36,
     "metadata": {},
     "output_type": "execute_result"
    }
   ],
   "source": [
    "pd.DataFrame(y, columns=symb_3_3_df[symb_3_3_df.columns[-1]][::-1])"
   ]
  },
  {
   "cell_type": "code",
   "execution_count": 37,
   "metadata": {},
   "outputs": [
    {
     "name": "stdout",
     "output_type": "stream",
     "text": [
      "epoch 0: \n",
      "\tmse: 0.23470780806687247, \taccuracy: 0.25\n",
      "epoch 1000: \n",
      "\tmse: 0.01576455156427963, \taccuracy: 1.0\n",
      "epoch 2000: \n",
      "\tmse: 0.005539119819589461, \taccuracy: 1.0\n",
      "epoch 3000: \n",
      "\tmse: 0.0030887718763117807, \taccuracy: 1.0\n",
      "epoch 4000: \n",
      "\tmse: 0.0020752817718072657, \taccuracy: 1.0\n",
      "epoch 5000: \n",
      "\tmse: 0.0015381583027672576, \taccuracy: 1.0\n",
      "epoch 6000: \n",
      "\tmse: 0.001210642732558216, \taccuracy: 1.0\n",
      "epoch 7000: \n",
      "\tmse: 0.0009921323604668419, \taccuracy: 1.0\n",
      "epoch 8000: \n",
      "\tmse: 0.0008369343972512205, \taccuracy: 1.0\n",
      "epoch 9000: \n",
      "\tmse: 0.000721516852911976, \taccuracy: 1.0\n",
      "epoch 10000: \n",
      "\tmse: 0.0006326077830391346, \taccuracy: 1.0\n"
     ]
    }
   ],
   "source": [
    "W1, W2, results = backpropagation(X, y, epoch = 10000, learning_rate=0.1, hidden_size=32)"
   ]
  },
  {
   "cell_type": "markdown",
   "metadata": {},
   "source": [
    "#### График ошибки модели"
   ]
  },
  {
   "cell_type": "code",
   "execution_count": 38,
   "metadata": {},
   "outputs": [
    {
     "data": {
      "image/png": "[encoded data removed]",
      "text/plain": [
       "<Figure size 640x480 with 1 Axes>"
      ]
     },
     "metadata": {},
     "output_type": "display_data"
    }
   ],
   "source": [
    "plt.plot(results.mse, color='red', label=\"Mean Squared Error\")\n",
    "plt.title(\"Mean Squared Error\")\n",
    "plt.legend()\n",
    "plt.show()"
   ]
  },
  {
   "cell_type": "markdown",
   "metadata": {},
   "source": [
    "График точности модели:"
   ]
  },
  {
   "cell_type": "code",
   "execution_count": 39,
   "metadata": {},
   "outputs": [
    {
     "data": {
      "image/png": "[encoded data removed]",
      "text/plain": [
       "<Figure size 640x480 with 1 Axes>"
      ]
     },
     "metadata": {},
     "output_type": "display_data"
    }
   ],
   "source": [
    "plt.plot(results.accuracy, color='red', label=\"Accuracy\")\n",
    "plt.title(\"Accuracy\")\n",
    "plt.legend()\n",
    "plt.show()"
   ]
  },
  {
   "cell_type": "code",
   "execution_count": 40,
   "metadata": {},
   "outputs": [],
   "source": [
    "A1, A2 = feedforward_propagation([1, 1, 1, 1, 0, 0, 1, 1, 0], W1, W2)"
   ]
  },
  {
   "cell_type": "code",
   "execution_count": 41,
   "metadata": {},
   "outputs": [
    {
     "data": {
      "text/html": [
       "<div>\n",
       "<style scoped>\n",
       "    .dataframe tbody tr th:only-of-type {\n",
       "        vertical-align: middle;\n",
       "    }\n",
       "\n",
       "    .dataframe tbody tr th {\n",
       "        vertical-align: top;\n",
       "    }\n",
       "\n",
       "    .dataframe thead th {\n",
       "        text-align: right;\n",
       "    }\n",
       "</style>\n",
       "<table border=\"1\" class=\"dataframe\">\n",
       "  <thead>\n",
       "    <tr style=\"text-align: right;\">\n",
       "      <th>symb</th>\n",
       "      <th>c</th>\n",
       "      <th>i</th>\n",
       "      <th>y</th>\n",
       "      <th>x</th>\n",
       "    </tr>\n",
       "  </thead>\n",
       "  <tbody>\n",
       "    <tr>\n",
       "      <th>0</th>\n",
       "      <td>0.947143</td>\n",
       "      <td>0.026008</td>\n",
       "      <td>0.005551</td>\n",
       "      <td>0.026703</td>\n",
       "    </tr>\n",
       "  </tbody>\n",
       "</table>\n",
       "</div>"
      ],
      "text/plain": [
       "symb         c         i         y         x\n",
       "0     0.947143  0.026008  0.005551  0.026703"
      ]
     },
     "execution_count": 41,
     "metadata": {},
     "output_type": "execute_result"
    }
   ],
   "source": [
    "pd.DataFrame([A2], columns=symb_3_3_df[symb_3_3_df.columns[-1]][::-1])"
   ]
  },
  {
   "cell_type": "markdown",
   "metadata": {},
   "source": [
    "### Дополнительное задание 7.9"
   ]
  },
  {
   "cell_type": "code",
   "execution_count": 49,
   "metadata": {},
   "outputs": [],
   "source": [
    "symbalcut_7_5 = [[0,0,1,0,0,0,1,0,1,0,1,0,0,0,1,1,0,0,0,1,1,1,1,1,1,1,0,0,0,1,1,0,0,0,1, 'a'],\n",
    "                 [1,1,1,1,1,1,0,0,0,1,1,0,0,0,1,1,1,1,1,1,1,0,0,0,1,1,0,0,0,1,1,1,1,1,1, 'b'],\n",
    "                 [1,1,1,1,1,1,0,0,0,0,1,0,0,0,0,1,0,0,0,0,1,0,0,0,0,1,0,0,0,0,1,1,1,1,1, 'c'],\n",
    "                 [1,1,1,0,0,1,0,0,1,0,1,0,0,0,1,1,0,0,0,1,1,0,0,0,1,1,0,0,1,0,1,1,1,0,0, 'd']]"
   ]
  },
  {
   "cell_type": "code",
   "execution_count": 50,
   "metadata": {},
   "outputs": [],
   "source": [
    "symbalcut_7_5_df = pd.DataFrame(symbalcut_7_5, columns=[f'cord{x}' for x in range(len(symbalcut_7_5[0])-1)]+['symb'])"
   ]
  },
  {
   "cell_type": "code",
   "execution_count": 51,
   "metadata": {},
   "outputs": [],
   "source": [
    "X = symbalcut_7_5_df[symbalcut_7_5_df.columns[:-1]]\n",
    "y = pd.get_dummies(symbalcut_7_5_df[symbalcut_7_5_df.columns[-1]]).values"
   ]
  },
  {
   "cell_type": "code",
   "execution_count": 52,
   "metadata": {},
   "outputs": [
    {
     "data": {
      "text/html": [
       "<div>\n",
       "<style scoped>\n",
       "    .dataframe tbody tr th:only-of-type {\n",
       "        vertical-align: middle;\n",
       "    }\n",
       "\n",
       "    .dataframe tbody tr th {\n",
       "        vertical-align: top;\n",
       "    }\n",
       "\n",
       "    .dataframe thead th {\n",
       "        text-align: right;\n",
       "    }\n",
       "</style>\n",
       "<table border=\"1\" class=\"dataframe\">\n",
       "  <thead>\n",
       "    <tr style=\"text-align: right;\">\n",
       "      <th>symb</th>\n",
       "      <th>a</th>\n",
       "      <th>b</th>\n",
       "      <th>c</th>\n",
       "      <th>d</th>\n",
       "    </tr>\n",
       "  </thead>\n",
       "  <tbody>\n",
       "    <tr>\n",
       "      <th>0</th>\n",
       "      <td>True</td>\n",
       "      <td>False</td>\n",
       "      <td>False</td>\n",
       "      <td>False</td>\n",
       "    </tr>\n",
       "    <tr>\n",
       "      <th>1</th>\n",
       "      <td>False</td>\n",
       "      <td>True</td>\n",
       "      <td>False</td>\n",
       "      <td>False</td>\n",
       "    </tr>\n",
       "    <tr>\n",
       "      <th>2</th>\n",
       "      <td>False</td>\n",
       "      <td>False</td>\n",
       "      <td>True</td>\n",
       "      <td>False</td>\n",
       "    </tr>\n",
       "    <tr>\n",
       "      <th>3</th>\n",
       "      <td>False</td>\n",
       "      <td>False</td>\n",
       "      <td>False</td>\n",
       "      <td>True</td>\n",
       "    </tr>\n",
       "  </tbody>\n",
       "</table>\n",
       "</div>"
      ],
      "text/plain": [
       "symb      a      b      c      d\n",
       "0      True  False  False  False\n",
       "1     False   True  False  False\n",
       "2     False  False   True  False\n",
       "3     False  False  False   True"
      ]
     },
     "execution_count": 52,
     "metadata": {},
     "output_type": "execute_result"
    }
   ],
   "source": [
    "pd.DataFrame(y, columns=symbalcut_7_5_df[symbalcut_7_5_df.columns[-1]])"
   ]
  },
  {
   "cell_type": "code",
   "execution_count": 53,
   "metadata": {},
   "outputs": [
    {
     "name": "stdout",
     "output_type": "stream",
     "text": [
      "epoch 0: \n",
      "\tmse: 0.2205551454049694, \taccuracy: 0.25\n",
      "epoch 2000: \n",
      "\tmse: 0.0028413329664913776, \taccuracy: 1.0\n",
      "epoch 4000: \n",
      "\tmse: 0.001169215684278732, \taccuracy: 1.0\n",
      "epoch 6000: \n",
      "\tmse: 0.0007147866137793752, \taccuracy: 1.0\n",
      "epoch 8000: \n",
      "\tmse: 0.0005087291346886048, \taccuracy: 1.0\n",
      "epoch 10000: \n",
      "\tmse: 0.0003924988451835853, \taccuracy: 1.0\n",
      "epoch 12000: \n",
      "\tmse: 0.00031835849088112603, \taccuracy: 1.0\n",
      "epoch 14000: \n",
      "\tmse: 0.00026716117180879503, \taccuracy: 1.0\n",
      "epoch 16000: \n",
      "\tmse: 0.00022978682909615019, \taccuracy: 1.0\n",
      "epoch 18000: \n",
      "\tmse: 0.00020135767142650407, \taccuracy: 1.0\n",
      "epoch 20000: \n",
      "\tmse: 0.00017903654522703684, \taccuracy: 1.0\n"
     ]
    }
   ],
   "source": [
    "W1, W2, results = backpropagation(X, y, epoch = 20000, learning_rate=0.1, hidden_size=32)"
   ]
  },
  {
   "cell_type": "code",
   "execution_count": 54,
   "metadata": {},
   "outputs": [],
   "source": [
    "A1, A2 = feedforward_propagation([1,1,1,0,0,0,0,0,0,1,1,0,0,0,1,1,0,0,1,1,1,0,0,0,1,1,0,0,1,1,1,1,1,0,0], W1, W2)"
   ]
  },
  {
   "cell_type": "code",
   "execution_count": 55,
   "metadata": {},
   "outputs": [
    {
     "data": {
      "text/html": [
       "<div>\n",
       "<style scoped>\n",
       "    .dataframe tbody tr th:only-of-type {\n",
       "        vertical-align: middle;\n",
       "    }\n",
       "\n",
       "    .dataframe tbody tr th {\n",
       "        vertical-align: top;\n",
       "    }\n",
       "\n",
       "    .dataframe thead th {\n",
       "        text-align: right;\n",
       "    }\n",
       "</style>\n",
       "<table border=\"1\" class=\"dataframe\">\n",
       "  <thead>\n",
       "    <tr style=\"text-align: right;\">\n",
       "      <th>symb</th>\n",
       "      <th>a</th>\n",
       "      <th>b</th>\n",
       "      <th>c</th>\n",
       "      <th>d</th>\n",
       "    </tr>\n",
       "  </thead>\n",
       "  <tbody>\n",
       "    <tr>\n",
       "      <th>0</th>\n",
       "      <td>0.020768</td>\n",
       "      <td>0.118397</td>\n",
       "      <td>0.003518</td>\n",
       "      <td>0.901899</td>\n",
       "    </tr>\n",
       "  </tbody>\n",
       "</table>\n",
       "</div>"
      ],
      "text/plain": [
       "symb         a         b         c         d\n",
       "0     0.020768  0.118397  0.003518  0.901899"
      ]
     },
     "execution_count": 55,
     "metadata": {},
     "output_type": "execute_result"
    }
   ],
   "source": [
    "pd.DataFrame([A2], columns=symbalcut_7_5_df[symbalcut_7_5_df.columns[-1]])"
   ]
  },
  {
   "cell_type": "markdown",
   "metadata": {},
   "source": [
    "## ИСКУССТВЕННЫЙ НОС"
   ]
  },
  {
   "cell_type": "code",
   "execution_count": 56,
   "metadata": {},
   "outputs": [],
   "source": [
    "chemistry = [[1, 0.05, 0.1, 0.3, 0.07, 0.08, 0.2, 0.05, 0.2, 0.6, 0.8, 'no']]"
   ]
  },
  {
   "cell_type": "code",
   "execution_count": 57,
   "metadata": {},
   "outputs": [
    {
     "data": {
      "text/html": [
       "<div>\n",
       "<style scoped>\n",
       "    .dataframe tbody tr th:only-of-type {\n",
       "        vertical-align: middle;\n",
       "    }\n",
       "\n",
       "    .dataframe tbody tr th {\n",
       "        vertical-align: top;\n",
       "    }\n",
       "\n",
       "    .dataframe thead th {\n",
       "        text-align: right;\n",
       "    }\n",
       "</style>\n",
       "<table border=\"1\" class=\"dataframe\">\n",
       "  <thead>\n",
       "    <tr style=\"text-align: right;\">\n",
       "      <th></th>\n",
       "      <th>attr0</th>\n",
       "      <th>attr1</th>\n",
       "      <th>attr2</th>\n",
       "      <th>attr3</th>\n",
       "      <th>attr4</th>\n",
       "      <th>attr5</th>\n",
       "      <th>attr6</th>\n",
       "      <th>attr7</th>\n",
       "      <th>attr8</th>\n",
       "      <th>attr9</th>\n",
       "      <th>attr10</th>\n",
       "      <th>mixture</th>\n",
       "    </tr>\n",
       "  </thead>\n",
       "  <tbody>\n",
       "    <tr>\n",
       "      <th>0</th>\n",
       "      <td>1</td>\n",
       "      <td>0.05</td>\n",
       "      <td>0.1</td>\n",
       "      <td>0.3</td>\n",
       "      <td>0.07</td>\n",
       "      <td>0.08</td>\n",
       "      <td>0.2</td>\n",
       "      <td>0.05</td>\n",
       "      <td>0.2</td>\n",
       "      <td>0.6</td>\n",
       "      <td>0.8</td>\n",
       "      <td>no</td>\n",
       "    </tr>\n",
       "  </tbody>\n",
       "</table>\n",
       "</div>"
      ],
      "text/plain": [
       "   attr0  attr1  attr2  attr3  attr4  attr5  attr6  attr7  attr8  attr9  \\\n",
       "0      1   0.05    0.1    0.3   0.07   0.08    0.2   0.05    0.2    0.6   \n",
       "\n",
       "   attr10 mixture  \n",
       "0     0.8      no  "
      ]
     },
     "execution_count": 57,
     "metadata": {},
     "output_type": "execute_result"
    }
   ],
   "source": [
    "chemistry_df = pd.DataFrame(chemistry, columns=[f'attr{x}' for x in range(len(chemistry[0])-1)]+['mixture'])\n",
    "chemistry_df"
   ]
  },
  {
   "cell_type": "code",
   "execution_count": 58,
   "metadata": {},
   "outputs": [],
   "source": [
    "X = chemistry_df[chemistry_df.columns[:-1]]\n",
    "y = pd.get_dummies(chemistry_df[chemistry_df.columns[-1]]).values"
   ]
  },
  {
   "cell_type": "markdown",
   "metadata": {},
   "source": [
    "#### Целевая колонка с возможными результатами"
   ]
  },
  {
   "cell_type": "code",
   "execution_count": 59,
   "metadata": {},
   "outputs": [
    {
     "data": {
      "text/html": [
       "<div>\n",
       "<style scoped>\n",
       "    .dataframe tbody tr th:only-of-type {\n",
       "        vertical-align: middle;\n",
       "    }\n",
       "\n",
       "    .dataframe tbody tr th {\n",
       "        vertical-align: top;\n",
       "    }\n",
       "\n",
       "    .dataframe thead th {\n",
       "        text-align: right;\n",
       "    }\n",
       "</style>\n",
       "<table border=\"1\" class=\"dataframe\">\n",
       "  <thead>\n",
       "    <tr style=\"text-align: right;\">\n",
       "      <th>mixture</th>\n",
       "      <th>no</th>\n",
       "    </tr>\n",
       "  </thead>\n",
       "  <tbody>\n",
       "    <tr>\n",
       "      <th>0</th>\n",
       "      <td>True</td>\n",
       "    </tr>\n",
       "  </tbody>\n",
       "</table>\n",
       "</div>"
      ],
      "text/plain": [
       "mixture    no\n",
       "0        True"
      ]
     },
     "execution_count": 59,
     "metadata": {},
     "output_type": "execute_result"
    }
   ],
   "source": [
    "pd.DataFrame(y, columns=chemistry_df[chemistry_df.columns[-1]])"
   ]
  },
  {
   "cell_type": "code",
   "execution_count": 60,
   "metadata": {},
   "outputs": [
    {
     "name": "stdout",
     "output_type": "stream",
     "text": [
      "epoch 0: \n",
      "\tmse: 0.6102815292921865, \taccuracy: 1.0\n",
      "epoch 2000: \n",
      "\tmse: 0.00027525884386323446, \taccuracy: 1.0\n",
      "epoch 4000: \n",
      "\tmse: 0.0001337379577632501, \taccuracy: 1.0\n",
      "epoch 6000: \n",
      "\tmse: 8.797085434318981e-05, \taccuracy: 1.0\n",
      "epoch 8000: \n",
      "\tmse: 6.542653812736536e-05, \taccuracy: 1.0\n",
      "epoch 10000: \n",
      "\tmse: 5.202897513880965e-05, \taccuracy: 1.0\n",
      "epoch 12000: \n",
      "\tmse: 4.315882492615826e-05, \taccuracy: 1.0\n",
      "epoch 14000: \n",
      "\tmse: 3.685675146976029e-05, \taccuracy: 1.0\n",
      "epoch 16000: \n",
      "\tmse: 3.2150534590089477e-05, \taccuracy: 1.0\n",
      "epoch 18000: \n",
      "\tmse: 2.850327354426817e-05, \taccuracy: 1.0\n",
      "epoch 20000: \n",
      "\tmse: 2.559439666224614e-05, \taccuracy: 1.0\n"
     ]
    }
   ],
   "source": [
    "W1, W2, results = backpropagation(X, y, epoch = 20000, learning_rate=0.1, hidden_size=32)"
   ]
  },
  {
   "cell_type": "markdown",
   "metadata": {},
   "source": [
    "#### График ошибки"
   ]
  },
  {
   "cell_type": "code",
   "execution_count": 61,
   "metadata": {},
   "outputs": [
    {
     "data": {
      "image/png": "[encoded data removed]",
      "text/plain": [
       "<Figure size 640x480 with 1 Axes>"
      ]
     },
     "metadata": {},
     "output_type": "display_data"
    }
   ],
   "source": [
    "plt.plot(results.mse, color='red', label=\"Mean Squared Error\")\n",
    "plt.title(\"Mean Squared Error\")\n",
    "plt.legend()\n",
    "plt.show()"
   ]
  },
  {
   "cell_type": "code",
   "execution_count": 62,
   "metadata": {},
   "outputs": [],
   "source": [
    "chemistry = [[1, 0.05, 0.1, 0.3, 0.07, 0.08, 0.2, 0.05, 0.2, 0.6, 0.8, 'no'],\n",
    "             [0.8, 0.4, 0.7, 0.6, 0.1, 0.5, 1, 0.75, 0.5, 0.7, 0.8, 'acetone'],\n",
    "             [0.9, 0.2, 0.4, 0.5, 0.1, 0.7, 0.6, 0.5, 0.5, 0.7, 0.8, 'ammonia'],\n",
    "             [0.85, 0.7, 0.8, 0.65, 0.1, 0.4, 1, 0.7, 0.4, 0.6, 0.7, 'isopropanol'],\n",
    "             [0.9, 0.3, 0.3, 0.4, 0.04, 0.1, 0.5, 0.3, 0.2, 0.7, 0.8, 'white_stroke'],\n",
    "             [0.95, 0.18, 0.21, 0.3, 0.05, 0.1, 0.3, 0.2, 0.2, 0.5, 0.7, 'vinegar']]"
   ]
  },
  {
   "cell_type": "code",
   "execution_count": 63,
   "metadata": {},
   "outputs": [
    {
     "data": {
      "text/html": [
       "<div>\n",
       "<style scoped>\n",
       "    .dataframe tbody tr th:only-of-type {\n",
       "        vertical-align: middle;\n",
       "    }\n",
       "\n",
       "    .dataframe tbody tr th {\n",
       "        vertical-align: top;\n",
       "    }\n",
       "\n",
       "    .dataframe thead th {\n",
       "        text-align: right;\n",
       "    }\n",
       "</style>\n",
       "<table border=\"1\" class=\"dataframe\">\n",
       "  <thead>\n",
       "    <tr style=\"text-align: right;\">\n",
       "      <th></th>\n",
       "      <th>attr0</th>\n",
       "      <th>attr1</th>\n",
       "      <th>attr2</th>\n",
       "      <th>attr3</th>\n",
       "      <th>attr4</th>\n",
       "      <th>attr5</th>\n",
       "      <th>attr6</th>\n",
       "      <th>attr7</th>\n",
       "      <th>attr8</th>\n",
       "      <th>attr9</th>\n",
       "      <th>attr10</th>\n",
       "      <th>mixture</th>\n",
       "    </tr>\n",
       "  </thead>\n",
       "  <tbody>\n",
       "    <tr>\n",
       "      <th>1</th>\n",
       "      <td>0.80</td>\n",
       "      <td>0.40</td>\n",
       "      <td>0.70</td>\n",
       "      <td>0.60</td>\n",
       "      <td>0.10</td>\n",
       "      <td>0.50</td>\n",
       "      <td>1.0</td>\n",
       "      <td>0.75</td>\n",
       "      <td>0.5</td>\n",
       "      <td>0.7</td>\n",
       "      <td>0.8</td>\n",
       "      <td>acetone</td>\n",
       "    </tr>\n",
       "    <tr>\n",
       "      <th>2</th>\n",
       "      <td>0.90</td>\n",
       "      <td>0.20</td>\n",
       "      <td>0.40</td>\n",
       "      <td>0.50</td>\n",
       "      <td>0.10</td>\n",
       "      <td>0.70</td>\n",
       "      <td>0.6</td>\n",
       "      <td>0.50</td>\n",
       "      <td>0.5</td>\n",
       "      <td>0.7</td>\n",
       "      <td>0.8</td>\n",
       "      <td>ammonia</td>\n",
       "    </tr>\n",
       "    <tr>\n",
       "      <th>3</th>\n",
       "      <td>0.85</td>\n",
       "      <td>0.70</td>\n",
       "      <td>0.80</td>\n",
       "      <td>0.65</td>\n",
       "      <td>0.10</td>\n",
       "      <td>0.40</td>\n",
       "      <td>1.0</td>\n",
       "      <td>0.70</td>\n",
       "      <td>0.4</td>\n",
       "      <td>0.6</td>\n",
       "      <td>0.7</td>\n",
       "      <td>isopropanol</td>\n",
       "    </tr>\n",
       "    <tr>\n",
       "      <th>0</th>\n",
       "      <td>1.00</td>\n",
       "      <td>0.05</td>\n",
       "      <td>0.10</td>\n",
       "      <td>0.30</td>\n",
       "      <td>0.07</td>\n",
       "      <td>0.08</td>\n",
       "      <td>0.2</td>\n",
       "      <td>0.05</td>\n",
       "      <td>0.2</td>\n",
       "      <td>0.6</td>\n",
       "      <td>0.8</td>\n",
       "      <td>no</td>\n",
       "    </tr>\n",
       "    <tr>\n",
       "      <th>5</th>\n",
       "      <td>0.95</td>\n",
       "      <td>0.18</td>\n",
       "      <td>0.21</td>\n",
       "      <td>0.30</td>\n",
       "      <td>0.05</td>\n",
       "      <td>0.10</td>\n",
       "      <td>0.3</td>\n",
       "      <td>0.20</td>\n",
       "      <td>0.2</td>\n",
       "      <td>0.5</td>\n",
       "      <td>0.7</td>\n",
       "      <td>vinegar</td>\n",
       "    </tr>\n",
       "    <tr>\n",
       "      <th>4</th>\n",
       "      <td>0.90</td>\n",
       "      <td>0.30</td>\n",
       "      <td>0.30</td>\n",
       "      <td>0.40</td>\n",
       "      <td>0.04</td>\n",
       "      <td>0.10</td>\n",
       "      <td>0.5</td>\n",
       "      <td>0.30</td>\n",
       "      <td>0.2</td>\n",
       "      <td>0.7</td>\n",
       "      <td>0.8</td>\n",
       "      <td>white_stroke</td>\n",
       "    </tr>\n",
       "  </tbody>\n",
       "</table>\n",
       "</div>"
      ],
      "text/plain": [
       "   attr0  attr1  attr2  attr3  attr4  attr5  attr6  attr7  attr8  attr9  \\\n",
       "1   0.80   0.40   0.70   0.60   0.10   0.50    1.0   0.75    0.5    0.7   \n",
       "2   0.90   0.20   0.40   0.50   0.10   0.70    0.6   0.50    0.5    0.7   \n",
       "3   0.85   0.70   0.80   0.65   0.10   0.40    1.0   0.70    0.4    0.6   \n",
       "0   1.00   0.05   0.10   0.30   0.07   0.08    0.2   0.05    0.2    0.6   \n",
       "5   0.95   0.18   0.21   0.30   0.05   0.10    0.3   0.20    0.2    0.5   \n",
       "4   0.90   0.30   0.30   0.40   0.04   0.10    0.5   0.30    0.2    0.7   \n",
       "\n",
       "   attr10       mixture  \n",
       "1     0.8       acetone  \n",
       "2     0.8       ammonia  \n",
       "3     0.7   isopropanol  \n",
       "0     0.8            no  \n",
       "5     0.7       vinegar  \n",
       "4     0.8  white_stroke  "
      ]
     },
     "execution_count": 63,
     "metadata": {},
     "output_type": "execute_result"
    }
   ],
   "source": [
    "chemistry_df = pd.DataFrame(chemistry, columns=[f'attr{x}' for x in range(len(chemistry[0])-1)]+['mixture'])\n",
    "chemistry_df = chemistry_df.sort_values('mixture')\n",
    "chemistry_df"
   ]
  },
  {
   "cell_type": "code",
   "execution_count": 65,
   "metadata": {},
   "outputs": [],
   "source": [
    "X = chemistry_df[chemistry_df.columns[:-1]]\n",
    "y = pd.get_dummies(chemistry_df[chemistry_df.columns[-1]]).values"
   ]
  },
  {
   "cell_type": "code",
   "execution_count": 66,
   "metadata": {},
   "outputs": [
    {
     "data": {
      "text/html": [
       "<div>\n",
       "<style scoped>\n",
       "    .dataframe tbody tr th:only-of-type {\n",
       "        vertical-align: middle;\n",
       "    }\n",
       "\n",
       "    .dataframe tbody tr th {\n",
       "        vertical-align: top;\n",
       "    }\n",
       "\n",
       "    .dataframe thead th {\n",
       "        text-align: right;\n",
       "    }\n",
       "</style>\n",
       "<table border=\"1\" class=\"dataframe\">\n",
       "  <thead>\n",
       "    <tr style=\"text-align: right;\">\n",
       "      <th>mixture</th>\n",
       "      <th>acetone</th>\n",
       "      <th>ammonia</th>\n",
       "      <th>isopropanol</th>\n",
       "      <th>no</th>\n",
       "      <th>vinegar</th>\n",
       "      <th>white_stroke</th>\n",
       "    </tr>\n",
       "  </thead>\n",
       "  <tbody>\n",
       "    <tr>\n",
       "      <th>0</th>\n",
       "      <td>True</td>\n",
       "      <td>False</td>\n",
       "      <td>False</td>\n",
       "      <td>False</td>\n",
       "      <td>False</td>\n",
       "      <td>False</td>\n",
       "    </tr>\n",
       "    <tr>\n",
       "      <th>1</th>\n",
       "      <td>False</td>\n",
       "      <td>True</td>\n",
       "      <td>False</td>\n",
       "      <td>False</td>\n",
       "      <td>False</td>\n",
       "      <td>False</td>\n",
       "    </tr>\n",
       "    <tr>\n",
       "      <th>2</th>\n",
       "      <td>False</td>\n",
       "      <td>False</td>\n",
       "      <td>True</td>\n",
       "      <td>False</td>\n",
       "      <td>False</td>\n",
       "      <td>False</td>\n",
       "    </tr>\n",
       "    <tr>\n",
       "      <th>3</th>\n",
       "      <td>False</td>\n",
       "      <td>False</td>\n",
       "      <td>False</td>\n",
       "      <td>True</td>\n",
       "      <td>False</td>\n",
       "      <td>False</td>\n",
       "    </tr>\n",
       "    <tr>\n",
       "      <th>4</th>\n",
       "      <td>False</td>\n",
       "      <td>False</td>\n",
       "      <td>False</td>\n",
       "      <td>False</td>\n",
       "      <td>True</td>\n",
       "      <td>False</td>\n",
       "    </tr>\n",
       "    <tr>\n",
       "      <th>5</th>\n",
       "      <td>False</td>\n",
       "      <td>False</td>\n",
       "      <td>False</td>\n",
       "      <td>False</td>\n",
       "      <td>False</td>\n",
       "      <td>True</td>\n",
       "    </tr>\n",
       "  </tbody>\n",
       "</table>\n",
       "</div>"
      ],
      "text/plain": [
       "mixture  acetone  ammonia  isopropanol     no  vinegar  white_stroke\n",
       "0           True    False        False  False    False         False\n",
       "1          False     True        False  False    False         False\n",
       "2          False    False         True  False    False         False\n",
       "3          False    False        False   True    False         False\n",
       "4          False    False        False  False     True         False\n",
       "5          False    False        False  False    False          True"
      ]
     },
     "execution_count": 66,
     "metadata": {},
     "output_type": "execute_result"
    }
   ],
   "source": [
    "pd.DataFrame(y, columns=chemistry_df[chemistry_df.columns[-1]])"
   ]
  },
  {
   "cell_type": "code",
   "execution_count": 67,
   "metadata": {},
   "outputs": [
    {
     "name": "stdout",
     "output_type": "stream",
     "text": [
      "epoch 0: \n",
      "\tmse: 0.432876702575003, \taccuracy: 0.16666666666666666\n",
      "epoch 3000: \n",
      "\tmse: 0.0749752609679264, \taccuracy: 1.0\n",
      "epoch 6000: \n",
      "\tmse: 0.047187761835666184, \taccuracy: 1.0\n",
      "epoch 9000: \n",
      "\tmse: 0.028842536102846785, \taccuracy: 1.0\n",
      "epoch 12000: \n",
      "\tmse: 0.01774439855212747, \taccuracy: 1.0\n",
      "epoch 15000: \n",
      "\tmse: 0.011338230003871966, \taccuracy: 1.0\n",
      "epoch 18000: \n",
      "\tmse: 0.007583245032551063, \taccuracy: 1.0\n",
      "epoch 21000: \n",
      "\tmse: 0.005354432245978499, \taccuracy: 1.0\n",
      "epoch 24000: \n",
      "\tmse: 0.003982643623438919, \taccuracy: 1.0\n",
      "epoch 27000: \n",
      "\tmse: 0.00309526996483888, \taccuracy: 1.0\n",
      "epoch 30000: \n",
      "\tmse: 0.0024919606157276526, \taccuracy: 1.0\n"
     ]
    }
   ],
   "source": [
    "W1, W2, results = backpropagation(X, y, epoch = 30000, learning_rate=0.1, hidden_size=32)"
   ]
  },
  {
   "cell_type": "markdown",
   "metadata": {},
   "source": [
    "Отобразим график ошибки для полученной модели:"
   ]
  },
  {
   "cell_type": "code",
   "execution_count": 68,
   "metadata": {},
   "outputs": [
    {
     "data": {
      "image/png": "[encoded data removed]",
      "text/plain": [
       "<Figure size 640x480 with 1 Axes>"
      ]
     },
     "metadata": {},
     "output_type": "display_data"
    }
   ],
   "source": [
    "plt.plot(results.mse, color='red', label=\"Mean Squared Error\")\n",
    "plt.title(\"Mean Squared Error\")\n",
    "plt.legend()\n",
    "plt.show()"
   ]
  },
  {
   "cell_type": "markdown",
   "metadata": {},
   "source": [
    "#### Протестируем на синтетическом примере для уксуса"
   ]
  },
  {
   "cell_type": "code",
   "execution_count": 69,
   "metadata": {},
   "outputs": [],
   "source": [
    "A1, A2 = feedforward_propagation([0.9, 0.13, 0.24, 0.35, 0.051, 0.12, 0.27, 0.2, 0.2, 0.5, 0.69], W1, W2)"
   ]
  },
  {
   "cell_type": "code",
   "execution_count": 70,
   "metadata": {},
   "outputs": [
    {
     "data": {
      "text/html": [
       "<div>\n",
       "<style scoped>\n",
       "    .dataframe tbody tr th:only-of-type {\n",
       "        vertical-align: middle;\n",
       "    }\n",
       "\n",
       "    .dataframe tbody tr th {\n",
       "        vertical-align: top;\n",
       "    }\n",
       "\n",
       "    .dataframe thead th {\n",
       "        text-align: right;\n",
       "    }\n",
       "</style>\n",
       "<table border=\"1\" class=\"dataframe\">\n",
       "  <thead>\n",
       "    <tr style=\"text-align: right;\">\n",
       "      <th>mixture</th>\n",
       "      <th>acetone</th>\n",
       "      <th>ammonia</th>\n",
       "      <th>isopropanol</th>\n",
       "      <th>no</th>\n",
       "      <th>vinegar</th>\n",
       "      <th>white_stroke</th>\n",
       "    </tr>\n",
       "  </thead>\n",
       "  <tbody>\n",
       "    <tr>\n",
       "      <th>0</th>\n",
       "      <td>0.00002</td>\n",
       "      <td>0.010977</td>\n",
       "      <td>0.004816</td>\n",
       "      <td>0.078961</td>\n",
       "      <td>0.649794</td>\n",
       "      <td>0.042698</td>\n",
       "    </tr>\n",
       "  </tbody>\n",
       "</table>\n",
       "</div>"
      ],
      "text/plain": [
       "mixture  acetone   ammonia  isopropanol        no   vinegar  white_stroke\n",
       "0        0.00002  0.010977     0.004816  0.078961  0.649794      0.042698"
      ]
     },
     "execution_count": 70,
     "metadata": {},
     "output_type": "execute_result"
    }
   ],
   "source": [
    "pd.DataFrame([A2], columns=chemistry_df[chemistry_df.columns[-1]])"
   ]
  },
  {
   "cell_type": "markdown",
   "metadata": {},
   "source": [
    "## ПРОГНОЗИРОВАНИЕ ВРЕМЕННЫХ РЯДОВ"
   ]
  },
  {
   "cell_type": "markdown",
   "metadata": {},
   "source": [
    "#### Генерация случайных данных"
   ]
  },
  {
   "cell_type": "code",
   "execution_count": 71,
   "metadata": {},
   "outputs": [],
   "source": [
    "data = [np.random.randint(0, 10) for _ in range(100)]"
   ]
  },
  {
   "cell_type": "code",
   "execution_count": 72,
   "metadata": {},
   "outputs": [
    {
     "data": {
      "text/html": [
       "<div>\n",
       "<style scoped>\n",
       "    .dataframe tbody tr th:only-of-type {\n",
       "        vertical-align: middle;\n",
       "    }\n",
       "\n",
       "    .dataframe tbody tr th {\n",
       "        vertical-align: top;\n",
       "    }\n",
       "\n",
       "    .dataframe thead th {\n",
       "        text-align: right;\n",
       "    }\n",
       "</style>\n",
       "<table border=\"1\" class=\"dataframe\">\n",
       "  <thead>\n",
       "    <tr style=\"text-align: right;\">\n",
       "      <th></th>\n",
       "      <th>numb</th>\n",
       "      <th>rand</th>\n",
       "    </tr>\n",
       "  </thead>\n",
       "  <tbody>\n",
       "    <tr>\n",
       "      <th>0</th>\n",
       "      <td>0</td>\n",
       "      <td>5</td>\n",
       "    </tr>\n",
       "    <tr>\n",
       "      <th>1</th>\n",
       "      <td>1</td>\n",
       "      <td>0</td>\n",
       "    </tr>\n",
       "    <tr>\n",
       "      <th>2</th>\n",
       "      <td>2</td>\n",
       "      <td>5</td>\n",
       "    </tr>\n",
       "    <tr>\n",
       "      <th>3</th>\n",
       "      <td>3</td>\n",
       "      <td>2</td>\n",
       "    </tr>\n",
       "    <tr>\n",
       "      <th>4</th>\n",
       "      <td>4</td>\n",
       "      <td>1</td>\n",
       "    </tr>\n",
       "    <tr>\n",
       "      <th>...</th>\n",
       "      <td>...</td>\n",
       "      <td>...</td>\n",
       "    </tr>\n",
       "    <tr>\n",
       "      <th>95</th>\n",
       "      <td>95</td>\n",
       "      <td>7</td>\n",
       "    </tr>\n",
       "    <tr>\n",
       "      <th>96</th>\n",
       "      <td>96</td>\n",
       "      <td>3</td>\n",
       "    </tr>\n",
       "    <tr>\n",
       "      <th>97</th>\n",
       "      <td>97</td>\n",
       "      <td>4</td>\n",
       "    </tr>\n",
       "    <tr>\n",
       "      <th>98</th>\n",
       "      <td>98</td>\n",
       "      <td>8</td>\n",
       "    </tr>\n",
       "    <tr>\n",
       "      <th>99</th>\n",
       "      <td>99</td>\n",
       "      <td>2</td>\n",
       "    </tr>\n",
       "  </tbody>\n",
       "</table>\n",
       "<p>100 rows × 2 columns</p>\n",
       "</div>"
      ],
      "text/plain": [
       "    numb  rand\n",
       "0      0     5\n",
       "1      1     0\n",
       "2      2     5\n",
       "3      3     2\n",
       "4      4     1\n",
       "..   ...   ...\n",
       "95    95     7\n",
       "96    96     3\n",
       "97    97     4\n",
       "98    98     8\n",
       "99    99     2\n",
       "\n",
       "[100 rows x 2 columns]"
      ]
     },
     "execution_count": 72,
     "metadata": {},
     "output_type": "execute_result"
    }
   ],
   "source": [
    "data_df = pd.DataFrame([[i, x] for i, x in enumerate(data)], columns=['numb', 'rand'])\n",
    "data_df"
   ]
  },
  {
   "cell_type": "code",
   "execution_count": 73,
   "metadata": {},
   "outputs": [],
   "source": [
    "scaler = MinMaxScaler()\n",
    "scaler.fit(data_df)\n",
    "data_df = pd.DataFrame(scaler.transform(data_df), columns=['numb', 'rand'])"
   ]
  },
  {
   "cell_type": "markdown",
   "metadata": {},
   "source": [
    "#### Исследование на скоррелированность"
   ]
  },
  {
   "cell_type": "code",
   "execution_count": 74,
   "metadata": {},
   "outputs": [
    {
     "data": {
      "text/html": [
       "<div>\n",
       "<style scoped>\n",
       "    .dataframe tbody tr th:only-of-type {\n",
       "        vertical-align: middle;\n",
       "    }\n",
       "\n",
       "    .dataframe tbody tr th {\n",
       "        vertical-align: top;\n",
       "    }\n",
       "\n",
       "    .dataframe thead th {\n",
       "        text-align: right;\n",
       "    }\n",
       "</style>\n",
       "<table border=\"1\" class=\"dataframe\">\n",
       "  <thead>\n",
       "    <tr style=\"text-align: right;\">\n",
       "      <th></th>\n",
       "      <th>numb</th>\n",
       "      <th>rand</th>\n",
       "    </tr>\n",
       "  </thead>\n",
       "  <tbody>\n",
       "    <tr>\n",
       "      <th>numb</th>\n",
       "      <td>1.000000</td>\n",
       "      <td>0.056906</td>\n",
       "    </tr>\n",
       "    <tr>\n",
       "      <th>rand</th>\n",
       "      <td>0.056906</td>\n",
       "      <td>1.000000</td>\n",
       "    </tr>\n",
       "  </tbody>\n",
       "</table>\n",
       "</div>"
      ],
      "text/plain": [
       "          numb      rand\n",
       "numb  1.000000  0.056906\n",
       "rand  0.056906  1.000000"
      ]
     },
     "execution_count": 74,
     "metadata": {},
     "output_type": "execute_result"
    }
   ],
   "source": [
    "data_df.corr()"
   ]
  },
  {
   "cell_type": "code",
   "execution_count": 76,
   "metadata": {},
   "outputs": [
    {
     "data": {
      "image/png": "[encoded data removed]",
      "text/plain": [
       "<Figure size 1000x400 with 1 Axes>"
      ]
     },
     "metadata": {},
     "output_type": "display_data"
    }
   ],
   "source": [
    "plt.figure(figsize=(10, 4))\n",
    "plt.plot(data_df.numb, data_df.rand, color='red')\n",
    "plt.show()"
   ]
  },
  {
   "cell_type": "code",
   "execution_count": 77,
   "metadata": {},
   "outputs": [],
   "source": [
    "X = data_df[data_df.columns[:-1]]\n",
    "y = pd.get_dummies(data_df[data_df.columns[-1]]).values"
   ]
  },
  {
   "cell_type": "code",
   "execution_count": 78,
   "metadata": {},
   "outputs": [],
   "source": [
    "X_train, X_test, y_train, y_test = X[:90], X[90:], y[:90], y[90:]"
   ]
  },
  {
   "cell_type": "code",
   "execution_count": 79,
   "metadata": {},
   "outputs": [
    {
     "name": "stdout",
     "output_type": "stream",
     "text": [
      "epoch 0: \tmape: 5.215568761825631\n",
      "epoch 10000: \tmape: 1.7820154214305224\n",
      "epoch 20000: \tmape: 1.7683912238602832\n",
      "epoch 30000: \tmape: 1.7598710756556772\n",
      "epoch 40000: \tmape: 1.7547115568938956\n",
      "epoch 50000: \tmape: 1.7514975511137947\n",
      "epoch 60000: \tmape: 1.7494182734252446\n",
      "epoch 70000: \tmape: 1.748013886582164\n",
      "epoch 80000: \tmape: 1.747022665367308\n",
      "epoch 90000: \tmape: 1.7462934018541176\n",
      "epoch 100000: \tmape: 1.745736659016705\n"
     ]
    }
   ],
   "source": [
    "W1, W2, results = backpropagation(X_train, y_train, epoch = 100000, learning_rate=0.1, hidden_size=64, isMape=True)"
   ]
  },
  {
   "cell_type": "markdown",
   "metadata": {},
   "source": [
    "#### Функцию, которая конвертирует значения в соответствии с их весами"
   ]
  },
  {
   "cell_type": "code",
   "execution_count": 80,
   "metadata": {},
   "outputs": [],
   "source": [
    "def converted(A2, scale=10):\n",
    "    y_pred = []\n",
    "    xmin, xmax = 0, scale-1\n",
    "    for y_pr in A2:\n",
    "        max_y, max_w = 0, 0\n",
    "        for i, w in enumerate(y_pr):\n",
    "            if w > max_w:\n",
    "                max_y = i\n",
    "                max_w = w\n",
    "        y_pred.append(max_y)\n",
    "    return (np.array(y_pred) - xmin)/(xmax-xmin)"
   ]
  },
  {
   "cell_type": "code",
   "execution_count": 81,
   "metadata": {},
   "outputs": [],
   "source": [
    "A1, A2 = feedforward_propagation(X_test, W1, W2)"
   ]
  },
  {
   "cell_type": "code",
   "execution_count": 82,
   "metadata": {},
   "outputs": [
    {
     "data": {
      "image/png": "[encoded data removed]",
      "text/plain": [
       "<Figure size 1000x400 with 1 Axes>"
      ]
     },
     "metadata": {},
     "output_type": "display_data"
    }
   ],
   "source": [
    "plt.figure(figsize = (10, 4))\n",
    "plt.plot(data_df.numb, data_df.rand, color='red')\n",
    "plt.plot(data_df.numb.values[90:], converted(A2))\n",
    "plt.show()"
   ]
  },
  {
   "cell_type": "markdown",
   "metadata": {},
   "source": [
    "#### Ошибка MAPE"
   ]
  },
  {
   "cell_type": "code",
   "execution_count": 83,
   "metadata": {},
   "outputs": [
    {
     "data": {
      "text/plain": [
       "0.6842105263157896"
      ]
     },
     "execution_count": 83,
     "metadata": {},
     "output_type": "execute_result"
    }
   ],
   "source": [
    "mape_ = mape(converted(A2), data_df.rand.values[90:])\n",
    "mape_"
   ]
  },
  {
   "cell_type": "code",
   "execution_count": 84,
   "metadata": {},
   "outputs": [],
   "source": [
    "data = [np.random.randint(0, 100) for _ in range(100)]"
   ]
  },
  {
   "cell_type": "code",
   "execution_count": 86,
   "metadata": {},
   "outputs": [
    {
     "data": {
      "text/html": [
       "<div>\n",
       "<style scoped>\n",
       "    .dataframe tbody tr th:only-of-type {\n",
       "        vertical-align: middle;\n",
       "    }\n",
       "\n",
       "    .dataframe tbody tr th {\n",
       "        vertical-align: top;\n",
       "    }\n",
       "\n",
       "    .dataframe thead th {\n",
       "        text-align: right;\n",
       "    }\n",
       "</style>\n",
       "<table border=\"1\" class=\"dataframe\">\n",
       "  <thead>\n",
       "    <tr style=\"text-align: right;\">\n",
       "      <th></th>\n",
       "      <th>numb</th>\n",
       "      <th>rand</th>\n",
       "    </tr>\n",
       "  </thead>\n",
       "  <tbody>\n",
       "    <tr>\n",
       "      <th>0</th>\n",
       "      <td>0</td>\n",
       "      <td>44</td>\n",
       "    </tr>\n",
       "    <tr>\n",
       "      <th>1</th>\n",
       "      <td>1</td>\n",
       "      <td>95</td>\n",
       "    </tr>\n",
       "    <tr>\n",
       "      <th>2</th>\n",
       "      <td>2</td>\n",
       "      <td>25</td>\n",
       "    </tr>\n",
       "    <tr>\n",
       "      <th>3</th>\n",
       "      <td>3</td>\n",
       "      <td>64</td>\n",
       "    </tr>\n",
       "    <tr>\n",
       "      <th>4</th>\n",
       "      <td>4</td>\n",
       "      <td>72</td>\n",
       "    </tr>\n",
       "    <tr>\n",
       "      <th>...</th>\n",
       "      <td>...</td>\n",
       "      <td>...</td>\n",
       "    </tr>\n",
       "    <tr>\n",
       "      <th>95</th>\n",
       "      <td>95</td>\n",
       "      <td>51</td>\n",
       "    </tr>\n",
       "    <tr>\n",
       "      <th>96</th>\n",
       "      <td>96</td>\n",
       "      <td>49</td>\n",
       "    </tr>\n",
       "    <tr>\n",
       "      <th>97</th>\n",
       "      <td>97</td>\n",
       "      <td>86</td>\n",
       "    </tr>\n",
       "    <tr>\n",
       "      <th>98</th>\n",
       "      <td>98</td>\n",
       "      <td>97</td>\n",
       "    </tr>\n",
       "    <tr>\n",
       "      <th>99</th>\n",
       "      <td>99</td>\n",
       "      <td>4</td>\n",
       "    </tr>\n",
       "  </tbody>\n",
       "</table>\n",
       "<p>100 rows × 2 columns</p>\n",
       "</div>"
      ],
      "text/plain": [
       "    numb  rand\n",
       "0      0    44\n",
       "1      1    95\n",
       "2      2    25\n",
       "3      3    64\n",
       "4      4    72\n",
       "..   ...   ...\n",
       "95    95    51\n",
       "96    96    49\n",
       "97    97    86\n",
       "98    98    97\n",
       "99    99     4\n",
       "\n",
       "[100 rows x 2 columns]"
      ]
     },
     "execution_count": 86,
     "metadata": {},
     "output_type": "execute_result"
    }
   ],
   "source": [
    "data_df = pd.DataFrame([[i, x] for i, x in enumerate(data)], columns=['numb', 'rand'])\n",
    "data_df"
   ]
  },
  {
   "cell_type": "code",
   "execution_count": 87,
   "metadata": {},
   "outputs": [],
   "source": [
    "scaler = MinMaxScaler()\n",
    "scaler.fit(data_df)\n",
    "data_df = pd.DataFrame(scaler.transform(data_df), columns=['numb', 'rand'])"
   ]
  },
  {
   "cell_type": "code",
   "execution_count": 88,
   "metadata": {},
   "outputs": [
    {
     "data": {
      "text/html": [
       "<div>\n",
       "<style scoped>\n",
       "    .dataframe tbody tr th:only-of-type {\n",
       "        vertical-align: middle;\n",
       "    }\n",
       "\n",
       "    .dataframe tbody tr th {\n",
       "        vertical-align: top;\n",
       "    }\n",
       "\n",
       "    .dataframe thead th {\n",
       "        text-align: right;\n",
       "    }\n",
       "</style>\n",
       "<table border=\"1\" class=\"dataframe\">\n",
       "  <thead>\n",
       "    <tr style=\"text-align: right;\">\n",
       "      <th></th>\n",
       "      <th>numb</th>\n",
       "      <th>rand</th>\n",
       "    </tr>\n",
       "  </thead>\n",
       "  <tbody>\n",
       "    <tr>\n",
       "      <th>numb</th>\n",
       "      <td>1.000000</td>\n",
       "      <td>-0.114518</td>\n",
       "    </tr>\n",
       "    <tr>\n",
       "      <th>rand</th>\n",
       "      <td>-0.114518</td>\n",
       "      <td>1.000000</td>\n",
       "    </tr>\n",
       "  </tbody>\n",
       "</table>\n",
       "</div>"
      ],
      "text/plain": [
       "          numb      rand\n",
       "numb  1.000000 -0.114518\n",
       "rand -0.114518  1.000000"
      ]
     },
     "execution_count": 88,
     "metadata": {},
     "output_type": "execute_result"
    }
   ],
   "source": [
    "data_df.corr()"
   ]
  },
  {
   "cell_type": "code",
   "execution_count": 90,
   "metadata": {},
   "outputs": [
    {
     "data": {
      "image/png": "[encoded data removed]",
      "text/plain": [
       "<Figure size 1800x400 with 1 Axes>"
      ]
     },
     "metadata": {},
     "output_type": "display_data"
    }
   ],
   "source": [
    "plt.figure(figsize = (18, 4))\n",
    "plt.plot(data_df.numb, data_df.rand, color='red')\n",
    "plt.show()"
   ]
  },
  {
   "cell_type": "code",
   "execution_count": 91,
   "metadata": {},
   "outputs": [],
   "source": [
    "X = data_df[data_df.columns[:-1]]\n",
    "y = pd.get_dummies(data_df[data_df.columns[-1]]).values\n",
    "X_train, X_test, y_train, y_test = X[:90], X[90:], y[:90], y[90:]"
   ]
  },
  {
   "cell_type": "code",
   "execution_count": 92,
   "metadata": {},
   "outputs": [
    {
     "name": "stdout",
     "output_type": "stream",
     "text": [
      "epoch 0: \tmape: 29.253943246014032\n",
      "epoch 10000: \tmape: 1.9697227051629633\n",
      "epoch 20000: \tmape: 2.0031890839243265\n",
      "epoch 30000: \tmape: 2.029308967008558\n",
      "epoch 40000: \tmape: 2.042688906093344\n",
      "epoch 50000: \tmape: 2.0528450481025637\n",
      "epoch 60000: \tmape: 2.061084093184512\n",
      "epoch 70000: \tmape: 2.067162301188619\n",
      "epoch 80000: \tmape: 2.070937017449625\n",
      "epoch 90000: \tmape: 2.0725122529015634\n",
      "epoch 100000: \tmape: 2.0722229377143866\n"
     ]
    }
   ],
   "source": [
    "W1, W2, results = backpropagation(X_train, y_train, epoch = 100000, learning_rate=0.1, hidden_size=128, isMape=True)"
   ]
  },
  {
   "cell_type": "code",
   "execution_count": 93,
   "metadata": {},
   "outputs": [],
   "source": [
    "A1, A2 = feedforward_propagation(X_test, W1, W2)"
   ]
  },
  {
   "cell_type": "code",
   "execution_count": 94,
   "metadata": {},
   "outputs": [
    {
     "data": {
      "image/png": "[encoded data removed]",
      "text/plain": [
       "<Figure size 1000x400 with 1 Axes>"
      ]
     },
     "metadata": {},
     "output_type": "display_data"
    }
   ],
   "source": [
    "plt.figure(figsize = (10, 4))\n",
    "plt.plot(data_df.numb, data_df.rand, color='red')\n",
    "plt.plot(data_df.numb.values[90:], converted(A2, scale=100))\n",
    "plt.show()"
   ]
  },
  {
   "cell_type": "markdown",
   "metadata": {},
   "source": [
    "#### Оценка качества"
   ]
  },
  {
   "cell_type": "code",
   "execution_count": 95,
   "metadata": {},
   "outputs": [
    {
     "data": {
      "text/plain": [
       "0.7209282911762253"
      ]
     },
     "execution_count": 95,
     "metadata": {},
     "output_type": "execute_result"
    }
   ],
   "source": [
    "mape_ = mape(converted(A2, scale=100), data_df.rand.values[90:])\n",
    "mape_"
   ]
  },
  {
   "cell_type": "markdown",
   "metadata": {},
   "source": [
    "#### Проанализируем ряды реальных данных"
   ]
  },
  {
   "cell_type": "code",
   "execution_count": 35,
   "metadata": {},
   "outputs": [
    {
     "data": {
      "text/html": [
       "<div>\n",
       "<style scoped>\n",
       "    .dataframe tbody tr th:only-of-type {\n",
       "        vertical-align: middle;\n",
       "    }\n",
       "\n",
       "    .dataframe tbody tr th {\n",
       "        vertical-align: top;\n",
       "    }\n",
       "\n",
       "    .dataframe thead th {\n",
       "        text-align: right;\n",
       "    }\n",
       "</style>\n",
       "<table border=\"1\" class=\"dataframe\">\n",
       "  <thead>\n",
       "    <tr style=\"text-align: right;\">\n",
       "      <th></th>\n",
       "      <th>Годы</th>\n",
       "      <th>y</th>\n",
       "      <th>x1</th>\n",
       "      <th>x2</th>\n",
       "      <th>x3</th>\n",
       "      <th>x4</th>\n",
       "      <th>x5</th>\n",
       "    </tr>\n",
       "  </thead>\n",
       "  <tbody>\n",
       "    <tr>\n",
       "      <th>0</th>\n",
       "      <td>1990</td>\n",
       "      <td>475,3</td>\n",
       "      <td>0,986</td>\n",
       "      <td>0,978</td>\n",
       "      <td>0,970</td>\n",
       "      <td>1,060</td>\n",
       "      <td>0,880</td>\n",
       "    </tr>\n",
       "    <tr>\n",
       "      <th>1</th>\n",
       "      <td>1991</td>\n",
       "      <td>413,5</td>\n",
       "      <td>0,876</td>\n",
       "      <td>0,858</td>\n",
       "      <td>0,870</td>\n",
       "      <td>1,082</td>\n",
       "      <td>0,840</td>\n",
       "    </tr>\n",
       "    <tr>\n",
       "      <th>2</th>\n",
       "      <td>1992</td>\n",
       "      <td>401,7</td>\n",
       "      <td>0,699</td>\n",
       "      <td>0,690</td>\n",
       "      <td>0,764</td>\n",
       "      <td>1,104</td>\n",
       "      <td>0,480</td>\n",
       "    </tr>\n",
       "    <tr>\n",
       "      <th>3</th>\n",
       "      <td>1993</td>\n",
       "      <td>400,9</td>\n",
       "      <td>0,605</td>\n",
       "      <td>0,619</td>\n",
       "      <td>0,685</td>\n",
       "      <td>1,126</td>\n",
       "      <td>0,475</td>\n",
       "    </tr>\n",
       "    <tr>\n",
       "      <th>4</th>\n",
       "      <td>1994</td>\n",
       "      <td>401,3</td>\n",
       "      <td>0,514</td>\n",
       "      <td>0,559</td>\n",
       "      <td>0,566</td>\n",
       "      <td>1,148</td>\n",
       "      <td>0,525</td>\n",
       "    </tr>\n",
       "    <tr>\n",
       "      <th>5</th>\n",
       "      <td>1995</td>\n",
       "      <td>402,5</td>\n",
       "      <td>0,483</td>\n",
       "      <td>0,492</td>\n",
       "      <td>0,534</td>\n",
       "      <td>1,170</td>\n",
       "      <td>0,575</td>\n",
       "    </tr>\n",
       "    <tr>\n",
       "      <th>6</th>\n",
       "      <td>1996</td>\n",
       "      <td>401,1</td>\n",
       "      <td>0,459</td>\n",
       "      <td>0,501</td>\n",
       "      <td>0,570</td>\n",
       "      <td>1,230</td>\n",
       "      <td>0,582</td>\n",
       "    </tr>\n",
       "    <tr>\n",
       "      <th>7</th>\n",
       "      <td>1997</td>\n",
       "      <td>404,4</td>\n",
       "      <td>0,464</td>\n",
       "      <td>0,506</td>\n",
       "      <td>0,593</td>\n",
       "      <td>1,304</td>\n",
       "      <td>0,539</td>\n",
       "    </tr>\n",
       "    <tr>\n",
       "      <th>8</th>\n",
       "      <td>1998</td>\n",
       "      <td>406,2</td>\n",
       "      <td>0,478</td>\n",
       "      <td>0,430</td>\n",
       "      <td>0,640</td>\n",
       "      <td>1,336</td>\n",
       "      <td>0,512</td>\n",
       "    </tr>\n",
       "    <tr>\n",
       "      <th>9</th>\n",
       "      <td>1999</td>\n",
       "      <td>412,2</td>\n",
       "      <td>0,507</td>\n",
       "      <td>0,587</td>\n",
       "      <td>0,695</td>\n",
       "      <td>1,370</td>\n",
       "      <td>0,519</td>\n",
       "    </tr>\n",
       "    <tr>\n",
       "      <th>10</th>\n",
       "      <td>2000</td>\n",
       "      <td>416,5</td>\n",
       "      <td>0,671</td>\n",
       "      <td>0,777</td>\n",
       "      <td>0,730</td>\n",
       "      <td>1,400</td>\n",
       "      <td>0,617</td>\n",
       "    </tr>\n",
       "    <tr>\n",
       "      <th>11</th>\n",
       "      <td>2001</td>\n",
       "      <td>425,8</td>\n",
       "      <td>0,801</td>\n",
       "      <td>1,109</td>\n",
       "      <td>0,758</td>\n",
       "      <td>1,430</td>\n",
       "      <td>0,624</td>\n",
       "    </tr>\n",
       "    <tr>\n",
       "      <th>12</th>\n",
       "      <td>2002</td>\n",
       "      <td>435,4</td>\n",
       "      <td>0,981</td>\n",
       "      <td>1,267</td>\n",
       "      <td>0,794</td>\n",
       "      <td>1,528</td>\n",
       "      <td>0,634</td>\n",
       "    </tr>\n",
       "    <tr>\n",
       "      <th>13</th>\n",
       "      <td>2003</td>\n",
       "      <td>445,4</td>\n",
       "      <td>1,117</td>\n",
       "      <td>1,425</td>\n",
       "      <td>0,830</td>\n",
       "      <td>1,626</td>\n",
       "      <td>0,656</td>\n",
       "    </tr>\n",
       "    <tr>\n",
       "      <th>14</th>\n",
       "      <td>2004</td>\n",
       "      <td>454,6</td>\n",
       "      <td>1,254</td>\n",
       "      <td>1,583</td>\n",
       "      <td>0,866</td>\n",
       "      <td>1,724</td>\n",
       "      <td>0,682</td>\n",
       "    </tr>\n",
       "    <tr>\n",
       "      <th>15</th>\n",
       "      <td>2005</td>\n",
       "      <td>466,1</td>\n",
       "      <td>1,411</td>\n",
       "      <td>1,741</td>\n",
       "      <td>0,904</td>\n",
       "      <td>1,824</td>\n",
       "      <td>0,729</td>\n",
       "    </tr>\n",
       "    <tr>\n",
       "      <th>16</th>\n",
       "      <td>2006</td>\n",
       "      <td>475,2</td>\n",
       "      <td>1,568</td>\n",
       "      <td>1,899</td>\n",
       "      <td>1,075</td>\n",
       "      <td>1,887</td>\n",
       "      <td>0,780</td>\n",
       "    </tr>\n",
       "  </tbody>\n",
       "</table>\n",
       "</div>"
      ],
      "text/plain": [
       "    Годы      y     x1     x2     x3     x4     x5\n",
       "0   1990  475,3  0,986  0,978  0,970  1,060  0,880\n",
       "1   1991  413,5  0,876  0,858  0,870  1,082  0,840\n",
       "2   1992  401,7  0,699  0,690  0,764  1,104  0,480\n",
       "3   1993  400,9  0,605  0,619  0,685  1,126  0,475\n",
       "4   1994  401,3  0,514  0,559  0,566  1,148  0,525\n",
       "5   1995  402,5  0,483  0,492  0,534  1,170  0,575\n",
       "6   1996  401,1  0,459  0,501  0,570  1,230  0,582\n",
       "7   1997  404,4  0,464  0,506  0,593  1,304  0,539\n",
       "8   1998  406,2  0,478  0,430  0,640  1,336  0,512\n",
       "9   1999  412,2  0,507  0,587  0,695  1,370  0,519\n",
       "10  2000  416,5  0,671  0,777  0,730  1,400  0,617\n",
       "11  2001  425,8  0,801  1,109  0,758  1,430  0,624\n",
       "12  2002  435,4  0,981  1,267  0,794  1,528  0,634\n",
       "13  2003  445,4  1,117  1,425  0,830  1,626  0,656\n",
       "14  2004  454,6  1,254  1,583  0,866  1,724  0,682\n",
       "15  2005  466,1  1,411  1,741  0,904  1,824  0,729\n",
       "16  2006  475,2  1,568  1,899  1,075  1,887  0,780"
      ]
     },
     "execution_count": 35,
     "metadata": {},
     "output_type": "execute_result"
    }
   ],
   "source": [
    "dataset = pd.read_csv('D:\\Загрузки\\dataset.txt', sep=' ')\n",
    "dataset"
   ]
  },
  {
   "cell_type": "code",
   "execution_count": 36,
   "metadata": {},
   "outputs": [
    {
     "data": {
      "image/png": "[encoded data removed]",
      "text/plain": [
       "<Figure size 800x400 with 1 Axes>"
      ]
     },
     "metadata": {},
     "output_type": "display_data"
    }
   ],
   "source": [
    "plt.figure(figsize = (8, 4))\n",
    "plt.plot(dataset['Годы'], dataset.y)\n",
    "plt.show()"
   ]
  },
  {
   "cell_type": "code",
   "execution_count": 37,
   "metadata": {},
   "outputs": [],
   "source": [
    "X = dataset[['x1', 'x2', 'x3', 'x4']].values\n",
    "y = pd.get_dummies(dataset['y']).values\n",
    "X_train, X_test, y_train, y_test = X[:15], X[15:], y[:15], y[15:]"
   ]
  },
  {
   "cell_type": "code",
   "execution_count": 38,
   "metadata": {},
   "outputs": [
    {
     "ename": "TypeError",
     "evalue": "can't multiply sequence by non-int of type 'float'",
     "output_type": "error",
     "traceback": [
      "\u001b[1;31m---------------------------------------------------------------------------\u001b[0m",
      "\u001b[1;31mTypeError\u001b[0m                                 Traceback (most recent call last)",
      "Cell \u001b[1;32mIn[38], line 1\u001b[0m\n\u001b[1;32m----> 1\u001b[0m W1, W2, results \u001b[38;5;241m=\u001b[39m backpropagation(X_train, y_train, epoch \u001b[38;5;241m=\u001b[39m \u001b[38;5;241m100000\u001b[39m, learning_rate\u001b[38;5;241m=\u001b[39m\u001b[38;5;241m0.1\u001b[39m, hidden_size\u001b[38;5;241m=\u001b[39m\u001b[38;5;241m128\u001b[39m, isMape\u001b[38;5;241m=\u001b[39m\u001b[38;5;28;01mTrue\u001b[39;00m)\n",
      "Cell \u001b[1;32mIn[12], line 13\u001b[0m, in \u001b[0;36mbackpropagation\u001b[1;34m(x, y, learning_rate, epoch, hidden_size, itsPrint, isMape)\u001b[0m\n\u001b[0;32m      9\u001b[0m W2 \u001b[38;5;241m=\u001b[39m np\u001b[38;5;241m.\u001b[39mrandom\u001b[38;5;241m.\u001b[39mnormal(scale\u001b[38;5;241m=\u001b[39m\u001b[38;5;241m0.5\u001b[39m, size\u001b[38;5;241m=\u001b[39m(hidden_size , output_size))\n\u001b[0;32m     11\u001b[0m \u001b[38;5;28;01mfor\u001b[39;00m eph \u001b[38;5;129;01min\u001b[39;00m \u001b[38;5;28mrange\u001b[39m(epoch\u001b[38;5;241m+\u001b[39m\u001b[38;5;241m1\u001b[39m):    \n\u001b[1;32m---> 13\u001b[0m     A1, A2 \u001b[38;5;241m=\u001b[39m feedforward_propagation(x, W1, W2)\n\u001b[0;32m     15\u001b[0m     mse \u001b[38;5;241m=\u001b[39m mean_squared_error(A2, y)\n\u001b[0;32m     16\u001b[0m     acc \u001b[38;5;241m=\u001b[39m accuracy(A2, y)\n",
      "Cell \u001b[1;32mIn[6], line 2\u001b[0m, in \u001b[0;36mfeedforward_propagation\u001b[1;34m(x, W1, W2)\u001b[0m\n\u001b[0;32m      1\u001b[0m \u001b[38;5;28;01mdef\u001b[39;00m \u001b[38;5;21mfeedforward_propagation\u001b[39m(x, W1, W2):\n\u001b[1;32m----> 2\u001b[0m     Z1 \u001b[38;5;241m=\u001b[39m np\u001b[38;5;241m.\u001b[39mdot(x, W1)\n\u001b[0;32m      3\u001b[0m     A1 \u001b[38;5;241m=\u001b[39m sigmoid(Z1)\n\u001b[0;32m      5\u001b[0m     Z2 \u001b[38;5;241m=\u001b[39m np\u001b[38;5;241m.\u001b[39mdot(A1, W2)\n",
      "\u001b[1;31mTypeError\u001b[0m: can't multiply sequence by non-int of type 'float'"
     ]
    }
   ],
   "source": [
    "W1, W2, results = backpropagation(X_train, y_train, epoch = 100000, learning_rate=0.1, hidden_size=128, isMape=True)"
   ]
  },
  {
   "cell_type": "code",
   "execution_count": 234,
   "metadata": {},
   "outputs": [
    {
     "data": {
      "text/plain": [
       "(5, 128)"
      ]
     },
     "execution_count": 234,
     "metadata": {},
     "output_type": "execute_result"
    }
   ],
   "source": [
    "W1.shape"
   ]
  },
  {
   "cell_type": "code",
   "execution_count": 236,
   "metadata": {},
   "outputs": [
    {
     "data": {
      "text/plain": [
       "(128, 17)"
      ]
     },
     "execution_count": 236,
     "metadata": {},
     "output_type": "execute_result"
    }
   ],
   "source": [
    "W2.shape"
   ]
  },
  {
   "cell_type": "code",
   "execution_count": 230,
   "metadata": {},
   "outputs": [],
   "source": [
    "A1, A2 = feedforward_propagation(X_test, W1, W2)"
   ]
  },
  {
   "cell_type": "code",
   "execution_count": 231,
   "metadata": {},
   "outputs": [
    {
     "data": {
      "text/plain": [
       "0.08509508127058327"
      ]
     },
     "execution_count": 231,
     "metadata": {},
     "output_type": "execute_result"
    }
   ],
   "source": [
    "mape(np.array([425.8, 435.4]), np.array([466.1, 475.2]))"
   ]
  },
  {
   "cell_type": "code",
   "execution_count": 232,
   "metadata": {},
   "outputs": [
    {
     "data": {
      "image/png": "[encoded data removed]",
      "text/plain": [
       "<Figure size 800x400 with 1 Axes>"
      ]
     },
     "metadata": {},
     "output_type": "display_data"
    }
   ],
   "source": [
    "plt.figure(figsize = (8, 4))\n",
    "plt.plot(dataset['Годы'], dataset.y)\n",
    "plt.plot(dataset['Годы'][-2:], np.array([425.8, 435.4]))\n",
    "plt.show()"
   ]
  }
 ],
 "metadata": {
  "kernelspec": {
   "display_name": "Python 3 (ipykernel)",
   "language": "python",
   "name": "python3"
  },
  "language_info": {
   "codemirror_mode": {
    "name": "ipython",
    "version": 3
   },
   "file_extension": ".py",
   "mimetype": "text/x-python",
   "name": "python",
   "nbconvert_exporter": "python",
   "pygments_lexer": "ipython3",
   "version": "3.11.7"
  }
 },
 "nbformat": 4,
 "nbformat_minor": 4
}
