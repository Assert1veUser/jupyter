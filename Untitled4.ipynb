{
 "cells": [
  {
   "cell_type": "code",
   "execution_count": 1,
   "id": "2b350309-1c84-40c8-91d1-bf0e049681b0",
   "metadata": {},
   "outputs": [],
   "source": [
    "import numpy as np\n",
    "import pandas as pd"
   ]
  },
  {
   "cell_type": "code",
   "execution_count": 20,
   "id": "f227401d-8f26-4450-9fc1-48edeee2c378",
   "metadata": {},
   "outputs": [
    {
     "data": {
      "text/html": [
       "<div>\n",
       "<style scoped>\n",
       "    .dataframe tbody tr th:only-of-type {\n",
       "        vertical-align: middle;\n",
       "    }\n",
       "\n",
       "    .dataframe tbody tr th {\n",
       "        vertical-align: top;\n",
       "    }\n",
       "\n",
       "    .dataframe thead th {\n",
       "        text-align: right;\n",
       "    }\n",
       "</style>\n",
       "<table border=\"1\" class=\"dataframe\">\n",
       "  <thead>\n",
       "    <tr style=\"text-align: right;\">\n",
       "      <th></th>\n",
       "      <th>Беременность</th>\n",
       "      <th>Глюкоза</th>\n",
       "      <th>АД</th>\n",
       "      <th>Толщина КС</th>\n",
       "      <th>Инсулин</th>\n",
       "      <th>ИМТ</th>\n",
       "      <th>Наследственность</th>\n",
       "      <th>Возраст</th>\n",
       "      <th>Диагноз</th>\n",
       "    </tr>\n",
       "  </thead>\n",
       "  <tbody>\n",
       "    <tr>\n",
       "      <th>0</th>\n",
       "      <td>6</td>\n",
       "      <td>148</td>\n",
       "      <td>72</td>\n",
       "      <td>35.0</td>\n",
       "      <td>0.0</td>\n",
       "      <td>33.6</td>\n",
       "      <td>0.627</td>\n",
       "      <td>50</td>\n",
       "      <td>1</td>\n",
       "    </tr>\n",
       "    <tr>\n",
       "      <th>1</th>\n",
       "      <td>1</td>\n",
       "      <td>85</td>\n",
       "      <td>66</td>\n",
       "      <td>29.0</td>\n",
       "      <td>0.0</td>\n",
       "      <td>26.6</td>\n",
       "      <td>0.351</td>\n",
       "      <td>31</td>\n",
       "      <td>0</td>\n",
       "    </tr>\n",
       "    <tr>\n",
       "      <th>2</th>\n",
       "      <td>8</td>\n",
       "      <td>183</td>\n",
       "      <td>64</td>\n",
       "      <td>0.0</td>\n",
       "      <td>0.0</td>\n",
       "      <td>23.3</td>\n",
       "      <td>0.672</td>\n",
       "      <td>32</td>\n",
       "      <td>1</td>\n",
       "    </tr>\n",
       "    <tr>\n",
       "      <th>3</th>\n",
       "      <td>1</td>\n",
       "      <td>89</td>\n",
       "      <td>66</td>\n",
       "      <td>23.0</td>\n",
       "      <td>94.0</td>\n",
       "      <td>28.1</td>\n",
       "      <td>0.167</td>\n",
       "      <td>21</td>\n",
       "      <td>0</td>\n",
       "    </tr>\n",
       "    <tr>\n",
       "      <th>4</th>\n",
       "      <td>0</td>\n",
       "      <td>137</td>\n",
       "      <td>40</td>\n",
       "      <td>35.0</td>\n",
       "      <td>168.0</td>\n",
       "      <td>43.1</td>\n",
       "      <td>2.288</td>\n",
       "      <td>33</td>\n",
       "      <td>1</td>\n",
       "    </tr>\n",
       "    <tr>\n",
       "      <th>...</th>\n",
       "      <td>...</td>\n",
       "      <td>...</td>\n",
       "      <td>...</td>\n",
       "      <td>...</td>\n",
       "      <td>...</td>\n",
       "      <td>...</td>\n",
       "      <td>...</td>\n",
       "      <td>...</td>\n",
       "      <td>...</td>\n",
       "    </tr>\n",
       "    <tr>\n",
       "      <th>763</th>\n",
       "      <td>10</td>\n",
       "      <td>101</td>\n",
       "      <td>76</td>\n",
       "      <td>48.0</td>\n",
       "      <td>180.0</td>\n",
       "      <td>32.9</td>\n",
       "      <td>0.171</td>\n",
       "      <td>63</td>\n",
       "      <td>0</td>\n",
       "    </tr>\n",
       "    <tr>\n",
       "      <th>764</th>\n",
       "      <td>2</td>\n",
       "      <td>122</td>\n",
       "      <td>70</td>\n",
       "      <td>27.0</td>\n",
       "      <td>0.0</td>\n",
       "      <td>36.8</td>\n",
       "      <td>0.340</td>\n",
       "      <td>27</td>\n",
       "      <td>0</td>\n",
       "    </tr>\n",
       "    <tr>\n",
       "      <th>765</th>\n",
       "      <td>5</td>\n",
       "      <td>121</td>\n",
       "      <td>72</td>\n",
       "      <td>23.0</td>\n",
       "      <td>112.0</td>\n",
       "      <td>26.2</td>\n",
       "      <td>0.245</td>\n",
       "      <td>30</td>\n",
       "      <td>0</td>\n",
       "    </tr>\n",
       "    <tr>\n",
       "      <th>766</th>\n",
       "      <td>1</td>\n",
       "      <td>126</td>\n",
       "      <td>60</td>\n",
       "      <td>0.0</td>\n",
       "      <td>0.0</td>\n",
       "      <td>30.1</td>\n",
       "      <td>0.349</td>\n",
       "      <td>47</td>\n",
       "      <td>1</td>\n",
       "    </tr>\n",
       "    <tr>\n",
       "      <th>767</th>\n",
       "      <td>1</td>\n",
       "      <td>93</td>\n",
       "      <td>70</td>\n",
       "      <td>31.0</td>\n",
       "      <td>0.0</td>\n",
       "      <td>30.4</td>\n",
       "      <td>0.315</td>\n",
       "      <td>23</td>\n",
       "      <td>0</td>\n",
       "    </tr>\n",
       "  </tbody>\n",
       "</table>\n",
       "<p>768 rows × 9 columns</p>\n",
       "</div>"
      ],
      "text/plain": [
       "     Беременность  Глюкоза  АД  Толщина КС  Инсулин   ИМТ  Наследственность  \\\n",
       "0               6      148  72        35.0      0.0  33.6             0.627   \n",
       "1               1       85  66        29.0      0.0  26.6             0.351   \n",
       "2               8      183  64         0.0      0.0  23.3             0.672   \n",
       "3               1       89  66        23.0     94.0  28.1             0.167   \n",
       "4               0      137  40        35.0    168.0  43.1             2.288   \n",
       "..            ...      ...  ..         ...      ...   ...               ...   \n",
       "763            10      101  76        48.0    180.0  32.9             0.171   \n",
       "764             2      122  70        27.0      0.0  36.8             0.340   \n",
       "765             5      121  72        23.0    112.0  26.2             0.245   \n",
       "766             1      126  60         0.0      0.0  30.1             0.349   \n",
       "767             1       93  70        31.0      0.0  30.4             0.315   \n",
       "\n",
       "     Возраст  Диагноз  \n",
       "0         50        1  \n",
       "1         31        0  \n",
       "2         32        1  \n",
       "3         21        0  \n",
       "4         33        1  \n",
       "..       ...      ...  \n",
       "763       63        0  \n",
       "764       27        0  \n",
       "765       30        0  \n",
       "766       47        1  \n",
       "767       23        0  \n",
       "\n",
       "[768 rows x 9 columns]"
      ]
     },
     "execution_count": 20,
     "metadata": {},
     "output_type": "execute_result"
    }
   ],
   "source": [
    "data = pd.read_csv('D:\\\\МИРЭА\\\\Машинное обучение\\\\Пр7\\\\data.csv', delimiter='\\t',  encoding='windows-1251')\n",
    "data"
   ]
  },
  {
   "cell_type": "code",
   "execution_count": 21,
   "id": "1ba38427-aa93-4661-b42e-b19ec4ad4c1d",
   "metadata": {},
   "outputs": [],
   "source": [
    "data = (data - data.mean()) / data.std()"
   ]
  },
  {
   "cell_type": "code",
   "execution_count": 22,
   "id": "bd8f78bb-3301-4b00-85d0-bd687509774b",
   "metadata": {},
   "outputs": [],
   "source": [
    "X = data.iloc[:, :-1].values\n",
    "y = data.iloc[:, -1].values"
   ]
  },
  {
   "cell_type": "code",
   "execution_count": 23,
   "id": "cfbee1c1-8d26-4874-a904-ae7ba15f8018",
   "metadata": {},
   "outputs": [],
   "source": [
    "def sigmoid(x):\n",
    "    return 1 / (1 + np.exp(-x))"
   ]
  },
  {
   "cell_type": "code",
   "execution_count": 24,
   "id": "5de8f0c6-14c9-4e3f-b806-f37939821d13",
   "metadata": {},
   "outputs": [],
   "source": [
    "def sigmoid_derivative(x):\n",
    "    return x * (1 - x)"
   ]
  },
  {
   "cell_type": "code",
   "execution_count": 25,
   "id": "454e6142-9b37-4efd-8679-719dc0ad40be",
   "metadata": {},
   "outputs": [],
   "source": [
    "def initialize_weights(n_features, n_hidden_layers):\n",
    "    weights = []\n",
    "    for i in range(len(n_hidden_layers)):\n",
    "        if i == 0:\n",
    "            weights.append(np.random.uniform(size=(n_features, n_hidden_layers[i])))\n",
    "        else:\n",
    "            weights.append(np.random.uniform(size=(n_hidden_layers[i-1], n_hidden_layers[i])))\n",
    "    weights.append(np.random.uniform(size=(n_hidden_layers[-1], 1)))\n",
    "    return weights"
   ]
  },
  {
   "cell_type": "code",
   "execution_count": 52,
   "id": "792e16d4-59c5-4535-9291-08c62a5cbf3b",
   "metadata": {},
   "outputs": [],
   "source": [
    "def forward_propagation(X, weights):\n",
    "    activations = [X]\n",
    "    for w in weights:\n",
    "        net_input = np.dot(activations[-1], w)\n",
    "        activations.append(sigmoid(net_input))\n",
    "    return activations"
   ]
  },
  {
   "cell_type": "code",
   "execution_count": 79,
   "id": "ef1e762f-c41a-41bc-91ff-e15beecda1ce",
   "metadata": {},
   "outputs": [],
   "source": [
    "def backward_propagation(y, activations, weights):\n",
    "    errors = [y - activations[-1]]\n",
    "    deltas = [errors[-1] * sigmoid_derivative(activations[-1])]\n",
    "    for i in range(len(weights) - 1, 0, -1):\n",
    "        errors.insert(0, deltas[0].dot(weights[i].T))\n",
    "        deltas.insert(0, errors[0] * sigmoid_derivative(activations[i]))\n",
    "    return deltas"
   ]
  },
  {
   "cell_type": "code",
   "execution_count": 80,
   "id": "b424d7aa-0cdc-47c1-9ccc-e34b5abf708d",
   "metadata": {},
   "outputs": [],
   "source": [
    "def update_weights(weights, deltas, activations, learning_rate):\n",
    "    for i in range(len(weights)):\n",
    "        weights[i] += learning_rate * activations[i].T.dot(deltas[i])\n",
    "    return weights"
   ]
  },
  {
   "cell_type": "code",
   "execution_count": 81,
   "id": "78e3e07c-dcfb-4847-b701-9d90457f1af6",
   "metadata": {},
   "outputs": [],
   "source": [
    "def train_network(X, y, n_hidden_layers, learning_rate, epochs):\n",
    "    weights = initialize_weights(X.shape[1], n_hidden_layers)\n",
    "    for epoch in range(epochs):\n",
    "        activations = forward_propagation(X, weights)\n",
    "        deltas = backward_propagation(y, activations, weights)\n",
    "        weights = update_weights(weights, deltas, activations, learning_rate)\n",
    "    return weights"
   ]
  },
  {
   "cell_type": "code",
   "execution_count": 82,
   "id": "50f593c3-2e97-49a8-a37d-0b26c5dfa0a8",
   "metadata": {},
   "outputs": [],
   "source": [
    "n_hidden_layers = [768, 768]  # Количество нейронов в скрытых слоях\n",
    "learning_rate = 0.1\n",
    "epochs = 1000"
   ]
  },
  {
   "cell_type": "code",
   "execution_count": 83,
   "id": "41a05c6b-5645-425b-9316-624985ac3b7a",
   "metadata": {},
   "outputs": [
    {
     "ename": "IndexError",
     "evalue": "list index out of range",
     "output_type": "error",
     "traceback": [
      "\u001b[1;31m---------------------------------------------------------------------------\u001b[0m",
      "\u001b[1;31mIndexError\u001b[0m                                Traceback (most recent call last)",
      "Cell \u001b[1;32mIn[83], line 1\u001b[0m\n\u001b[1;32m----> 1\u001b[0m weights \u001b[38;5;241m=\u001b[39m train_network(X, y, n_hidden_layers, learning_rate, epochs)\n",
      "Cell \u001b[1;32mIn[81], line 5\u001b[0m, in \u001b[0;36mtrain_network\u001b[1;34m(X, y, n_hidden_layers, learning_rate, epochs)\u001b[0m\n\u001b[0;32m      3\u001b[0m \u001b[38;5;28;01mfor\u001b[39;00m epoch \u001b[38;5;129;01min\u001b[39;00m \u001b[38;5;28mrange\u001b[39m(epochs):\n\u001b[0;32m      4\u001b[0m     activations \u001b[38;5;241m=\u001b[39m forward_propagation(X, weights)\n\u001b[1;32m----> 5\u001b[0m     deltas \u001b[38;5;241m=\u001b[39m backward_propagation(y, activations, weights)\n\u001b[0;32m      6\u001b[0m     weights \u001b[38;5;241m=\u001b[39m update_weights(weights, deltas, activations, learning_rate)\n\u001b[0;32m      7\u001b[0m \u001b[38;5;28;01mreturn\u001b[39;00m weights\n",
      "Cell \u001b[1;32mIn[79], line 3\u001b[0m, in \u001b[0;36mbackward_propagation\u001b[1;34m(y, activations, weights)\u001b[0m\n\u001b[0;32m      1\u001b[0m \u001b[38;5;28;01mdef\u001b[39;00m \u001b[38;5;21mbackward_propagation\u001b[39m(y, activations, weights):\n\u001b[0;32m      2\u001b[0m     errors \u001b[38;5;241m=\u001b[39m [y \u001b[38;5;241m-\u001b[39m activations[\u001b[38;5;241m-\u001b[39m\u001b[38;5;241m1\u001b[39m]]\n\u001b[1;32m----> 3\u001b[0m     deltas \u001b[38;5;241m=\u001b[39m [errors[\u001b[38;5;241m22\u001b[39m] \u001b[38;5;241m*\u001b[39m sigmoid_derivative(activations[\u001b[38;5;241m-\u001b[39m\u001b[38;5;241m1\u001b[39m])]\n\u001b[0;32m      4\u001b[0m     \u001b[38;5;28;01mfor\u001b[39;00m i \u001b[38;5;129;01min\u001b[39;00m \u001b[38;5;28mrange\u001b[39m(\u001b[38;5;28mlen\u001b[39m(weights) \u001b[38;5;241m-\u001b[39m \u001b[38;5;241m1\u001b[39m, \u001b[38;5;241m0\u001b[39m, \u001b[38;5;241m-\u001b[39m\u001b[38;5;241m1\u001b[39m):\n\u001b[0;32m      5\u001b[0m         errors\u001b[38;5;241m.\u001b[39minsert(\u001b[38;5;241m0\u001b[39m, deltas[\u001b[38;5;241m0\u001b[39m]\u001b[38;5;241m.\u001b[39mdot(weights[i]\u001b[38;5;241m.\u001b[39mT))\n",
      "\u001b[1;31mIndexError\u001b[0m: list index out of range"
     ]
    }
   ],
   "source": [
    "weights = train_network(X, y, n_hidden_layers, learning_rate, epochs)"
   ]
  },
  {
   "cell_type": "code",
   "execution_count": null,
   "id": "89918ea4-43f3-4ea0-852e-2dbe33f05d92",
   "metadata": {},
   "outputs": [],
   "source": []
  },
  {
   "cell_type": "code",
   "execution_count": null,
   "id": "7bede710-a9b1-475a-acee-81fc112985e1",
   "metadata": {},
   "outputs": [],
   "source": []
  }
 ],
 "metadata": {
  "kernelspec": {
   "display_name": "Python 3 (ipykernel)",
   "language": "python",
   "name": "python3"
  },
  "language_info": {
   "codemirror_mode": {
    "name": "ipython",
    "version": 3
   },
   "file_extension": ".py",
   "mimetype": "text/x-python",
   "name": "python",
   "nbconvert_exporter": "python",
   "pygments_lexer": "ipython3",
   "version": "3.11.7"
  }
 },
 "nbformat": 4,
 "nbformat_minor": 5
}
