{
 "cells": [
  {
   "cell_type": "code",
   "execution_count": 2,
   "id": "5255927c-c0f8-4f84-b404-b2277fb16bfd",
   "metadata": {},
   "outputs": [],
   "source": [
    "import pandas as pd\n",
    "import numpy as np\n",
    "import matplotlib.pyplot as plt\n",
    "import statsmodels.api as sm\n",
    "from sklearn.model_selection import train_test_split"
   ]
  },
  {
   "cell_type": "code",
   "execution_count": 4,
   "id": "9752f7aa-815b-417c-842a-a74417f70c21",
   "metadata": {},
   "outputs": [
    {
     "name": "stdout",
     "output_type": "stream",
     "text": [
      "(25, 5)\n"
     ]
    },
    {
     "data": {
      "text/html": [
       "<div>\n",
       "<style scoped>\n",
       "    .dataframe tbody tr th:only-of-type {\n",
       "        vertical-align: middle;\n",
       "    }\n",
       "\n",
       "    .dataframe tbody tr th {\n",
       "        vertical-align: top;\n",
       "    }\n",
       "\n",
       "    .dataframe thead th {\n",
       "        text-align: right;\n",
       "    }\n",
       "</style>\n",
       "<table border=\"1\" class=\"dataframe\">\n",
       "  <thead>\n",
       "    <tr style=\"text-align: right;\">\n",
       "      <th></th>\n",
       "      <th>y</th>\n",
       "      <th>x1</th>\n",
       "      <th>x2</th>\n",
       "      <th>x3</th>\n",
       "      <th>x4</th>\n",
       "    </tr>\n",
       "  </thead>\n",
       "  <tbody>\n",
       "    <tr>\n",
       "      <th>0</th>\n",
       "      <td>0.904</td>\n",
       "      <td>75.5</td>\n",
       "      <td>25.2</td>\n",
       "      <td>3343</td>\n",
       "      <td>77.0</td>\n",
       "    </tr>\n",
       "    <tr>\n",
       "      <th>1</th>\n",
       "      <td>0.922</td>\n",
       "      <td>78.5</td>\n",
       "      <td>21.8</td>\n",
       "      <td>3001</td>\n",
       "      <td>78.2</td>\n",
       "    </tr>\n",
       "    <tr>\n",
       "      <th>2</th>\n",
       "      <td>0.763</td>\n",
       "      <td>78.4</td>\n",
       "      <td>25.7</td>\n",
       "      <td>3101</td>\n",
       "      <td>68.0</td>\n",
       "    </tr>\n",
       "    <tr>\n",
       "      <th>3</th>\n",
       "      <td>0.923</td>\n",
       "      <td>77.7</td>\n",
       "      <td>17.8</td>\n",
       "      <td>3543</td>\n",
       "      <td>77.2</td>\n",
       "    </tr>\n",
       "    <tr>\n",
       "      <th>4</th>\n",
       "      <td>0.918</td>\n",
       "      <td>84.4</td>\n",
       "      <td>15.9</td>\n",
       "      <td>3237</td>\n",
       "      <td>77.2</td>\n",
       "    </tr>\n",
       "  </tbody>\n",
       "</table>\n",
       "</div>"
      ],
      "text/plain": [
       "       y    x1    x2    x3    x4\n",
       "0  0.904  75.5  25.2  3343  77.0\n",
       "1  0.922  78.5  21.8  3001  78.2\n",
       "2  0.763  78.4  25.7  3101  68.0\n",
       "3  0.923  77.7  17.8  3543  77.2\n",
       "4  0.918  84.4  15.9  3237  77.2"
      ]
     },
     "execution_count": 4,
     "metadata": {},
     "output_type": "execute_result"
    }
   ],
   "source": [
    "dе = pd.read_excel(\"D:\\data.xlsx\")\n",
    "print(dе.shape)\n",
    "dе.head()"
   ]
  },
  {
   "cell_type": "markdown",
   "id": "19294b9a-cefb-4da2-b1b4-9f7c33279f3f",
   "metadata": {},
   "source": [
    "#### Таргентное и признаковое пространства"
   ]
  },
  {
   "cell_type": "code",
   "execution_count": 5,
   "id": "7f275813-f487-468d-9ebf-41a650d9e517",
   "metadata": {},
   "outputs": [],
   "source": [
    "target_y = 'y'\n",
    "x = data.loc[:, data.columns != target_y]\n",
    "y = data.loc[:, target_y]"
   ]
  },
  {
   "cell_type": "markdown",
   "id": "31993f99-4b67-4c3c-8724-6929b7c3c884",
   "metadata": {},
   "source": [
    "#### Тестовая - 20% и обучающая выборка - 80%"
   ]
  },
  {
   "cell_type": "code",
   "execution_count": 6,
   "id": "08121195-6237-458b-88cb-e12e96f2ffcd",
   "metadata": {},
   "outputs": [],
   "source": [
    "x_train_, x_test, y_train_, y_test = train_test_split(x, y, test_size = 0.2, random_state = 42)\n",
    "x_train, x_train_m, y_train, y_train_m = train_test_split(x_train_, y_train_, test_size = 0.4, random_state = 42)"
   ]
  },
  {
   "cell_type": "code",
   "execution_count": 8,
   "id": "39d13422-d286-4f79-9858-061075ff2137",
   "metadata": {},
   "outputs": [],
   "source": [
    "x_trains = pd.DataFrame()\n",
    "a_trains = pd.DataFrame()\n",
    "tr_se = {}"
   ]
  },
  {
   "cell_type": "markdown",
   "id": "fb22c845-f578-4fd9-8f1a-712c182dbbb9",
   "metadata": {},
   "source": [
    "#### Создадим функцию, которая находит все аргументы для поколения"
   ]
  },
  {
   "cell_type": "code",
   "execution_count": 9,
   "id": "d5f67ba2-cbd8-4056-8f49-68e039bbf94c",
   "metadata": {},
   "outputs": [],
   "source": [
    "def comb_f(x) -> set:\n",
    "    comb = set()\n",
    "    columns = x.columns\n",
    "    for f in range(len(columns)):\n",
    "        for s in range(f, len(columns)):\n",
    "            if columns[f] != columns[s]:\n",
    "                comb.add((columns[f], columns[s]))\n",
    "    return comb"
   ]
  },
  {
   "cell_type": "markdown",
   "id": "db8de061-9807-4775-aa90-d7230a178864",
   "metadata": {},
   "source": [
    "#### Среднеквадротическая ошибка"
   ]
  },
  {
   "cell_type": "code",
   "execution_count": 10,
   "id": "198fb443-2727-4c0c-9e7a-bd8e018a6876",
   "metadata": {},
   "outputs": [],
   "source": [
    "def mse(y_test, y_pr):\n",
    "    return np.square(y_test - y_pr).mean()"
   ]
  },
  {
   "cell_type": "markdown",
   "id": "6307c012-17fe-4b53-8bcf-a372b694623d",
   "metadata": {},
   "source": [
    "#### Средняя ошибка аппроксимации"
   ]
  },
  {
   "cell_type": "code",
   "execution_count": 11,
   "id": "2372e0fd-c3cc-4bc5-8a7f-a3a12b7fadc8",
   "metadata": {},
   "outputs": [],
   "source": [
    "def mea(y_test, y_pr):\n",
    "    n = len(y_test)\n",
    "    return (1/n)*sum((abs(y_test - y_pr) / y_test) * 100)"
   ]
  },
  {
   "cell_type": "markdown",
   "id": "828b5c2b-1a2a-494c-b2ce-a7b69938cb25",
   "metadata": {},
   "source": [
    "#### Метод наименьших квадратов"
   ]
  },
  {
   "cell_type": "code",
   "execution_count": 12,
   "id": "418a8ed2-3dcf-4a15-906c-086894788da6",
   "metadata": {},
   "outputs": [],
   "source": [
    "def mls(x, y):\n",
    "    x = sm.add_constant(x)\n",
    "    a = np.dot(np.dot(np.linalg.inv(np.dot(x.T, x)), x.T), y)\n",
    "    return a"
   ]
  },
  {
   "cell_type": "markdown",
   "id": "4cdd64b2-3d4c-4c2c-915f-9afb624afe4e",
   "metadata": {},
   "source": [
    "#### Построение прогноза"
   ]
  },
  {
   "cell_type": "code",
   "execution_count": 13,
   "id": "bbdd7398-a6a4-4a75-a4c8-bb06469a4b44",
   "metadata": {},
   "outputs": [],
   "source": [
    "def pred(a, x):\n",
    "    return np.dot(x, a.T)"
   ]
  },
  {
   "cell_type": "markdown",
   "id": "d653373f-be96-4ead-b676-406fbc832808",
   "metadata": {},
   "source": [
    "#### Создадим функцию, которая расчитывает следующие поколения"
   ]
  },
  {
   "cell_type": "code",
   "execution_count": 14,
   "id": "92ab4392-c076-4f5f-b8ea-4b4a17efe576",
   "metadata": {},
   "outputs": [],
   "source": [
    "def gen(comb, x):\n",
    "    for c in comb:\n",
    "        x1, x2 = c\n",
    "        X_train = sm.add_constant(x[[x1, x2]])\n",
    "        a = mls(X_train, y_train)\n",
    "        X_train_m = sm.add_constant(x_train_m[[x1, x2]])\n",
    "        se = mse(y_train_m, pred(a, X_train_m))\n",
    "        if len(x1) <= 2:\n",
    "            x_trains[x1 + x2] = pred(a, X_train)\n",
    "            x_train_m[x1 + x2] = pred(a, X_train_m)\n",
    "            a_trains[x1 + x2] = a\n",
    "            trains_se[x1 + x2] = se\n",
    "        else:\n",
    "            if se < trains_se[min(trains_se, key = trains_se.get)]:\n",
    "                x_trains[x1 + x2] = pred(a, X_train)\n",
    "                x_train_m[x1 + x2] = pred(a, X_train_m)\n",
    "                a_trains[x1 + x2] = a\n",
    "                trains_se[x1 + x2] = se"
   ]
  },
  {
   "cell_type": "markdown",
   "id": "0fa591f2-c038-4746-8b94-1fff5bad4f6f",
   "metadata": {},
   "source": [
    "#### Обучение"
   ]
  },
  {
   "cell_type": "code",
   "execution_count": 15,
   "id": "f649bfb1-8514-4eab-b780-e844b554d6ec",
   "metadata": {},
   "outputs": [],
   "source": [
    "comb = comb_f(x_train)\n",
    "gen(comb, x_train)\n",
    "\n",
    "for mp in range(1, len(comb)):\n",
    "    new_c = [col for col in x_trains.columns if len(col) == mp*4]\n",
    "    new_comb = comb_f(x_trains[new_c])\n",
    "    gen(new_comb, x_trains)"
   ]
  },
  {
   "cell_type": "markdown",
   "id": "37aa347e-f912-4098-b790-83d362262f23",
   "metadata": {},
   "source": [
    "#### Создадим функцию, которая возвращает список поколений"
   ]
  },
  {
   "cell_type": "code",
   "execution_count": 16,
   "id": "203a53bd-77f2-4638-a2bd-9001d2ba855b",
   "metadata": {},
   "outputs": [],
   "source": [
    "res_a = []\n",
    "def rec(s: str):\n",
    "    res_a.append(s)\n",
    "    cen = len(s)//2\n",
    "    if len(s[:cen]) != 4:\n",
    "        rec(s[:cen])\n",
    "        rec(s[cen:])\n",
    "    else:\n",
    "        res_a.append(s[:cen])\n",
    "        res_a.append(s[cen:])"
   ]
  },
  {
   "cell_type": "code",
   "execution_count": 17,
   "id": "7e75ee54-457b-4633-8c0a-02ae03e5fb76",
   "metadata": {},
   "outputs": [
    {
     "data": {
      "text/plain": [
       "['x1x2x1x4', 'x1x2', 'x1x4']"
      ]
     },
     "execution_count": 17,
     "metadata": {},
     "output_type": "execute_result"
    }
   ],
   "source": [
    "rec(min(trains_se, key = trains_se.get))\n",
    "res_a"
   ]
  },
  {
   "cell_type": "markdown",
   "id": "20138ec1-1f56-4ed3-9e1b-38616d3299c2",
   "metadata": {},
   "source": [
    "#### Первое поколение"
   ]
  },
  {
   "cell_type": "code",
   "execution_count": 18,
   "id": "9cea182f-93af-4afe-a85b-8d7c04fbe759",
   "metadata": {},
   "outputs": [],
   "source": [
    "y1 = np.dot(sm.add_constant(x_test[['x1', 'x4']]), a_trains['x1x4'])\n",
    "y2 = np.dot(sm.add_constant(x_test[['x1', 'x2']]), a_trains['x1x2'])"
   ]
  },
  {
   "cell_type": "markdown",
   "id": "06b650a7-f51e-4e33-a76f-2f39c4993f42",
   "metadata": {},
   "source": [
    "#### Второе покление"
   ]
  },
  {
   "cell_type": "code",
   "execution_count": 19,
   "id": "2a724ec2-77c0-4d98-9da9-1e684d093104",
   "metadata": {},
   "outputs": [],
   "source": [
    "z = np.dot(sm.add_constant(pd.DataFrame({'y1':y1, 'y2':y2})), a_trains['x1x2x1x4'])"
   ]
  },
  {
   "cell_type": "markdown",
   "id": "21be1f5d-574c-4bf8-94a4-e3cb77112100",
   "metadata": {},
   "source": [
    "#### Среденеквадратичная ошибка"
   ]
  },
  {
   "cell_type": "code",
   "execution_count": 20,
   "id": "1b87ea67-c71a-439f-9b08-c56da50afbb4",
   "metadata": {},
   "outputs": [
    {
     "data": {
      "text/plain": [
       "0.002209525413123463"
      ]
     },
     "execution_count": 20,
     "metadata": {},
     "output_type": "execute_result"
    }
   ],
   "source": [
    "se = mse(y_test, z)\n",
    "se"
   ]
  },
  {
   "cell_type": "markdown",
   "id": "4fce652e-8055-49aa-a33d-64b1a59e0d53",
   "metadata": {},
   "source": [
    "#### Сравнение предсказанных значений с исходными значениями"
   ]
  },
  {
   "cell_type": "code",
   "execution_count": 21,
   "id": "0cc80a7c-3824-442d-af87-cb387ae3b633",
   "metadata": {},
   "outputs": [
    {
     "name": "stdout",
     "output_type": "stream",
     "text": [
      "y = 0.894 \ty_pred = 0.8932007148947757 \tse = 6.388566794334398e-07\n",
      "y = 0.802 \ty_pred = 0.8275771139942886 \tse = 0.0006541887602768299\n",
      "y = 0.904 \ty_pred = 0.8682178678756711 \tse = 0.0012803609793629305\n",
      "y = 0.914 \ty_pred = 0.9192395356417151 \tse = 2.7452733740802733e-05\n",
      "y = 0.74 \ty_pred = 0.8353151915255764 \tse = 0.009084985735557318\n"
     ]
    }
   ],
   "source": [
    "for e, test in zip(z, y_test):\n",
    "    print(f'y = {test} \\ty_pred = {e} \\tse = {(test-e)**2}')"
   ]
  },
  {
   "cell_type": "markdown",
   "id": "8cb33adb-e9c1-46e9-9d5b-c6d863c81e38",
   "metadata": {},
   "source": [
    "#### Представим график предсказанных и исходных значений"
   ]
  },
  {
   "cell_type": "code",
   "execution_count": 24,
   "id": "4eff3eeb-eed4-4332-90c6-8eef51465a9d",
   "metadata": {},
   "outputs": [
    {
     "data": {
      "text/plain": [
       "<matplotlib.legend.Legend at 0x15c66425f50>"
      ]
     },
     "execution_count": 24,
     "metadata": {},
     "output_type": "execute_result"
    },
    {
     "data": {
      "image/png": "[encoded data removed]",
      "text/plain": [
       "<Figure size 640x480 with 1 Axes>"
      ]
     },
     "metadata": {},
     "output_type": "display_data"
    }
   ],
   "source": [
    "plt.plot([x for x in range(1, 6)], z, c='green', label='y_pred')\n",
    "plt.plot([x for x in range(1, 6)], y_test, c='yellow', label='y')\n",
    "plt.yticks([x/100 for x in range(70, 100, 2)])\n",
    "plt.xticks([x for x in range(1, 6)])\n",
    "plt.legend()"
   ]
  },
  {
   "cell_type": "markdown",
   "id": "271a1ffa-70eb-428b-9fbf-23ef8c22c2bb",
   "metadata": {},
   "source": [
    "#### Средняя ошибка аппроксимации"
   ]
  },
  {
   "cell_type": "code",
   "execution_count": 23,
   "id": "5b6cd51c-1157-47c3-8e11-1945adf2dd88",
   "metadata": {},
   "outputs": [
    {
     "data": {
      "text/plain": [
       "4.1380913844326415"
      ]
     },
     "execution_count": 23,
     "metadata": {},
     "output_type": "execute_result"
    }
   ],
   "source": [
    "mea(y_test, z)"
   ]
  },
  {
   "cell_type": "markdown",
   "id": "5b6daa1a-6f08-4e8d-aca6-abeb0ee2ef82",
   "metadata": {},
   "source": [
    "## Вывод"
   ]
  },
  {
   "cell_type": "markdown",
   "id": "3c9c6f7b-66bc-447b-add8-0478608a0136",
   "metadata": {},
   "source": [
    "##### Средняя ошибка аппроксимации = 4.1380913844326415 (<10)\n",
    "##### Среднеквадротичная ошибка = 0.002209525413123463"
   ]
  },
  {
   "cell_type": "code",
   "execution_count": null,
   "id": "425f7d35-3572-441f-ab7e-0343cf5c655f",
   "metadata": {},
   "outputs": [],
   "source": []
  }
 ],
 "metadata": {
  "kernelspec": {
   "display_name": "Python 3 (ipykernel)",
   "language": "python",
   "name": "python3"
  },
  "language_info": {
   "codemirror_mode": {
    "name": "ipython",
    "version": 3
   },
   "file_extension": ".py",
   "mimetype": "text/x-python",
   "name": "python",
   "nbconvert_exporter": "python",
   "pygments_lexer": "ipython3",
   "version": "3.11.7"
  }
 },
 "nbformat": 4,
 "nbformat_minor": 5
}
