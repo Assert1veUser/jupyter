{
 "cells": [
  {
   "cell_type": "markdown",
   "metadata": {
    "id": "LHhuJip5l-oY"
   },
   "source": [
    "# Регрессионный анализ\n",
    "[Wiki]\n",
    "(https://ru.wikipedia.org/wiki/%D0%A0%D0%B5%D0%B3%D1%80%D0%B5%D1%81%D1%81%D0%B8%D0%BE%D0%BD%D0%BD%D1%8B%D0%B9_%D0%B0%D0%BD%D0%B0%D0%BB%D0%B8%D0%B7)"
   ]
  },
  {
   "cell_type": "code",
   "execution_count": 173,
   "metadata": {
    "id": "nmfCXTlqhg-P"
   },
   "outputs": [],
   "source": [
    "import matplotlib.pyplot as plt\n",
    "import numpy as np\n",
    "import pandas as pd\n",
    "import scipy as sp\n",
    "import seaborn as sns\n",
    "import statsmodels.api as sm\n",
    "import statsmodels.tsa.api as smt\n",
    "from sklearn.linear_model import LinearRegression\n",
    "from sklearn.model_selection import train_test_split\n",
    "from statsmodels.stats.outliers_influence import variance_inflation_factor\n",
    "%matplotlib inline"
   ]
  },
  {
   "cell_type": "code",
   "execution_count": 174,
   "metadata": {
    "id": "_905-6gShtGg"
   },
   "outputs": [],
   "source": [
    "df = pd.read_csv(r'D:\\МИРЭА\\Методы ИИ\\processed.cleveland.data')"
   ]
  },
  {
   "cell_type": "code",
   "execution_count": 175,
   "metadata": {
    "colab": {
     "base_uri": "https://localhost:8080/"
    },
    "id": "jZJhk6ZhhxCU",
    "outputId": "dbe39639-5401-421c-ee1f-8db6d8d4cba9"
   },
   "outputs": [
    {
     "name": "stdout",
     "output_type": "stream",
     "text": [
      "Total number of rows in dataset = 303\n",
      "Total number of columns in dataset = 14\n"
     ]
    }
   ],
   "source": [
    "print (\"Total number of rows in dataset = {}\".format(df.shape[0]))\n",
    "print (\"Total number of columns in dataset = {}\".format(df.shape[1]))"
   ]
  },
  {
   "cell_type": "code",
   "execution_count": 176,
   "metadata": {
    "colab": {
     "base_uri": "https://localhost:8080/",
     "height": 206
    },
    "id": "27CSi-tHh1Hw",
    "outputId": "f7933dce-d93e-4690-ade3-9413df3fe595",
    "scrolled": true
   },
   "outputs": [
    {
     "data": {
      "text/html": [
       "<div>\n",
       "<style scoped>\n",
       "    .dataframe tbody tr th:only-of-type {\n",
       "        vertical-align: middle;\n",
       "    }\n",
       "\n",
       "    .dataframe tbody tr th {\n",
       "        vertical-align: top;\n",
       "    }\n",
       "\n",
       "    .dataframe thead th {\n",
       "        text-align: right;\n",
       "    }\n",
       "</style>\n",
       "<table border=\"1\" class=\"dataframe\">\n",
       "  <thead>\n",
       "    <tr style=\"text-align: right;\">\n",
       "      <th></th>\n",
       "      <th>age</th>\n",
       "      <th>sex</th>\n",
       "      <th>cp</th>\n",
       "      <th>trestbps</th>\n",
       "      <th>chol</th>\n",
       "      <th>fbs</th>\n",
       "      <th>restecg</th>\n",
       "      <th>thalach</th>\n",
       "      <th>exang</th>\n",
       "      <th>oldpeak</th>\n",
       "      <th>slope</th>\n",
       "      <th>ca</th>\n",
       "      <th>thal</th>\n",
       "      <th>num</th>\n",
       "    </tr>\n",
       "  </thead>\n",
       "  <tbody>\n",
       "    <tr>\n",
       "      <th>0</th>\n",
       "      <td>63.0</td>\n",
       "      <td>1.0</td>\n",
       "      <td>1.0</td>\n",
       "      <td>145.0</td>\n",
       "      <td>233.0</td>\n",
       "      <td>1.0</td>\n",
       "      <td>2.0</td>\n",
       "      <td>150.0</td>\n",
       "      <td>0.0</td>\n",
       "      <td>2.3</td>\n",
       "      <td>3.0</td>\n",
       "      <td>0.0</td>\n",
       "      <td>6.0</td>\n",
       "      <td>0</td>\n",
       "    </tr>\n",
       "    <tr>\n",
       "      <th>1</th>\n",
       "      <td>67.0</td>\n",
       "      <td>1.0</td>\n",
       "      <td>4.0</td>\n",
       "      <td>160.0</td>\n",
       "      <td>286.0</td>\n",
       "      <td>0.0</td>\n",
       "      <td>2.0</td>\n",
       "      <td>108.0</td>\n",
       "      <td>1.0</td>\n",
       "      <td>1.5</td>\n",
       "      <td>2.0</td>\n",
       "      <td>3.0</td>\n",
       "      <td>3.0</td>\n",
       "      <td>2</td>\n",
       "    </tr>\n",
       "    <tr>\n",
       "      <th>2</th>\n",
       "      <td>67.0</td>\n",
       "      <td>1.0</td>\n",
       "      <td>4.0</td>\n",
       "      <td>120.0</td>\n",
       "      <td>229.0</td>\n",
       "      <td>0.0</td>\n",
       "      <td>2.0</td>\n",
       "      <td>129.0</td>\n",
       "      <td>1.0</td>\n",
       "      <td>2.6</td>\n",
       "      <td>2.0</td>\n",
       "      <td>2.0</td>\n",
       "      <td>7.0</td>\n",
       "      <td>1</td>\n",
       "    </tr>\n",
       "    <tr>\n",
       "      <th>3</th>\n",
       "      <td>37.0</td>\n",
       "      <td>1.0</td>\n",
       "      <td>3.0</td>\n",
       "      <td>130.0</td>\n",
       "      <td>250.0</td>\n",
       "      <td>0.0</td>\n",
       "      <td>0.0</td>\n",
       "      <td>187.0</td>\n",
       "      <td>0.0</td>\n",
       "      <td>3.5</td>\n",
       "      <td>3.0</td>\n",
       "      <td>0.0</td>\n",
       "      <td>3.0</td>\n",
       "      <td>0</td>\n",
       "    </tr>\n",
       "    <tr>\n",
       "      <th>4</th>\n",
       "      <td>41.0</td>\n",
       "      <td>0.0</td>\n",
       "      <td>2.0</td>\n",
       "      <td>130.0</td>\n",
       "      <td>204.0</td>\n",
       "      <td>0.0</td>\n",
       "      <td>2.0</td>\n",
       "      <td>172.0</td>\n",
       "      <td>0.0</td>\n",
       "      <td>1.4</td>\n",
       "      <td>1.0</td>\n",
       "      <td>0.0</td>\n",
       "      <td>3.0</td>\n",
       "      <td>0</td>\n",
       "    </tr>\n",
       "  </tbody>\n",
       "</table>\n",
       "</div>"
      ],
      "text/plain": [
       "    age  sex   cp  trestbps   chol  fbs  restecg  thalach  exang  oldpeak  \\\n",
       "0  63.0  1.0  1.0     145.0  233.0  1.0      2.0    150.0    0.0      2.3   \n",
       "1  67.0  1.0  4.0     160.0  286.0  0.0      2.0    108.0    1.0      1.5   \n",
       "2  67.0  1.0  4.0     120.0  229.0  0.0      2.0    129.0    1.0      2.6   \n",
       "3  37.0  1.0  3.0     130.0  250.0  0.0      0.0    187.0    0.0      3.5   \n",
       "4  41.0  0.0  2.0     130.0  204.0  0.0      2.0    172.0    0.0      1.4   \n",
       "\n",
       "   slope   ca  thal  num  \n",
       "0    3.0  0.0   6.0    0  \n",
       "1    2.0  3.0   3.0    2  \n",
       "2    2.0  2.0   7.0    1  \n",
       "3    3.0  0.0   3.0    0  \n",
       "4    1.0  0.0   3.0    0  "
      ]
     },
     "execution_count": 176,
     "metadata": {},
     "output_type": "execute_result"
    }
   ],
   "source": [
    "df.head()"
   ]
  },
  {
   "cell_type": "code",
   "execution_count": 177,
   "metadata": {},
   "outputs": [
    {
     "name": "stdout",
     "output_type": "stream",
     "text": [
      "<class 'pandas.core.frame.DataFrame'>\n",
      "RangeIndex: 303 entries, 0 to 302\n",
      "Data columns (total 14 columns):\n",
      " #   Column    Non-Null Count  Dtype  \n",
      "---  ------    --------------  -----  \n",
      " 0   age       303 non-null    float64\n",
      " 1   sex       303 non-null    float64\n",
      " 2   cp        303 non-null    float64\n",
      " 3   trestbps  303 non-null    float64\n",
      " 4   chol      303 non-null    float64\n",
      " 5   fbs       303 non-null    float64\n",
      " 6   restecg   303 non-null    float64\n",
      " 7   thalach   303 non-null    float64\n",
      " 8   exang     303 non-null    float64\n",
      " 9   oldpeak   303 non-null    float64\n",
      " 10  slope     303 non-null    float64\n",
      " 11  ca        303 non-null    float64\n",
      " 12  thal      303 non-null    float64\n",
      " 13  num       303 non-null    int64  \n",
      "dtypes: float64(13), int64(1)\n",
      "memory usage: 33.3 KB\n",
      "None\n"
     ]
    }
   ],
   "source": [
    "print(df.info())"
   ]
  },
  {
   "cell_type": "code",
   "execution_count": 178,
   "metadata": {
    "id": "gw5Rriw7h1x1"
   },
   "outputs": [],
   "source": [
    "target_col = \"num\""
   ]
  },
  {
   "cell_type": "code",
   "execution_count": 179,
   "metadata": {
    "id": "z9-MCfqnh5e_"
   },
   "outputs": [],
   "source": [
    "X = df.loc[:, df.columns != target_col]\n",
    "y = df.loc[:, target_col]"
   ]
  },
  {
   "cell_type": "code",
   "execution_count": 180,
   "metadata": {
    "id": "Q_Oh-mhYh95E"
   },
   "outputs": [],
   "source": [
    "X_train, X_test, y_train, y_test = train_test_split(X, y, \n",
    "                                                    test_size=0.30, \n",
    "                                                    random_state=42)"
   ]
  },
  {
   "cell_type": "markdown",
   "metadata": {
    "id": "SD9TnDGkiA_w"
   },
   "source": [
    "# Линейная регрессия (statsmodels)"
   ]
  },
  {
   "cell_type": "code",
   "execution_count": 181,
   "metadata": {
    "colab": {
     "base_uri": "https://localhost:8080/"
    },
    "id": "bZ33S9QhiS00",
    "outputId": "a29c0427-b02e-46c8-fdc8-d432610f00a0",
    "scrolled": true
   },
   "outputs": [],
   "source": [
    "X_with_constant = sm.add_constant(X_train)\n",
    "model = sm.OLS(y_train, X_with_constant)"
   ]
  },
  {
   "cell_type": "code",
   "execution_count": 182,
   "metadata": {
    "colab": {
     "base_uri": "https://localhost:8080/"
    },
    "id": "IvrWdZYoiVUb",
    "outputId": "abf06163-b151-48fa-eae8-c4141ca17a3a"
   },
   "outputs": [
    {
     "data": {
      "text/plain": [
       "const      -1.001397\n",
       "age        -0.004183\n",
       "sex         0.247245\n",
       "cp          0.196930\n",
       "trestbps    0.003064\n",
       "chol        0.000651\n",
       "fbs         0.201191\n",
       "restecg     0.085427\n",
       "thalach    -0.004420\n",
       "exang       0.321471\n",
       "oldpeak     0.175981\n",
       "slope       0.143317\n",
       "ca          0.417027\n",
       "thal        0.122265\n",
       "dtype: float64"
      ]
     },
     "execution_count": 182,
     "metadata": {},
     "output_type": "execute_result"
    }
   ],
   "source": [
    "results = model.fit()\n",
    "results.params"
   ]
  },
  {
   "cell_type": "code",
   "execution_count": 183,
   "metadata": {
    "colab": {
     "base_uri": "https://localhost:8080/"
    },
    "id": "HGlQxUj0iZfI",
    "outputId": "393f497b-bd28-4866-d06f-79c468d31ad3"
   },
   "outputs": [
    {
     "name": "stdout",
     "output_type": "stream",
     "text": [
      "                            OLS Regression Results                            \n",
      "==============================================================================\n",
      "Dep. Variable:                    num   R-squared:                       0.562\n",
      "Model:                            OLS   Adj. R-squared:                  0.533\n",
      "Method:                 Least Squares   F-statistic:                     19.52\n",
      "Date:                Sun, 16 Apr 2023   Prob (F-statistic):           5.86e-29\n",
      "Time:                        22:26:31   Log-Likelihood:                -257.00\n",
      "No. Observations:                 212   AIC:                             542.0\n",
      "Df Residuals:                     198   BIC:                             589.0\n",
      "Df Model:                          13                                         \n",
      "Covariance Type:            nonrobust                                         \n",
      "==============================================================================\n",
      "                 coef    std err          t      P>|t|      [0.025      0.975]\n",
      "------------------------------------------------------------------------------\n",
      "const         -1.0014      0.956     -1.048      0.296      -2.886       0.883\n",
      "age           -0.0042      0.008     -0.536      0.593      -0.020       0.011\n",
      "sex            0.2472      0.140      1.767      0.079      -0.029       0.523\n",
      "cp             0.1969      0.069      2.856      0.005       0.061       0.333\n",
      "trestbps       0.0031      0.003      0.881      0.380      -0.004       0.010\n",
      "chol           0.0007      0.001      0.507      0.613      -0.002       0.003\n",
      "fbs            0.2012      0.185      1.090      0.277      -0.163       0.565\n",
      "restecg        0.0854      0.061      1.409      0.161      -0.034       0.205\n",
      "thalach       -0.0044      0.003     -1.296      0.196      -0.011       0.002\n",
      "exang          0.3215      0.144      2.228      0.027       0.037       0.606\n",
      "oldpeak        0.1760      0.062      2.832      0.005       0.053       0.299\n",
      "slope          0.1433      0.119      1.207      0.229      -0.091       0.377\n",
      "ca             0.4170      0.072      5.820      0.000       0.276       0.558\n",
      "thal           0.1223      0.037      3.338      0.001       0.050       0.195\n",
      "==============================================================================\n",
      "Omnibus:                       17.811   Durbin-Watson:                   1.972\n",
      "Prob(Omnibus):                  0.000   Jarque-Bera (JB):               20.661\n",
      "Skew:                           0.641   Prob(JB):                     3.26e-05\n",
      "Kurtosis:                       3.835   Cond. No.                     5.38e+03\n",
      "==============================================================================\n",
      "\n",
      "Notes:\n",
      "[1] Standard Errors assume that the covariance matrix of the errors is correctly specified.\n",
      "[2] The condition number is large, 5.38e+03. This might indicate that there are\n",
      "strong multicollinearity or other numerical problems.\n"
     ]
    }
   ],
   "source": [
    "print(results.summary())"
   ]
  },
  {
   "cell_type": "markdown",
   "metadata": {
    "id": "bLW-Ey-fniV6"
   },
   "source": [
    "1. Коэффициенты регрессии модели Y = b0 + b1∙d1 + b2∙d2 + b3∙d3:\n",
    "\n",
    "b0 = -1.0014\n",
    "\n",
    "b1 = -0.0042\n",
    "\n",
    "b2 = 0.2472\n",
    "\n",
    "b3 = 0.1969\n",
    "\n",
    "b4 = 0.0031\n",
    "\n",
    "b5 = 0.0007\n",
    "\n",
    "b6 = 0.2012\n",
    "\n",
    "b7 = 0.0854\n",
    "\n",
    "b8 = -0.0044\n",
    "\n",
    "b9 = 0.3215\n",
    "\n",
    "b10 = 0.1760\n",
    "\n",
    "b11 = 0.1433\n",
    "\n",
    "b12 = 0.4170\n",
    "\n",
    "b13 = 0.1223 \n",
    "\n",
    "\n",
    "2. Коэффициент детерминации R-squared = 0.562, его скорректированная оценка Adj. R-squared = 0.533 - это означает, что регрессионная модель объясняет 53% вариации переменной Y.\n",
    "\n",
    "\n",
    "3. Проверка значимости коэффициента детерминации:\n",
    "\n",
    ">расчетное значение статистики критерия Фишера: F-statistic = 19.52\n",
    "\n",
    ">расчетный уровень значимости Prob (F-statistic) = 5.86e-29\n",
    "\n",
    ">так как значение Prob (F-statistic) < 0.05, то нулевая гипотеза R-squared = 0 НЕ ПРИНИМАЕТСЯ, т.е. коэффициент детерминации ЗНАЧИМ\n",
    "\n",
    "4. Проверка значимости коэффициентов регрессии:\n",
    "\n",
    ">расчетный уровень значимости P>|t| для b3, b9, b10, b12, b13 не превышает 0.05 - это означает, что коэффициенты регрессии значимы\n",
    "\n",
    ">об этом же свидетельствует то, что доверительный интервал для коэффициентов регрессии ([0.025; 0.975]) не включает в себя точку 0\n",
    "\n",
    ">расчетный уровень значимости P>|t| для b0, b1, b2, b4, b5, b6, b7, b8, b11 превышает 0.05. Нулевая гипотеза не отвергается. b0, b1, b2, b4, b5, b6, b7, b8, b11 не явля.тся значимымb.\n",
    "Нулевая гипотеза - коэффициет равен нулю, альтернативная - не равен.\n",
    "\n",
    "5. значения t для b0, b1, b2, b4, b5, b6, b7, b8, b11 очень мало (чем выше значение t, тем выше шанс, что мы отвергаем нулевую гипотезу).\n",
    "\n",
    "Также в таблице результатов содержится прочая информация по коэффициентам регрессии: стандартная ошибка Std.Err. "
   ]
  },
  {
   "cell_type": "code",
   "execution_count": 184,
   "metadata": {},
   "outputs": [
    {
     "name": "stdout",
     "output_type": "stream",
     "text": [
      "Total number of rows in dataset = 303\n",
      "Total number of columns in dataset = 6\n"
     ]
    }
   ],
   "source": [
    "new_df = df.drop(df.columns[[0, 1, 3, 4, 5, 6, 7, 10]], axis = 1)\n",
    "print (\"Total number of rows in dataset = {}\".format(new_df.shape[0]))\n",
    "print (\"Total number of columns in dataset = {}\".format(new_df.shape[1]))"
   ]
  },
  {
   "cell_type": "code",
   "execution_count": 185,
   "metadata": {},
   "outputs": [
    {
     "name": "stdout",
     "output_type": "stream",
     "text": [
      "    cp  exang  oldpeak   ca  thal  num\n",
      "0  1.0    0.0      2.3  0.0   6.0    0\n",
      "1  4.0    1.0      1.5  3.0   3.0    2\n",
      "2  4.0    1.0      2.6  2.0   7.0    1\n",
      "3  3.0    0.0      3.5  0.0   3.0    0\n",
      "4  2.0    0.0      1.4  0.0   3.0    0\n"
     ]
    }
   ],
   "source": [
    "print(new_df.head())"
   ]
  },
  {
   "cell_type": "code",
   "execution_count": 186,
   "metadata": {},
   "outputs": [
    {
     "name": "stdout",
     "output_type": "stream",
     "text": [
      "<class 'pandas.core.frame.DataFrame'>\n",
      "RangeIndex: 303 entries, 0 to 302\n",
      "Data columns (total 6 columns):\n",
      " #   Column   Non-Null Count  Dtype  \n",
      "---  ------   --------------  -----  \n",
      " 0   cp       303 non-null    float64\n",
      " 1   exang    303 non-null    float64\n",
      " 2   oldpeak  303 non-null    float64\n",
      " 3   ca       303 non-null    float64\n",
      " 4   thal     303 non-null    float64\n",
      " 5   num      303 non-null    int64  \n",
      "dtypes: float64(5), int64(1)\n",
      "memory usage: 14.3 KB\n",
      "None\n"
     ]
    }
   ],
   "source": [
    "print(new_df.info())"
   ]
  },
  {
   "cell_type": "code",
   "execution_count": 187,
   "metadata": {},
   "outputs": [],
   "source": [
    "target_col = \"num\"\n",
    "X = new_df.loc[:, new_df.columns != target_col]\n",
    "y = new_df.loc[:, target_col]\n",
    "X_train, X_test, y_train, y_test = train_test_split(X, y,\n",
    " test_size=0.30,\n",
    " random_state=42)"
   ]
  },
  {
   "cell_type": "code",
   "execution_count": 188,
   "metadata": {},
   "outputs": [
    {
     "name": "stdout",
     "output_type": "stream",
     "text": [
      "const     -1.086394\n",
      "cp         0.191931\n",
      "exang      0.402591\n",
      "oldpeak    0.241729\n",
      "ca         0.430829\n",
      "thal       0.158288\n",
      "dtype: float64\n"
     ]
    }
   ],
   "source": [
    "X_with_constant = sm.add_constant(X_train)\n",
    "model = sm.OLS(y_train, X_with_constant)\n",
    "results = model.fit()\n",
    "print(results.params)"
   ]
  },
  {
   "cell_type": "code",
   "execution_count": 189,
   "metadata": {},
   "outputs": [
    {
     "name": "stdout",
     "output_type": "stream",
     "text": [
      "                            OLS Regression Results                            \n",
      "==============================================================================\n",
      "Dep. Variable:                    num   R-squared:                       0.535\n",
      "Model:                            OLS   Adj. R-squared:                  0.523\n",
      "Method:                 Least Squares   F-statistic:                     47.34\n",
      "Date:                Sun, 16 Apr 2023   Prob (F-statistic):           1.90e-32\n",
      "Time:                        22:26:32   Log-Likelihood:                -263.34\n",
      "No. Observations:                 212   AIC:                             538.7\n",
      "Df Residuals:                     206   BIC:                             558.8\n",
      "Df Model:                           5                                         \n",
      "Covariance Type:            nonrobust                                         \n",
      "==============================================================================\n",
      "                 coef    std err          t      P>|t|      [0.025      0.975]\n",
      "------------------------------------------------------------------------------\n",
      "const         -1.0864      0.234     -4.636      0.000      -1.548      -0.624\n",
      "cp             0.1919      0.066      2.903      0.004       0.062       0.322\n",
      "exang          0.4026      0.142      2.840      0.005       0.123       0.682\n",
      "oldpeak        0.2417      0.054      4.490      0.000       0.136       0.348\n",
      "ca             0.4308      0.068      6.359      0.000       0.297       0.564\n",
      "thal           0.1583      0.034      4.687      0.000       0.092       0.225\n",
      "==============================================================================\n",
      "Omnibus:                       20.994   Durbin-Watson:                   2.068\n",
      "Prob(Omnibus):                  0.000   Jarque-Bera (JB):               24.363\n",
      "Skew:                           0.749   Prob(JB):                     5.13e-06\n",
      "Kurtosis:                       3.716   Cond. No.                         25.8\n",
      "==============================================================================\n",
      "\n",
      "Notes:\n",
      "[1] Standard Errors assume that the covariance matrix of the errors is correctly specified.\n"
     ]
    }
   ],
   "source": [
    "print(results.summary())"
   ]
  },
  {
   "cell_type": "code",
   "execution_count": 190,
   "metadata": {
    "colab": {
     "base_uri": "https://localhost:8080/"
    },
    "id": "JkYUerxjibmE",
    "outputId": "ad8f1aaf-f002-4440-b4fe-2fc5a030aa0d"
   },
   "outputs": [],
   "source": [
    "X_test = sm.add_constant(X_test)"
   ]
  },
  {
   "cell_type": "code",
   "execution_count": 191,
   "metadata": {
    "id": "1J80j2FVidaT"
   },
   "outputs": [],
   "source": [
    "y_pred = results.predict(X_test)"
   ]
  },
  {
   "cell_type": "code",
   "execution_count": 192,
   "metadata": {
    "id": "zjRpUizzifH0"
   },
   "outputs": [],
   "source": [
    "residual = y_test - y_pred"
   ]
  },
  {
   "cell_type": "markdown",
   "metadata": {
    "id": "Bl78Zd_o_seD"
   },
   "source": [
    "# Предпосылки линейной регрессии\n",
    "Модель линейной регрессии можно построить не для любых данных, а только для данных, которые удовлетворяют ряду условий. И прежде, чем использовать регрессионное уравнение для прогнозирования, необходимо проверить выполнение этих условий. В ином случае наша модель не будет адекватна поставленной задаче, и ее использование будет бессмысленно."
   ]
  },
  {
   "cell_type": "markdown",
   "metadata": {
    "id": "4SqH0aX-EFIS"
   },
   "source": [
    "# Наличие линейной зависимости\n",
    "Первая и самая естественная предпосылка заключается в линейности модели. Под этим условием подразумевается корректность модели, выбор адекватных предикторов и отсутствие лишних предикторов. А также линейную зависимость целевой переменной от независимых переменных."
   ]
  },
  {
   "cell_type": "code",
   "execution_count": 193,
   "metadata": {
    "colab": {
     "base_uri": "https://localhost:8080/",
     "height": 743
    },
    "id": "KTkSEBlbEKBj",
    "outputId": "a165636d-7496-4617-9456-2b177131f384"
   },
   "outputs": [
    {
     "data": {
      "image/png": "[encoded data removed]",
      "text/plain": [
       "<Figure size 1080x1080 with 42 Axes>"
      ]
     },
     "metadata": {
      "needs_background": "light"
     },
     "output_type": "display_data"
    }
   ],
   "source": [
    "sns.pairplot(new_df)\n",
    "plt.show()"
   ]
  },
  {
   "cell_type": "markdown",
   "metadata": {
    "id": "2eUVI1VIinnU"
   },
   "source": [
    "# Отсутствие мультиколлинеарности\n",
    "\n",
    "Мультиколлинеарностью называют явление, которое заключается в наличии линейной зависимости между независимыми переменными (предикторами). Такое может возникать, например, при использовании признаков с естественной взаимосвязью: стаж работы и возраст (как правило, чем больше возраст - тем больше стаж и наоборот), количество детских садов и количество школ в районе (обычно детские сады бывают при школе, так что эти количества пропорционально взаимосвязаны) или баллы за экзамены IELTS и TOEFL (так как они экзамены проверяют примерно одни и те же знания и навыки)\n",
    "\n",
    "Последствием мультиколлинеарности является расширение доверительных интервалов для коэффициентов, и модель получается очень неустойчивой и меняющейся от добавления даже 1-2 новых наблюдений. Разумеется, это не очень хорошая для нас ситуация, поэтому мы должны отбирать для модели только те предикторы, между которыми нет линейной связи.\n",
    "\n",
    "Для того чтобы проверить данную предпосылку, нам необходимо построить матрицу корреляций для всех потенциальных предикторов, и отследить наличие сильной корреляционной связи. Нет четкой границы, которая отделяет допустимую взаимосвязь и недопустимую, но в ряде источников используется граница в районе 0.9. То есть, если между предикторами коэффициент корреляции по модулю больше, чем 0.9, то мы не можем оба этих предиктора использовать для модели.\n",
    "\n",
    "Почитать:\n",
    "\n",
    "[wiki](https://ru.wikipedia.org/wiki/%D0%9C%D1%83%D0%BB%D1%8C%D1%82%D0%B8%D0%BA%D0%BE%D0%BB%D0%BB%D0%B8%D0%BD%D0%B5%D0%B0%D1%80%D0%BD%D0%BE%D1%81%D1%82%D1%8C#:~:text=%D0%9C%D1%83%D0%BB%D1%8C%D1%82%D0%B8%D0%BA%D0%BE%D0%BB%D0%BB%D0%B8%D0%BD%D0%B5%D0%B0%D1%80%D0%BD%D0%BE%D1%81%D1%82%D1%8C%20(multicollinearity)%20%E2%80%94%20%D0%B2%20%D1%8D%D0%BA%D0%BE%D0%BD%D0%BE%D0%BC%D0%B5%D1%82%D1%80%D0%B8%D0%BA%D0%B5,%D0%BD%D0%B0%D0%BB%D0%B8%D1%87%D0%B8%D0%B5%20%D1%81%D0%B8%D0%BB%D1%8C%D0%BD%D0%BE%D0%B9%20%D0%BA%D0%BE%D1%80%D1%80%D0%B5%D0%BB%D1%8F%D1%86%D0%B8%D0%B8%20%D0%BC%D0%B5%D0%B6%D0%B4%D1%83%20%D1%84%D0%B0%D0%BA%D1%82%D0%BE%D1%80%D0%B0%D0%BC%D0%B8)\n",
    "\n",
    "[статья](https://towardsdatascience.com/why-multicollinearity-isnt-an-issue-in-machine-learning-5c9aa2f1a83a)\n"
   ]
  },
  {
   "cell_type": "code",
   "execution_count": 194,
   "metadata": {
    "colab": {
     "base_uri": "https://localhost:8080/",
     "height": 143
    },
    "id": "iUzegBllDsBn",
    "outputId": "49cc680c-0374-4298-8694-922d47536e4e"
   },
   "outputs": [
    {
     "name": "stdout",
     "output_type": "stream",
     "text": [
      "               cp     exang   oldpeak        ca      thal       num\n",
      "cp       1.000000  0.384060  0.202277  0.218137  0.262089  0.407075\n",
      "exang    0.384060  1.000000  0.288223  0.133952  0.325240  0.397057\n",
      "oldpeak  0.202277  0.288223  1.000000  0.258143  0.342405  0.504092\n",
      "ca       0.218137  0.133952  0.258143  1.000000  0.252316  0.479665\n",
      "thal     0.262089  0.325240  0.342405  0.252316  1.000000  0.507155\n",
      "num      0.407075  0.397057  0.504092  0.479665  0.507155  1.000000\n"
     ]
    }
   ],
   "source": [
    "cols_num = ['cp', 'exang', 'oldpeak', 'ca', 'thal', 'num']\n",
    "correlation = new_df.corr().loc[cols_num, cols_num]\n",
    "print(correlation)"
   ]
  },
  {
   "cell_type": "code",
   "execution_count": 195,
   "metadata": {
    "colab": {
     "base_uri": "https://localhost:8080/",
     "height": 721
    },
    "id": "kaYA6UAoD1wa",
    "outputId": "df4bec9d-d211-4ce5-b74a-0dc2c47983e0"
   },
   "outputs": [
    {
     "data": {
      "image/png": "[encoded data removed]",
      "text/plain": [
       "<Figure size 1008x864 with 2 Axes>"
      ]
     },
     "metadata": {
      "needs_background": "light"
     },
     "output_type": "display_data"
    }
   ],
   "source": [
    "fig , ax = plt.subplots(figsize = (14,12))\n",
    "sns.heatmap(correlation,\n",
    " linewidths=0.5, annot=True,cmap='viridis',\n",
    " linecolor=\"white\", annot_kws = {'size':12})\n",
    "plt.show()"
   ]
  },
  {
   "cell_type": "code",
   "execution_count": 196,
   "metadata": {
    "colab": {
     "base_uri": "https://localhost:8080/",
     "height": 81
    },
    "id": "WCcSlRCgP6FG",
    "outputId": "5915aaf3-b807-4a6a-d616-6e3ced453418"
   },
   "outputs": [
    {
     "name": "stdout",
     "output_type": "stream",
     "text": [
      "           cp     exang   oldpeak        ca      thal\n",
      "vif  5.899867  1.850312  2.165545  1.747935  6.149517\n"
     ]
    }
   ],
   "source": [
    "vif = [variance_inflation_factor(X_train.values, i) for i in range(X_train.shape[1])]\n",
    "print(pd.DataFrame({'vif': vif[0:]}, index=X_train.columns).T)"
   ]
  },
  {
   "cell_type": "markdown",
   "metadata": {
    "id": "Lv9TKOyzjIGo"
   },
   "source": [
    "# Нормальное распределение ошибок\n",
    "После того как мы построили модель регрессии, мы можем вычислить ошибки (остатки): разницы между реальным значением $y$ и предсказанным $\\hat{y}$. Важным условием является нормальность распределения этих ошибок. То есть, распределение остатков должно стремиться к нормальному распределению. Проверить выполняемость этого условия можно визуально с помощью гистограммы или с помощью специальных статистических тестов.\n",
    "\n",
    "В целом, такое условие связано не напрямую с остатками, а с тем, что зависимая переменная должна быть распределена нормально для любых значений х. Однако такое условие проверить довольно сложно, поэтому можно проверить такое условие с помощью анализа распределения остатков."
   ]
  },
  {
   "cell_type": "code",
   "execution_count": 197,
   "metadata": {
    "colab": {
     "base_uri": "https://localhost:8080/",
     "height": 554
    },
    "id": "RdtFAOSEi0Kd",
    "outputId": "7421230f-77b5-420f-e924-f05df79ef263"
   },
   "outputs": [
    {
     "data": {
      "image/png": "[encoded data removed]",
      "text/plain": [
       "<Figure size 432x288 with 1 Axes>"
      ]
     },
     "metadata": {
      "needs_background": "light"
     },
     "output_type": "display_data"
    }
   ],
   "source": [
    "sns.histplot(residual, kde=True, stat=\"density\", linewidth=0)\n",
    "plt.show()"
   ]
  },
  {
   "cell_type": "code",
   "execution_count": 198,
   "metadata": {
    "colab": {
     "base_uri": "https://localhost:8080/",
     "height": 214
    },
    "id": "MvXQ6SQXj3_k",
    "outputId": "65b06397-0884-4b1f-c860-04f44f74a203"
   },
   "outputs": [
    {
     "data": {
      "image/png": "[encoded data removed]",
      "text/plain": [
       "<Figure size 432x180 with 1 Axes>"
      ]
     },
     "metadata": {
      "needs_background": "light"
     },
     "output_type": "display_data"
    }
   ],
   "source": [
    "fig, ax = plt.subplots(figsize=(6,2.5))\n",
    "_, (__, ___, r) = sp.stats.probplot(residual, plot=ax, fit=True)"
   ]
  },
  {
   "cell_type": "code",
   "execution_count": 199,
   "metadata": {
    "colab": {
     "base_uri": "https://localhost:8080/"
    },
    "id": "TSeQ7yiEj6hI",
    "outputId": "984a1173-dcb5-4e18-b326-ec62e1bf0d40"
   },
   "outputs": [
    {
     "data": {
      "text/plain": [
       "-0.052499925976614015"
      ]
     },
     "execution_count": 199,
     "metadata": {},
     "output_type": "execute_result"
    }
   ],
   "source": [
    "np.mean(residual)"
   ]
  },
  {
   "cell_type": "markdown",
   "metadata": {
    "id": "2z7c7fmZj-HK"
   },
   "source": [
    "# Гомоскедастичность \n",
    "Гомоскедастичность ошибок заключается в том, что разброс остатков при любых значениях независимых переменных одинаковый. Предположим, что мы хотим предсказать стоимость квартиры по каким-то ее признакам. Если для квартир площадью 30-50 метров разброс ошибок будет маленький, а для квартир, площадью 50-70 метров разброс ошибок будет очень большой, то мы будем иметь дело с гетероскедастичностью. Такая ситуация нас не устраивает. Нам важно, чтобы качество модели было одно и то же при любых значениях независимой переменной.\n",
    "\n",
    "[wiki](https://ru.wikipedia.org/wiki/%D0%93%D0%BE%D0%BC%D0%BE%D1%81%D0%BA%D0%B5%D0%B4%D0%B0%D1%81%D1%82%D0%B8%D1%87%D0%BD%D0%BE%D1%81%D1%82%D1%8C)"
   ]
  },
  {
   "cell_type": "code",
   "execution_count": 200,
   "metadata": {
    "colab": {
     "base_uri": "https://localhost:8080/",
     "height": 184
    },
    "id": "Ef7jHuknj-4r",
    "outputId": "d454e27e-05bc-4631-fa98-131cdebea379"
   },
   "outputs": [
    {
     "data": {
      "image/png": "[encoded data removed]",
      "text/plain": [
       "<Figure size 432x180 with 1 Axes>"
      ]
     },
     "metadata": {
      "needs_background": "light"
     },
     "output_type": "display_data"
    }
   ],
   "source": [
    "fig, ax = plt.subplots(figsize=(6,2.5))\n",
    "_ = ax.scatter(y_pred, residual)\n",
    "plt.show()"
   ]
  },
  {
   "cell_type": "markdown",
   "metadata": {
    "id": "XWs7ghcBkfgD"
   },
   "source": [
    "# Отсутствие автокорреляции остатков\n",
    "Автокорреляция остатков (ошибок) возникает в ситуации, когда есть линейная взаимосвязь между остатками для одних значений предикторов и остатками для других значений предикторов. Такое может проявляться в силу естественных причин, как и в случае сс мультиколлинеарностью. Например, если мы предсказываем какие-то показатели для соседних регионов страны, то, скорее всего, они будут сильно взаимосвязаны просто в силу схожести характеристик этих объектов.\n",
    "\n",
    "Автокорреляция влечет за собой некорректные результаты. Стандартные ошибки получаются несостоятельными, и мы не можем строить корректные доверительные интервалы и проверять гипотезы классическими способами.\n",
    "\n",
    "[wiki](https://ru.wikipedia.org/wiki/%D0%90%D0%B2%D1%82%D0%BE%D0%BA%D0%BE%D1%80%D1%80%D0%B5%D0%BB%D1%8F%D1%86%D0%B8%D0%BE%D0%BD%D0%BD%D0%B0%D1%8F_%D1%84%D1%83%D0%BD%D0%BA%D1%86%D0%B8%D1%8F)"
   ]
  },
  {
   "cell_type": "code",
   "execution_count": 201,
   "metadata": {
    "colab": {
     "base_uri": "https://localhost:8080/",
     "height": 553
    },
    "id": "XZevRlLLkews",
    "outputId": "0f08f219-e37b-4356-97e6-98ba10ac2153"
   },
   "outputs": [
    {
     "data": {
      "image/png": "[encoded data removed]",
      "text/plain": [
       "<Figure size 432x288 with 1 Axes>"
      ]
     },
     "metadata": {
      "needs_background": "light"
     },
     "output_type": "display_data"
    }
   ],
   "source": [
    "acf = smt.graphics.plot_acf(residual, lags=40 , alpha=0.05)\n",
    "plt.show()"
   ]
  },
  {
   "cell_type": "markdown",
   "metadata": {
    "id": "N_eu2jr_0ZNH"
   },
   "source": [
    "\n",
    "## Матрицами \n",
    "\n",
    "## $\\beta^* = (X^T \\cdot X)^{-1}\\cdot X^T \\cdot Y$\n",
    "\n"
   ]
  },
  {
   "cell_type": "code",
   "execution_count": 202,
   "metadata": {},
   "outputs": [
    {
     "name": "stdout",
     "output_type": "stream",
     "text": [
      "[-1.08639362  0.19193057  0.40259085  0.24172922  0.43082904  0.15828751]\n"
     ]
    }
   ],
   "source": [
    "X_train = sm.add_constant(X_train)\n",
    "xtx = np.dot(X_train.T, X_train)\n",
    "xtxi = np.dot(np.linalg.inv(np.matmul(xtx.T,xtx)),xtx.T)\n",
    "xty = np.dot(X_train.T, y_train)\n",
    "b = np.dot(xtxi, xty)\n",
    "print(b)"
   ]
  },
  {
   "cell_type": "code",
   "execution_count": 203,
   "metadata": {},
   "outputs": [
    {
     "name": "stdout",
     "output_type": "stream",
     "text": [
      "Mean squared error: 0.75\n"
     ]
    }
   ],
   "source": [
    "y_pred = np.dot(X_test,b.T)\n",
    "print('Mean squared error: %.2f'\n",
    " % np.square(y_test - y_pred).mean())"
   ]
  },
  {
   "cell_type": "code",
   "execution_count": 204,
   "metadata": {},
   "outputs": [
    {
     "name": "stdout",
     "output_type": "stream",
     "text": [
      "Mean squared error (sklearn): 0.75\n"
     ]
    }
   ],
   "source": [
    "from sklearn.metrics import mean_squared_error\n",
    "print('Mean squared error (sklearn): %.2f'\n",
    " % mean_squared_error(y_test, y_pred))"
   ]
  },
  {
   "cell_type": "code",
   "execution_count": 205,
   "metadata": {},
   "outputs": [
    {
     "name": "stdout",
     "output_type": "stream",
     "text": [
      "Coefficient of determination: 0.49\n"
     ]
    }
   ],
   "source": [
    "rss = np.sum(np.square(y_test - y_pred))\n",
    "ess = np.sum(np.square(y_test - y_test.mean()))\n",
    "print('Coefficient of determination: %.2f'\n",
    " % (1 - (rss / ess)))"
   ]
  },
  {
   "cell_type": "code",
   "execution_count": 206,
   "metadata": {},
   "outputs": [
    {
     "name": "stdout",
     "output_type": "stream",
     "text": [
      "Coefficient of determination (sklearn): 0.49\n"
     ]
    }
   ],
   "source": [
    "from sklearn.metrics import r2_score\n",
    "print('Coefficient of determination (sklearn): %.2f'\n",
    " % r2_score(y_test, y_pred))"
   ]
  },
  {
   "cell_type": "markdown",
   "metadata": {
    "id": "ucYDZTHx0cPC"
   },
   "source": [
    "## Градиентным спуском  \n",
    "\n",
    "Инициализируем случайную точку (часто берут просто нули):\n",
    "\n",
    "$$\n",
    "\\beta_0 = (0\\;\\; 0 ...)\n",
    "$$\n",
    "\n",
    "Итеративно скачем по линиям уровня нашей функции, шагая каждый раз в сторону антиградиента с корректировкой шага $\\eta_k$:\n",
    "\n",
    "$$\n",
    "\\beta_{k+1} = \\beta_k - \\eta_{k}\\cdot\\nabla Q(\\beta_k, X)\n",
    "$$\n",
    " \n",
    "Останавливаемся, когда срабатывает критерий останова. Например:\n",
    "\n",
    "$$\n",
    "|\\beta_{k+1} - \\beta_k| < \\xi\n",
    "$$\n",
    "\n",
    "Пусть имеем 3 объекта $(X, Y)^i$ = $\\left((d_i, 1), Y_i \\right)$ с 3 признаками $d_1$, $d_2$ (+ константа). Хотим оценить обычную линейную модель:\n",
    "\n",
    "$$\n",
    "a(x) = \\beta_1 \\cdot d_1 + \\beta_2 \\cdot d_2 + \\beta_0\n",
    "$$\n",
    "\n",
    "Тогда функционал ошибки как среднеквадратическая ошибка на нашей выборке выглядит следующим образом:\n",
    "\n",
    "$$\n",
    "Q(a, X) = \\frac{1}{N}\\cdot\\sum_{i=1}^N (\\beta_1 \\cdot d_{i1} + \\beta_2 \\cdot d_{i2} + \\beta_0 - y_i)^2\n",
    "$$\n",
    "\n",
    "Посчитаем вектор-градиент по всем оцениваемым параметрам:\n",
    "\n",
    "$$\n",
    "\\nabla Q(a, X) = (Q'_{\\beta_1} \\;\\;\\; Q'_{\\beta_2} \\;\\;\\; Q'_{\\beta_0})\n",
    "$$\n",
    "\n",
    "Пример расчета производной по параметру у признака номер 1:\n",
    "\n",
    "$$\n",
    "Q'_{\\beta_1} = \\frac{2}{N} \\cdot \\sum_{i=1}^N d_{i1} \\cdot (\\beta_1 \\cdot d_{i1} + \\beta_2 \\cdot d_{i2} + \\beta_0 - y_i)\n",
    "$$"
   ]
  },
  {
   "cell_type": "code",
   "execution_count": 207,
   "metadata": {
    "id": "4Y5F-MCi0fNI"
   },
   "outputs": [],
   "source": [
    "N = X_train.shape[0]\n",
    "rows = X_train.shape[1]\n",
    "params = np.zeros(rows)\n",
    "X = X_train.to_numpy()\n",
    "y = y_train.to_numpy()"
   ]
  },
  {
   "cell_type": "code",
   "execution_count": 208,
   "metadata": {},
   "outputs": [
    {
     "name": "stdout",
     "output_type": "stream",
     "text": [
      "[-1.06001318  0.18601905  0.40912686  0.24179079  0.43165545  0.15629986]\n"
     ]
    }
   ],
   "source": [
    "eps = 0.00000001\n",
    "errors = [1, 0]\n",
    "grad = np.zeros(rows)\n",
    "while abs(errors[-1] - errors[-2]) > eps:\n",
    "    predictions = (params @ X.T).T\n",
    "    error = (1/N) * sum((predictions - y) ** 2)\n",
    "    errors.append(error)\n",
    "    for feat in range(rows):\n",
    "        grad[feat] = 2/N * sum(X[:, feat] * (predictions - y))\n",
    "        params[feat] -= 0.001 * grad[feat]\n",
    "print(params)\n"
   ]
  },
  {
   "cell_type": "code",
   "execution_count": 209,
   "metadata": {},
   "outputs": [
    {
     "name": "stdout",
     "output_type": "stream",
     "text": [
      "Mean squared error: 0.70\n"
     ]
    }
   ],
   "source": [
    "print('Mean squared error: %.2f'\n",
    " % error)"
   ]
  },
  {
   "cell_type": "markdown",
   "metadata": {},
   "source": [
    "### Построение регрессионной зависимостьи с помощью библиотеки sklearn"
   ]
  },
  {
   "cell_type": "code",
   "execution_count": 215,
   "metadata": {},
   "outputs": [
    {
     "data": {
      "text/plain": [
       "array([-0.10865064,  0.06862717,  0.19200067,  0.04903415,  0.07925448,\n",
       "        0.11790048,  0.01953148, -0.09851849,  0.07456989,  0.23353073,\n",
       "        0.14857097,  0.36011857,  0.28835474])"
      ]
     },
     "execution_count": 215,
     "metadata": {},
     "output_type": "execute_result"
    }
   ],
   "source": [
    "from sklearn.pipeline import Pipeline\n",
    "from sklearn.preprocessing import StandardScaler\n",
    "from sklearn.linear_model import SGDRegressor\n",
    "from sklearn.metrics import mean_squared_error, mean_absolute_error\n",
    "X = df.loc[:, df.columns!=df.columns[-1]]\n",
    "y = df.loc[:,df.columns[-1]]\n",
    "\n",
    "X_train, X_test, y_train, y_test = train_test_split(X, y,\n",
    "test_size=0.30,\n",
    "random_state=42)\n",
    "\n",
    "pipeline_ = Pipeline([('feature_scaling', StandardScaler()), ('sgd', SGDRegressor(\n",
    "max_iter=10000, early_stopping=True, eta0=0.1, tol=1e-9, validation_fraction=0.2,\n",
    "n_iter_no_change=10, average=20, random_state=42))])\n",
    "pipeline_.fit(X_train,y_train)\n",
    "pipeline_.steps[1][1].coef_"
   ]
  },
  {
   "cell_type": "code",
   "execution_count": 216,
   "metadata": {},
   "outputs": [
    {
     "data": {
      "text/plain": [
       "array([1.45926056, 1.07289217, 1.59102631, 1.01565945, 1.43373762,\n",
       "       2.35564116, 1.98565005, 2.63774451, 0.8290871 , 1.00059837])"
      ]
     },
     "execution_count": 216,
     "metadata": {},
     "output_type": "execute_result"
    }
   ],
   "source": [
    "y_pred = pipeline_.predict(X_test)\n",
    "y_pred[:10]"
   ]
  },
  {
   "cell_type": "code",
   "execution_count": 217,
   "metadata": {},
   "outputs": [
    {
     "name": "stdout",
     "output_type": "stream",
     "text": [
      "0.780318010220909\n"
     ]
    }
   ],
   "source": [
    "mse = mean_squared_error(y_test, y_pred)\n",
    "print(mse)"
   ]
  },
  {
   "cell_type": "markdown",
   "metadata": {
    "id": "IhG-DJYPtNKq"
   },
   "source": [
    "# Задание\n",
    "1. Выбрать датасет https://archive-beta.ics.uci.edu/.\n",
    "2. Проанализировать результаты, полученные с помощью statsmodels (шаги выше).\n",
    "3. Построить регрессионную зависимость с помощью метода наименьших квадратов, используя вычисление обратной матрицы. \n",
    "4. Построить регрессионную зависимость с помощью метода наименьших квадратов, используя метод градиентного спуска (используя приведенные формулы). Сравнить с результатами sklearn.\n",
    "4. Сравнить и описать результаты.\n"
   ]
  },
  {
   "cell_type": "markdown",
   "metadata": {
    "id": "fVIbbYPFll3_"
   },
   "source": [
    "# По материалам\n",
    "1. https://github.com/bhattbhavesh91/linear-regression-assumptions\n",
    "2. https://towardsdatascience.com/assumptions-of-linear-regression-fdb71ebeaa8b\n",
    "3. https://habr.com/en/post/690414/\n",
    "4. Еще каких-то хороших людей"
   ]
  },
  {
   "cell_type": "code",
   "execution_count": null,
   "metadata": {
    "id": "O8dfFwPUYKb5"
   },
   "outputs": [],
   "source": []
  }
 ],
 "metadata": {
  "colab": {
   "provenance": []
  },
  "kernelspec": {
   "display_name": "Python 3 (ipykernel)",
   "language": "python",
   "name": "python3"
  },
  "language_info": {
   "codemirror_mode": {
    "name": "ipython",
    "version": 3
   },
   "file_extension": ".py",
   "mimetype": "text/x-python",
   "name": "python",
   "nbconvert_exporter": "python",
   "pygments_lexer": "ipython3",
   "version": "3.12.2"
  }
 },
 "nbformat": 4,
 "nbformat_minor": 4
}
