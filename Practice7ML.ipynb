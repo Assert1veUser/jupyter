{
 "cells": [
  {
   "cell_type": "markdown",
   "id": "ab0475a3-ef47-4234-a69a-9b09aed35938",
   "metadata": {},
   "source": [
    "#### Импорт библиотек для работы."
   ]
  },
  {
   "cell_type": "code",
   "execution_count": 44,
   "id": "aebe7b9d-fa8a-48fa-b4f9-7076dfdfae05",
   "metadata": {},
   "outputs": [],
   "source": [
    "import numpy as np\n",
    "import pandas as pd\n",
    "from sklearn.model_selection import train_test_split"
   ]
  },
  {
   "cell_type": "markdown",
   "id": "acef1091-a225-4974-93ab-19c7236c10d0",
   "metadata": {},
   "source": [
    "#### Прочитаем файл."
   ]
  },
  {
   "cell_type": "code",
   "execution_count": 45,
   "id": "8ea34e84-e8ef-46b8-9bef-09504ede528b",
   "metadata": {},
   "outputs": [
    {
     "data": {
      "text/html": [
       "<div>\n",
       "<style scoped>\n",
       "    .dataframe tbody tr th:only-of-type {\n",
       "        vertical-align: middle;\n",
       "    }\n",
       "\n",
       "    .dataframe tbody tr th {\n",
       "        vertical-align: top;\n",
       "    }\n",
       "\n",
       "    .dataframe thead th {\n",
       "        text-align: right;\n",
       "    }\n",
       "</style>\n",
       "<table border=\"1\" class=\"dataframe\">\n",
       "  <thead>\n",
       "    <tr style=\"text-align: right;\">\n",
       "      <th></th>\n",
       "      <th>Беременность</th>\n",
       "      <th>Глюкоза</th>\n",
       "      <th>АД</th>\n",
       "      <th>Толщина КС</th>\n",
       "      <th>Инсулин</th>\n",
       "      <th>ИМТ</th>\n",
       "      <th>Наследственность</th>\n",
       "      <th>Возраст</th>\n",
       "      <th>Диагноз</th>\n",
       "    </tr>\n",
       "  </thead>\n",
       "  <tbody>\n",
       "    <tr>\n",
       "      <th>0</th>\n",
       "      <td>6</td>\n",
       "      <td>148</td>\n",
       "      <td>72</td>\n",
       "      <td>35.0</td>\n",
       "      <td>0.0</td>\n",
       "      <td>33.6</td>\n",
       "      <td>0.627</td>\n",
       "      <td>50</td>\n",
       "      <td>1</td>\n",
       "    </tr>\n",
       "    <tr>\n",
       "      <th>1</th>\n",
       "      <td>1</td>\n",
       "      <td>85</td>\n",
       "      <td>66</td>\n",
       "      <td>29.0</td>\n",
       "      <td>0.0</td>\n",
       "      <td>26.6</td>\n",
       "      <td>0.351</td>\n",
       "      <td>31</td>\n",
       "      <td>0</td>\n",
       "    </tr>\n",
       "    <tr>\n",
       "      <th>2</th>\n",
       "      <td>8</td>\n",
       "      <td>183</td>\n",
       "      <td>64</td>\n",
       "      <td>0.0</td>\n",
       "      <td>0.0</td>\n",
       "      <td>23.3</td>\n",
       "      <td>0.672</td>\n",
       "      <td>32</td>\n",
       "      <td>1</td>\n",
       "    </tr>\n",
       "    <tr>\n",
       "      <th>3</th>\n",
       "      <td>1</td>\n",
       "      <td>89</td>\n",
       "      <td>66</td>\n",
       "      <td>23.0</td>\n",
       "      <td>94.0</td>\n",
       "      <td>28.1</td>\n",
       "      <td>0.167</td>\n",
       "      <td>21</td>\n",
       "      <td>0</td>\n",
       "    </tr>\n",
       "    <tr>\n",
       "      <th>4</th>\n",
       "      <td>0</td>\n",
       "      <td>137</td>\n",
       "      <td>40</td>\n",
       "      <td>35.0</td>\n",
       "      <td>168.0</td>\n",
       "      <td>43.1</td>\n",
       "      <td>2.288</td>\n",
       "      <td>33</td>\n",
       "      <td>1</td>\n",
       "    </tr>\n",
       "    <tr>\n",
       "      <th>...</th>\n",
       "      <td>...</td>\n",
       "      <td>...</td>\n",
       "      <td>...</td>\n",
       "      <td>...</td>\n",
       "      <td>...</td>\n",
       "      <td>...</td>\n",
       "      <td>...</td>\n",
       "      <td>...</td>\n",
       "      <td>...</td>\n",
       "    </tr>\n",
       "    <tr>\n",
       "      <th>763</th>\n",
       "      <td>10</td>\n",
       "      <td>101</td>\n",
       "      <td>76</td>\n",
       "      <td>48.0</td>\n",
       "      <td>180.0</td>\n",
       "      <td>32.9</td>\n",
       "      <td>0.171</td>\n",
       "      <td>63</td>\n",
       "      <td>0</td>\n",
       "    </tr>\n",
       "    <tr>\n",
       "      <th>764</th>\n",
       "      <td>2</td>\n",
       "      <td>122</td>\n",
       "      <td>70</td>\n",
       "      <td>27.0</td>\n",
       "      <td>0.0</td>\n",
       "      <td>36.8</td>\n",
       "      <td>0.340</td>\n",
       "      <td>27</td>\n",
       "      <td>0</td>\n",
       "    </tr>\n",
       "    <tr>\n",
       "      <th>765</th>\n",
       "      <td>5</td>\n",
       "      <td>121</td>\n",
       "      <td>72</td>\n",
       "      <td>23.0</td>\n",
       "      <td>112.0</td>\n",
       "      <td>26.2</td>\n",
       "      <td>0.245</td>\n",
       "      <td>30</td>\n",
       "      <td>0</td>\n",
       "    </tr>\n",
       "    <tr>\n",
       "      <th>766</th>\n",
       "      <td>1</td>\n",
       "      <td>126</td>\n",
       "      <td>60</td>\n",
       "      <td>0.0</td>\n",
       "      <td>0.0</td>\n",
       "      <td>30.1</td>\n",
       "      <td>0.349</td>\n",
       "      <td>47</td>\n",
       "      <td>1</td>\n",
       "    </tr>\n",
       "    <tr>\n",
       "      <th>767</th>\n",
       "      <td>1</td>\n",
       "      <td>93</td>\n",
       "      <td>70</td>\n",
       "      <td>31.0</td>\n",
       "      <td>0.0</td>\n",
       "      <td>30.4</td>\n",
       "      <td>0.315</td>\n",
       "      <td>23</td>\n",
       "      <td>0</td>\n",
       "    </tr>\n",
       "  </tbody>\n",
       "</table>\n",
       "<p>768 rows × 9 columns</p>\n",
       "</div>"
      ],
      "text/plain": [
       "     Беременность  Глюкоза  АД  Толщина КС  Инсулин   ИМТ  Наследственность  \\\n",
       "0               6      148  72        35.0      0.0  33.6             0.627   \n",
       "1               1       85  66        29.0      0.0  26.6             0.351   \n",
       "2               8      183  64         0.0      0.0  23.3             0.672   \n",
       "3               1       89  66        23.0     94.0  28.1             0.167   \n",
       "4               0      137  40        35.0    168.0  43.1             2.288   \n",
       "..            ...      ...  ..         ...      ...   ...               ...   \n",
       "763            10      101  76        48.0    180.0  32.9             0.171   \n",
       "764             2      122  70        27.0      0.0  36.8             0.340   \n",
       "765             5      121  72        23.0    112.0  26.2             0.245   \n",
       "766             1      126  60         0.0      0.0  30.1             0.349   \n",
       "767             1       93  70        31.0      0.0  30.4             0.315   \n",
       "\n",
       "     Возраст  Диагноз  \n",
       "0         50        1  \n",
       "1         31        0  \n",
       "2         32        1  \n",
       "3         21        0  \n",
       "4         33        1  \n",
       "..       ...      ...  \n",
       "763       63        0  \n",
       "764       27        0  \n",
       "765       30        0  \n",
       "766       47        1  \n",
       "767       23        0  \n",
       "\n",
       "[768 rows x 9 columns]"
      ]
     },
     "execution_count": 45,
     "metadata": {},
     "output_type": "execute_result"
    }
   ],
   "source": [
    "dt = pd.read_csv('D:\\\\МИРЭА\\\\Машинное обучение\\\\Пр7\\\\data.csv', encoding='windows-1251', sep='\\t')  \n",
    "dt"
   ]
  },
  {
   "cell_type": "code",
   "execution_count": 46,
   "id": "90020601-a6b5-4bb1-bc05-2ce0a66f8934",
   "metadata": {},
   "outputs": [
    {
     "data": {
      "text/html": [
       "<div>\n",
       "<style scoped>\n",
       "    .dataframe tbody tr th:only-of-type {\n",
       "        vertical-align: middle;\n",
       "    }\n",
       "\n",
       "    .dataframe tbody tr th {\n",
       "        vertical-align: top;\n",
       "    }\n",
       "\n",
       "    .dataframe thead th {\n",
       "        text-align: right;\n",
       "    }\n",
       "</style>\n",
       "<table border=\"1\" class=\"dataframe\">\n",
       "  <thead>\n",
       "    <tr style=\"text-align: right;\">\n",
       "      <th></th>\n",
       "      <th>Беременность</th>\n",
       "      <th>Глюкоза</th>\n",
       "      <th>АД</th>\n",
       "      <th>Толщина КС</th>\n",
       "      <th>Инсулин</th>\n",
       "      <th>ИМТ</th>\n",
       "      <th>Наследственность</th>\n",
       "      <th>Возраст</th>\n",
       "      <th>Диагноз</th>\n",
       "    </tr>\n",
       "  </thead>\n",
       "  <tbody>\n",
       "    <tr>\n",
       "      <th>count</th>\n",
       "      <td>768.000000</td>\n",
       "      <td>768.000000</td>\n",
       "      <td>768.000000</td>\n",
       "      <td>768.000000</td>\n",
       "      <td>768.000000</td>\n",
       "      <td>768.000000</td>\n",
       "      <td>768.000000</td>\n",
       "      <td>768.000000</td>\n",
       "      <td>768.000000</td>\n",
       "    </tr>\n",
       "    <tr>\n",
       "      <th>mean</th>\n",
       "      <td>3.845052</td>\n",
       "      <td>120.894531</td>\n",
       "      <td>69.105469</td>\n",
       "      <td>20.536458</td>\n",
       "      <td>79.799479</td>\n",
       "      <td>31.992578</td>\n",
       "      <td>0.471876</td>\n",
       "      <td>33.240885</td>\n",
       "      <td>0.348958</td>\n",
       "    </tr>\n",
       "    <tr>\n",
       "      <th>std</th>\n",
       "      <td>3.369578</td>\n",
       "      <td>31.972618</td>\n",
       "      <td>19.355807</td>\n",
       "      <td>15.952218</td>\n",
       "      <td>115.244002</td>\n",
       "      <td>7.884160</td>\n",
       "      <td>0.331329</td>\n",
       "      <td>11.760232</td>\n",
       "      <td>0.476951</td>\n",
       "    </tr>\n",
       "    <tr>\n",
       "      <th>min</th>\n",
       "      <td>0.000000</td>\n",
       "      <td>0.000000</td>\n",
       "      <td>0.000000</td>\n",
       "      <td>0.000000</td>\n",
       "      <td>0.000000</td>\n",
       "      <td>0.000000</td>\n",
       "      <td>0.078000</td>\n",
       "      <td>21.000000</td>\n",
       "      <td>0.000000</td>\n",
       "    </tr>\n",
       "    <tr>\n",
       "      <th>25%</th>\n",
       "      <td>1.000000</td>\n",
       "      <td>99.000000</td>\n",
       "      <td>62.000000</td>\n",
       "      <td>0.000000</td>\n",
       "      <td>0.000000</td>\n",
       "      <td>27.300000</td>\n",
       "      <td>0.243750</td>\n",
       "      <td>24.000000</td>\n",
       "      <td>0.000000</td>\n",
       "    </tr>\n",
       "    <tr>\n",
       "      <th>50%</th>\n",
       "      <td>3.000000</td>\n",
       "      <td>117.000000</td>\n",
       "      <td>72.000000</td>\n",
       "      <td>23.000000</td>\n",
       "      <td>30.500000</td>\n",
       "      <td>32.000000</td>\n",
       "      <td>0.372500</td>\n",
       "      <td>29.000000</td>\n",
       "      <td>0.000000</td>\n",
       "    </tr>\n",
       "    <tr>\n",
       "      <th>75%</th>\n",
       "      <td>6.000000</td>\n",
       "      <td>140.250000</td>\n",
       "      <td>80.000000</td>\n",
       "      <td>32.000000</td>\n",
       "      <td>127.250000</td>\n",
       "      <td>36.600000</td>\n",
       "      <td>0.626250</td>\n",
       "      <td>41.000000</td>\n",
       "      <td>1.000000</td>\n",
       "    </tr>\n",
       "    <tr>\n",
       "      <th>max</th>\n",
       "      <td>17.000000</td>\n",
       "      <td>199.000000</td>\n",
       "      <td>122.000000</td>\n",
       "      <td>99.000000</td>\n",
       "      <td>846.000000</td>\n",
       "      <td>67.100000</td>\n",
       "      <td>2.420000</td>\n",
       "      <td>81.000000</td>\n",
       "      <td>1.000000</td>\n",
       "    </tr>\n",
       "  </tbody>\n",
       "</table>\n",
       "</div>"
      ],
      "text/plain": [
       "       Беременность     Глюкоза          АД  Толщина КС     Инсулин  \\\n",
       "count    768.000000  768.000000  768.000000  768.000000  768.000000   \n",
       "mean       3.845052  120.894531   69.105469   20.536458   79.799479   \n",
       "std        3.369578   31.972618   19.355807   15.952218  115.244002   \n",
       "min        0.000000    0.000000    0.000000    0.000000    0.000000   \n",
       "25%        1.000000   99.000000   62.000000    0.000000    0.000000   \n",
       "50%        3.000000  117.000000   72.000000   23.000000   30.500000   \n",
       "75%        6.000000  140.250000   80.000000   32.000000  127.250000   \n",
       "max       17.000000  199.000000  122.000000   99.000000  846.000000   \n",
       "\n",
       "              ИМТ  Наследственность     Возраст     Диагноз  \n",
       "count  768.000000        768.000000  768.000000  768.000000  \n",
       "mean    31.992578          0.471876   33.240885    0.348958  \n",
       "std      7.884160          0.331329   11.760232    0.476951  \n",
       "min      0.000000          0.078000   21.000000    0.000000  \n",
       "25%     27.300000          0.243750   24.000000    0.000000  \n",
       "50%     32.000000          0.372500   29.000000    0.000000  \n",
       "75%     36.600000          0.626250   41.000000    1.000000  \n",
       "max     67.100000          2.420000   81.000000    1.000000  "
      ]
     },
     "execution_count": 46,
     "metadata": {},
     "output_type": "execute_result"
    }
   ],
   "source": [
    "dt.describe()"
   ]
  },
  {
   "cell_type": "markdown",
   "id": "518758ae-6458-4e4e-9b8f-62918df62f38",
   "metadata": {},
   "source": [
    "#### Таргентное и признаковое пространства."
   ]
  },
  {
   "cell_type": "code",
   "execution_count": 47,
   "id": "e2b13c49-6a79-495a-b7e4-aa82745f5ee7",
   "metadata": {},
   "outputs": [],
   "source": [
    "target_fin = 'Диагноз'\n",
    "X = dt.loc[:, dt.columns != target_fin]\n",
    "y = dt.loc[:, target_fin]"
   ]
  },
  {
   "cell_type": "markdown",
   "id": "4a0818ac-a3ef-4af3-abe3-87517610cbef",
   "metadata": {},
   "source": [
    "#### Разделяем данные на обучающую и тестовую выборки."
   ]
  },
  {
   "cell_type": "code",
   "execution_count": 48,
   "id": "c1da2ab0-bf2b-4145-84bd-a4dbb6129b32",
   "metadata": {},
   "outputs": [],
   "source": [
    "X_train, X_test, y_train, y_test = train_test_split(X, y, test_size=0.2, random_state=42)"
   ]
  },
  {
   "cell_type": "markdown",
   "id": "1833a548-65c8-4043-942d-65ec2b8800ab",
   "metadata": {},
   "source": [
    "#### Реализуем функцию активации и ее производную (ReLU)."
   ]
  },
  {
   "cell_type": "code",
   "execution_count": 49,
   "id": "79277663-f8e3-4ffa-b6d4-18ebee680f08",
   "metadata": {},
   "outputs": [],
   "source": [
    "def relu(x):\n",
    "    return np.maximum(0, x)"
   ]
  },
  {
   "cell_type": "code",
   "execution_count": 50,
   "id": "ab9938f6-78d2-4af9-918e-40cd7fee0142",
   "metadata": {},
   "outputs": [],
   "source": [
    "def relu_derivative(x):\n",
    "    return np.where(x > 0, 1, 0)"
   ]
  },
  {
   "cell_type": "markdown",
   "id": "e13825a5-525b-4a2b-a3ea-558ebfad0dad",
   "metadata": {},
   "source": [
    "#### Реализуем функцию активации и ее производную (Sigmoid)."
   ]
  },
  {
   "cell_type": "code",
   "execution_count": 51,
   "id": "05f5810f-b33c-486f-951e-474c9c9c0f72",
   "metadata": {},
   "outputs": [],
   "source": [
    "def sigmoid(x):\n",
    "    return 1 / (1 + np.exp(-x))"
   ]
  },
  {
   "cell_type": "code",
   "execution_count": 52,
   "id": "e7a936c3-3757-4eb2-9c52-dd5656d8378d",
   "metadata": {},
   "outputs": [],
   "source": [
    "def sigmoid_derivative(x):\n",
    "    return x * (1 - x)"
   ]
  },
  {
   "cell_type": "markdown",
   "id": "862b4499-321a-4a77-8676-1c934d997923",
   "metadata": {},
   "source": [
    "#### Сделаем инициализацию весов."
   ]
  },
  {
   "cell_type": "code",
   "execution_count": 53,
   "id": "55ac83da-183b-4082-a118-81c4ea25e8d6",
   "metadata": {},
   "outputs": [],
   "source": [
    "def initialize_weights(input_size, hidden_sizes, output_size):\n",
    "    weights = []\n",
    "    sizes = [input_size] + hidden_sizes + [output_size]\n",
    "    for i in range(1, len(sizes)):\n",
    "        weights.append(np.random.randn(sizes[i-1], sizes[i]))\n",
    "    return weights"
   ]
  },
  {
   "cell_type": "markdown",
   "id": "7cc96200-7a48-425b-8cef-da290b2b4097",
   "metadata": {},
   "source": [
    "#### Реализуем прямой прохрод."
   ]
  },
  {
   "cell_type": "code",
   "execution_count": 79,
   "id": "bf4b8092-bac4-4496-9c5b-48f608230a07",
   "metadata": {},
   "outputs": [],
   "source": [
    "def forward_pass(X, weights):\n",
    "    activations = [X]\n",
    "    for i, w in enumerate(weights):\n",
    "        net_input = np.dot(activations[i], w)\n",
    "        activation = relu(net_input) if i < len(weights) - 1 else sigmoid(net_input)\n",
    "        activations.append(activation)\n",
    "    return activations"
   ]
  },
  {
   "cell_type": "markdown",
   "id": "fe8e3bcf-4dab-4a1f-8774-76fc6a1aab75",
   "metadata": {},
   "source": [
    "#### Реализуем обратный проход."
   ]
  },
  {
   "cell_type": "code",
   "execution_count": 80,
   "id": "ebfdd3ab-0251-435d-8c2f-8c1834a6ce98",
   "metadata": {},
   "outputs": [],
   "source": [
    "def backward_pass(activations, weights, y, learning_rate):\n",
    "    output_error = y - activations[-1]\n",
    "    errors = [output_error * sigmoid_derivative(activations[-1])]\n",
    "    \n",
    "    for i in range(len(weights) - 1, 0, -1):\n",
    "        error = np.dot(errors[-1], weights[i].T) * relu_derivative(activations[i])\n",
    "        errors.append(error)\n",
    "    \n",
    "    errors.reverse()\n",
    "    \n",
    "    for i in range(len(weights)):\n",
    "        weights[i] += learning_rate * np.dot(activations[i].T, errors[i])\n",
    "    \n",
    "    return weights"
   ]
  },
  {
   "cell_type": "markdown",
   "id": "c5af6d12-e608-45b6-98dc-f4b392700b45",
   "metadata": {},
   "source": [
    "#### Реализуем функцию обучения нейронной сети."
   ]
  },
  {
   "cell_type": "code",
   "execution_count": 81,
   "id": "393cbb6b-2f5a-41a5-904d-8920299c6205",
   "metadata": {},
   "outputs": [],
   "source": [
    "def train_network(X, y, hidden_sizes, learning_rate, epochs):\n",
    "    input_size = X.shape[1]\n",
    "    output_size = 1\n",
    "    \n",
    "    # Инициализация весов\n",
    "    weights = initialize_weights(input_size, hidden_sizes, output_size)\n",
    "    \n",
    "    for epoch in range(epochs):\n",
    "        for xi, yi in zip(X, y):\n",
    "            xi_array = np.array(xi)\n",
    "            yi_array = np.array(yi)\n",
    "            xi = xi_array.reshape(1, -1)\n",
    "            yi = yi_array.reshape(1, -1)\n",
    "            \n",
    "            activations = forward_pass(xi, weights)\n",
    "            weights = backward_pass(activations, weights, yi, learning_rate)\n",
    "    \n",
    "    return weights"
   ]
  },
  {
   "cell_type": "markdown",
   "id": "6df67a07-9f1e-48c3-b661-6781f40c38be",
   "metadata": {},
   "source": [
    "#### Параметры сети."
   ]
  },
  {
   "cell_type": "code",
   "execution_count": 82,
   "id": "298ceaf0-c82a-4150-aa32-61de2c813694",
   "metadata": {},
   "outputs": [],
   "source": [
    "hidden_sizes = [4, 4]  # количество нейронов в скрытых слоях\n",
    "learning_rate = 0.1 # начальная скорость обучения# максимальное число итераций\n",
    "epochs = 1000 # максимальное число итераций"
   ]
  },
  {
   "cell_type": "markdown",
   "id": "d7448cc1-0f62-4189-a04a-232478a227f2",
   "metadata": {},
   "source": [
    "#### Обучим сеть."
   ]
  },
  {
   "cell_type": "code",
   "execution_count": 83,
   "id": "01b6b73e-8eb3-466d-9c83-66f238ba20cf",
   "metadata": {},
   "outputs": [
    {
     "ename": "ValueError",
     "evalue": "shapes (1,1) and (8,4) not aligned: 1 (dim 1) != 8 (dim 0)",
     "output_type": "error",
     "traceback": [
      "\u001b[1;31m---------------------------------------------------------------------------\u001b[0m",
      "\u001b[1;31mValueError\u001b[0m                                Traceback (most recent call last)",
      "Cell \u001b[1;32mIn[83], line 1\u001b[0m\n\u001b[1;32m----> 1\u001b[0m weights \u001b[38;5;241m=\u001b[39m train_network(X, y, hidden_sizes, learning_rate, epochs)\n",
      "Cell \u001b[1;32mIn[81], line 15\u001b[0m, in \u001b[0;36mtrain_network\u001b[1;34m(X, y, hidden_sizes, learning_rate, epochs)\u001b[0m\n\u001b[0;32m     12\u001b[0m         xi \u001b[38;5;241m=\u001b[39m xi_array\u001b[38;5;241m.\u001b[39mreshape(\u001b[38;5;241m1\u001b[39m, \u001b[38;5;241m-\u001b[39m\u001b[38;5;241m1\u001b[39m)\n\u001b[0;32m     13\u001b[0m         yi \u001b[38;5;241m=\u001b[39m yi_array\u001b[38;5;241m.\u001b[39mreshape(\u001b[38;5;241m1\u001b[39m, \u001b[38;5;241m-\u001b[39m\u001b[38;5;241m1\u001b[39m)\n\u001b[1;32m---> 15\u001b[0m         activations \u001b[38;5;241m=\u001b[39m forward_pass(xi, weights)\n\u001b[0;32m     16\u001b[0m         weights \u001b[38;5;241m=\u001b[39m backward_pass(activations, weights, yi, learning_rate)\n\u001b[0;32m     18\u001b[0m \u001b[38;5;28;01mreturn\u001b[39;00m weights\n",
      "Cell \u001b[1;32mIn[79], line 4\u001b[0m, in \u001b[0;36mforward_pass\u001b[1;34m(X, weights)\u001b[0m\n\u001b[0;32m      2\u001b[0m activations \u001b[38;5;241m=\u001b[39m [X]\n\u001b[0;32m      3\u001b[0m \u001b[38;5;28;01mfor\u001b[39;00m i, w \u001b[38;5;129;01min\u001b[39;00m \u001b[38;5;28menumerate\u001b[39m(weights):\n\u001b[1;32m----> 4\u001b[0m     net_input \u001b[38;5;241m=\u001b[39m np\u001b[38;5;241m.\u001b[39mdot(activations[i], w)\n\u001b[0;32m      5\u001b[0m     activation \u001b[38;5;241m=\u001b[39m relu(net_input) \u001b[38;5;28;01mif\u001b[39;00m i \u001b[38;5;241m<\u001b[39m \u001b[38;5;28mlen\u001b[39m(weights) \u001b[38;5;241m-\u001b[39m \u001b[38;5;241m1\u001b[39m \u001b[38;5;28;01melse\u001b[39;00m sigmoid(net_input)\n\u001b[0;32m      6\u001b[0m     activations\u001b[38;5;241m.\u001b[39mappend(activation)\n",
      "\u001b[1;31mValueError\u001b[0m: shapes (1,1) and (8,4) not aligned: 1 (dim 1) != 8 (dim 0)"
     ]
    }
   ],
   "source": [
    "weights = train_network(X, y, hidden_sizes, learning_rate, epochs)"
   ]
  },
  {
   "cell_type": "code",
   "execution_count": null,
   "id": "83e594b2-9c7e-4a17-8e88-3d8fb1e0174a",
   "metadata": {},
   "outputs": [],
   "source": []
  },
  {
   "cell_type": "code",
   "execution_count": null,
   "id": "35995063-4a45-45fc-b594-196db8efd47a",
   "metadata": {},
   "outputs": [],
   "source": []
  }
 ],
 "metadata": {
  "kernelspec": {
   "display_name": "Python 3 (ipykernel)",
   "language": "python",
   "name": "python3"
  },
  "language_info": {
   "codemirror_mode": {
    "name": "ipython",
    "version": 3
   },
   "file_extension": ".py",
   "mimetype": "text/x-python",
   "name": "python",
   "nbconvert_exporter": "python",
   "pygments_lexer": "ipython3",
   "version": "3.11.7"
  }
 },
 "nbformat": 4,
 "nbformat_minor": 5
}
